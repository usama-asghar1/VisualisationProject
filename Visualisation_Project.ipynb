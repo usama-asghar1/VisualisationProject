{
 "cells": [
  {
   "cell_type": "markdown",
   "id": "92bcd505-e4ed-4f8a-95f0-4d84bd4dd4fb",
   "metadata": {},
   "source": [
    "# Visualisation Project Report - Google Play Store"
   ]
  },
  {
   "cell_type": "markdown",
   "id": "1f077acf-7810-4992-b196-d415840dc453",
   "metadata": {},
   "source": [
    "## Installation and Imports"
   ]
  },
  {
   "cell_type": "markdown",
   "id": "87b9d349-a839-4b2e-b68e-5e723d40166c",
   "metadata": {},
   "source": [
    "Running the following inside the notebook will install all required packages. If the packages are already available, then a message will appear to confirm this."
   ]
  },
  {
   "cell_type": "code",
   "execution_count": null,
   "id": "089843cb-4dc7-4707-b382-2e27a49d222c",
   "metadata": {},
   "outputs": [],
   "source": [
    "!pip install numpy \n",
    "!pip install pandas\n",
    "!pip install seaborn\n",
    "!pip install matplotlib"
   ]
  },
  {
   "cell_type": "code",
   "execution_count": 144,
   "id": "d03493e7-dbf9-4c8c-90ca-9b292ab801f8",
   "metadata": {},
   "outputs": [],
   "source": [
    "import numpy as np\n",
    "import pandas as pd\n",
    "import seaborn as sns\n",
    "import matplotlib.pyplot as plt\n",
    "# import scipy\n",
    "# import squarify"
   ]
  },
  {
   "cell_type": "markdown",
   "id": "bfc0b039-6425-43bd-bb1f-d3674c62e952",
   "metadata": {},
   "source": [
    "## Reading the Datasets"
   ]
  },
  {
   "cell_type": "markdown",
   "id": "2504e977-7c2a-4a7c-8b5f-ce75a52f1bcd",
   "metadata": {},
   "source": [
    "The two datasets are need to be read in and I will display the first 5 records."
   ]
  },
  {
   "cell_type": "code",
   "execution_count": 182,
   "id": "36309045-328a-4126-8bcd-bcb30db04c82",
   "metadata": {},
   "outputs": [
    {
     "data": {
      "text/html": [
       "<div>\n",
       "<style scoped>\n",
       "    .dataframe tbody tr th:only-of-type {\n",
       "        vertical-align: middle;\n",
       "    }\n",
       "\n",
       "    .dataframe tbody tr th {\n",
       "        vertical-align: top;\n",
       "    }\n",
       "\n",
       "    .dataframe thead th {\n",
       "        text-align: right;\n",
       "    }\n",
       "</style>\n",
       "<table border=\"1\" class=\"dataframe\">\n",
       "  <thead>\n",
       "    <tr style=\"text-align: right;\">\n",
       "      <th></th>\n",
       "      <th>App</th>\n",
       "      <th>Category</th>\n",
       "      <th>Rating</th>\n",
       "      <th>Reviews</th>\n",
       "      <th>Size</th>\n",
       "      <th>Installs</th>\n",
       "      <th>Type</th>\n",
       "      <th>Price</th>\n",
       "      <th>Content Rating</th>\n",
       "      <th>Genres</th>\n",
       "      <th>Last Updated</th>\n",
       "      <th>Current Ver</th>\n",
       "      <th>Android Ver</th>\n",
       "    </tr>\n",
       "  </thead>\n",
       "  <tbody>\n",
       "    <tr>\n",
       "      <th>0</th>\n",
       "      <td>Photo Editor &amp; Candy Camera &amp; Grid &amp; ScrapBook</td>\n",
       "      <td>ART_AND_DESIGN</td>\n",
       "      <td>4.1</td>\n",
       "      <td>159</td>\n",
       "      <td>19M</td>\n",
       "      <td>10,000+</td>\n",
       "      <td>Free</td>\n",
       "      <td>0</td>\n",
       "      <td>Everyone</td>\n",
       "      <td>Art &amp; Design</td>\n",
       "      <td>January 7, 2018</td>\n",
       "      <td>1.0.0</td>\n",
       "      <td>4.0.3 and up</td>\n",
       "    </tr>\n",
       "    <tr>\n",
       "      <th>1</th>\n",
       "      <td>Coloring book moana</td>\n",
       "      <td>ART_AND_DESIGN</td>\n",
       "      <td>3.9</td>\n",
       "      <td>967</td>\n",
       "      <td>14M</td>\n",
       "      <td>500,000+</td>\n",
       "      <td>Free</td>\n",
       "      <td>0</td>\n",
       "      <td>Everyone</td>\n",
       "      <td>Art &amp; Design;Pretend Play</td>\n",
       "      <td>January 15, 2018</td>\n",
       "      <td>2.0.0</td>\n",
       "      <td>4.0.3 and up</td>\n",
       "    </tr>\n",
       "    <tr>\n",
       "      <th>2</th>\n",
       "      <td>U Launcher Lite – FREE Live Cool Themes, Hide ...</td>\n",
       "      <td>ART_AND_DESIGN</td>\n",
       "      <td>4.7</td>\n",
       "      <td>87510</td>\n",
       "      <td>8.7M</td>\n",
       "      <td>5,000,000+</td>\n",
       "      <td>Free</td>\n",
       "      <td>0</td>\n",
       "      <td>Everyone</td>\n",
       "      <td>Art &amp; Design</td>\n",
       "      <td>August 1, 2018</td>\n",
       "      <td>1.2.4</td>\n",
       "      <td>4.0.3 and up</td>\n",
       "    </tr>\n",
       "    <tr>\n",
       "      <th>3</th>\n",
       "      <td>Sketch - Draw &amp; Paint</td>\n",
       "      <td>ART_AND_DESIGN</td>\n",
       "      <td>4.5</td>\n",
       "      <td>215644</td>\n",
       "      <td>25M</td>\n",
       "      <td>50,000,000+</td>\n",
       "      <td>Free</td>\n",
       "      <td>0</td>\n",
       "      <td>Teen</td>\n",
       "      <td>Art &amp; Design</td>\n",
       "      <td>June 8, 2018</td>\n",
       "      <td>Varies with device</td>\n",
       "      <td>4.2 and up</td>\n",
       "    </tr>\n",
       "    <tr>\n",
       "      <th>4</th>\n",
       "      <td>Pixel Draw - Number Art Coloring Book</td>\n",
       "      <td>ART_AND_DESIGN</td>\n",
       "      <td>4.3</td>\n",
       "      <td>967</td>\n",
       "      <td>2.8M</td>\n",
       "      <td>100,000+</td>\n",
       "      <td>Free</td>\n",
       "      <td>0</td>\n",
       "      <td>Everyone</td>\n",
       "      <td>Art &amp; Design;Creativity</td>\n",
       "      <td>June 20, 2018</td>\n",
       "      <td>1.1</td>\n",
       "      <td>4.4 and up</td>\n",
       "    </tr>\n",
       "  </tbody>\n",
       "</table>\n",
       "</div>"
      ],
      "text/plain": [
       "                                                 App        Category  Rating  \\\n",
       "0     Photo Editor & Candy Camera & Grid & ScrapBook  ART_AND_DESIGN     4.1   \n",
       "1                                Coloring book moana  ART_AND_DESIGN     3.9   \n",
       "2  U Launcher Lite – FREE Live Cool Themes, Hide ...  ART_AND_DESIGN     4.7   \n",
       "3                              Sketch - Draw & Paint  ART_AND_DESIGN     4.5   \n",
       "4              Pixel Draw - Number Art Coloring Book  ART_AND_DESIGN     4.3   \n",
       "\n",
       "  Reviews  Size     Installs  Type Price Content Rating  \\\n",
       "0     159   19M      10,000+  Free     0       Everyone   \n",
       "1     967   14M     500,000+  Free     0       Everyone   \n",
       "2   87510  8.7M   5,000,000+  Free     0       Everyone   \n",
       "3  215644   25M  50,000,000+  Free     0           Teen   \n",
       "4     967  2.8M     100,000+  Free     0       Everyone   \n",
       "\n",
       "                      Genres      Last Updated         Current Ver  \\\n",
       "0               Art & Design   January 7, 2018               1.0.0   \n",
       "1  Art & Design;Pretend Play  January 15, 2018               2.0.0   \n",
       "2               Art & Design    August 1, 2018               1.2.4   \n",
       "3               Art & Design      June 8, 2018  Varies with device   \n",
       "4    Art & Design;Creativity     June 20, 2018                 1.1   \n",
       "\n",
       "    Android Ver  \n",
       "0  4.0.3 and up  \n",
       "1  4.0.3 and up  \n",
       "2  4.0.3 and up  \n",
       "3    4.2 and up  \n",
       "4    4.4 and up  "
      ]
     },
     "execution_count": 182,
     "metadata": {},
     "output_type": "execute_result"
    }
   ],
   "source": [
    "google_store = pd.read_csv('googleplaystore.csv')\n",
    "google_store.head()"
   ]
  },
  {
   "cell_type": "code",
   "execution_count": 183,
   "id": "dc07bd2c-95f6-4cc2-b390-b200aeb95b58",
   "metadata": {},
   "outputs": [
    {
     "data": {
      "text/html": [
       "<div>\n",
       "<style scoped>\n",
       "    .dataframe tbody tr th:only-of-type {\n",
       "        vertical-align: middle;\n",
       "    }\n",
       "\n",
       "    .dataframe tbody tr th {\n",
       "        vertical-align: top;\n",
       "    }\n",
       "\n",
       "    .dataframe thead th {\n",
       "        text-align: right;\n",
       "    }\n",
       "</style>\n",
       "<table border=\"1\" class=\"dataframe\">\n",
       "  <thead>\n",
       "    <tr style=\"text-align: right;\">\n",
       "      <th></th>\n",
       "      <th>App</th>\n",
       "      <th>Translated_Review</th>\n",
       "      <th>Sentiment</th>\n",
       "      <th>Sentiment_Polarity</th>\n",
       "      <th>Sentiment_Subjectivity</th>\n",
       "    </tr>\n",
       "  </thead>\n",
       "  <tbody>\n",
       "    <tr>\n",
       "      <th>0</th>\n",
       "      <td>10 Best Foods for You</td>\n",
       "      <td>I like eat delicious food. That's I'm cooking ...</td>\n",
       "      <td>Positive</td>\n",
       "      <td>1.00</td>\n",
       "      <td>0.533333</td>\n",
       "    </tr>\n",
       "    <tr>\n",
       "      <th>1</th>\n",
       "      <td>10 Best Foods for You</td>\n",
       "      <td>This help eating healthy exercise regular basis</td>\n",
       "      <td>Positive</td>\n",
       "      <td>0.25</td>\n",
       "      <td>0.288462</td>\n",
       "    </tr>\n",
       "    <tr>\n",
       "      <th>2</th>\n",
       "      <td>10 Best Foods for You</td>\n",
       "      <td>NaN</td>\n",
       "      <td>NaN</td>\n",
       "      <td>NaN</td>\n",
       "      <td>NaN</td>\n",
       "    </tr>\n",
       "    <tr>\n",
       "      <th>3</th>\n",
       "      <td>10 Best Foods for You</td>\n",
       "      <td>Works great especially going grocery store</td>\n",
       "      <td>Positive</td>\n",
       "      <td>0.40</td>\n",
       "      <td>0.875000</td>\n",
       "    </tr>\n",
       "    <tr>\n",
       "      <th>4</th>\n",
       "      <td>10 Best Foods for You</td>\n",
       "      <td>Best idea us</td>\n",
       "      <td>Positive</td>\n",
       "      <td>1.00</td>\n",
       "      <td>0.300000</td>\n",
       "    </tr>\n",
       "  </tbody>\n",
       "</table>\n",
       "</div>"
      ],
      "text/plain": [
       "                     App                                  Translated_Review  \\\n",
       "0  10 Best Foods for You  I like eat delicious food. That's I'm cooking ...   \n",
       "1  10 Best Foods for You    This help eating healthy exercise regular basis   \n",
       "2  10 Best Foods for You                                                NaN   \n",
       "3  10 Best Foods for You         Works great especially going grocery store   \n",
       "4  10 Best Foods for You                                       Best idea us   \n",
       "\n",
       "  Sentiment  Sentiment_Polarity  Sentiment_Subjectivity  \n",
       "0  Positive                1.00                0.533333  \n",
       "1  Positive                0.25                0.288462  \n",
       "2       NaN                 NaN                     NaN  \n",
       "3  Positive                0.40                0.875000  \n",
       "4  Positive                1.00                0.300000  "
      ]
     },
     "execution_count": 183,
     "metadata": {},
     "output_type": "execute_result"
    }
   ],
   "source": [
    "google_store_reviews = pd.read_csv('googleplaystore_user_reviews.csv')\n",
    "google_store_reviews.head()"
   ]
  },
  {
   "cell_type": "markdown",
   "id": "b593675d-00e0-45b7-b168-8a05c4f1e4a4",
   "metadata": {},
   "source": [
    "## Data Cleaning \n",
    "\n",
    "Certain checks can be done on the dataset to see if there are any NaN, null or duplicated values that need to be dealt with before beginning to analyse the data and draw insights. "
   ]
  },
  {
   "cell_type": "markdown",
   "id": "b12adc53-b0dc-4c2c-8cbf-89527b522b26",
   "metadata": {
    "jp-MarkdownHeadingCollapsed": true
   },
   "source": [
    "### google_store - Data Cleaning"
   ]
  },
  {
   "cell_type": "code",
   "execution_count": 184,
   "id": "40e3324a-d5cc-4aea-ac37-97de4b5c9e80",
   "metadata": {},
   "outputs": [
    {
     "data": {
      "text/plain": [
       "483"
      ]
     },
     "execution_count": 184,
     "metadata": {},
     "output_type": "execute_result"
    }
   ],
   "source": [
    "# Check to see the total number of duplicates in the google_store dataset\n",
    "google_store.duplicated().sum()"
   ]
  },
  {
   "cell_type": "code",
   "execution_count": 185,
   "id": "560c51f4-8616-4edb-8628-653f2b80f48e",
   "metadata": {},
   "outputs": [],
   "source": [
    "# Drop the duplicates and assign the result to a new variable\n",
    "google_store_no_duplicates = google_store.drop_duplicates()"
   ]
  },
  {
   "cell_type": "code",
   "execution_count": 186,
   "id": "95766de9-45ea-4252-8036-075e10557ac9",
   "metadata": {},
   "outputs": [
    {
     "data": {
      "text/plain": [
       "App                  0\n",
       "Category             0\n",
       "Rating            1465\n",
       "Reviews              0\n",
       "Size                 0\n",
       "Installs             0\n",
       "Type                 1\n",
       "Price                0\n",
       "Content Rating       1\n",
       "Genres               0\n",
       "Last Updated         0\n",
       "Current Ver          8\n",
       "Android Ver          3\n",
       "dtype: int64"
      ]
     },
     "execution_count": 186,
     "metadata": {},
     "output_type": "execute_result"
    }
   ],
   "source": [
    "# Check to see the total number of null values in the google_store dataset\n",
    "google_store_no_duplicates.isnull().sum()"
   ]
  },
  {
   "cell_type": "code",
   "execution_count": 187,
   "id": "595a9574-f208-4d84-884e-fbd68e47aa5e",
   "metadata": {},
   "outputs": [
    {
     "data": {
      "text/plain": [
       "App                  0\n",
       "Category             0\n",
       "Rating            1465\n",
       "Reviews              0\n",
       "Size                 0\n",
       "Installs             0\n",
       "Type                 1\n",
       "Price                0\n",
       "Content Rating       1\n",
       "Genres               0\n",
       "Last Updated         0\n",
       "Current Ver          8\n",
       "Android Ver          3\n",
       "dtype: int64"
      ]
     },
     "execution_count": 187,
     "metadata": {},
     "output_type": "execute_result"
    }
   ],
   "source": [
    "# Check to see the total number of NaN values in the google_store dataset\n",
    "google_store_no_duplicates.isna().sum()"
   ]
  },
  {
   "cell_type": "code",
   "execution_count": 188,
   "id": "940b9991-1224-4e13-823d-1e104631981d",
   "metadata": {},
   "outputs": [],
   "source": [
    "# Drop the NaN values and assign the result to a new variable\n",
    "google_store_no_nan = google_store_no_duplicates.dropna()"
   ]
  },
  {
   "cell_type": "code",
   "execution_count": 189,
   "id": "3b67eac3-7480-4be2-b60c-a24b3962ff57",
   "metadata": {},
   "outputs": [],
   "source": [
    "# Remove the '+' symbol character from 'Installs' coulmn\n",
    "google_store_no_nan.loc[:,'Installs'] = google_store_no_nan['Installs'].str.replace('+', '')\n",
    "\n",
    "# Remove the ',' character from the 'Installs' column\n",
    "google_store_no_nan.loc[:,'Installs'] = google_store_no_nan['Installs'].str.replace(',', '')\n",
    "\n",
    "# Convert the 'Installs' column to an integer\n",
    "google_store_no_nan.loc[:,'Installs'] = google_store_no_nan['Installs'].astype(int)"
   ]
  },
  {
   "cell_type": "code",
   "execution_count": 203,
   "id": "e491e6a0-f89f-46a7-9b58-190ac21ad994",
   "metadata": {},
   "outputs": [],
   "source": [
    "# Assign the cleaned dataset to a new variable\n",
    "google_store_cleaned = google_store_no_nan"
   ]
  },
  {
   "cell_type": "code",
   "execution_count": 201,
   "id": "83dd85ae-fc7a-47d6-87e3-a7fc36c2340a",
   "metadata": {},
   "outputs": [
    {
     "data": {
      "text/html": [
       "<div>\n",
       "<style scoped>\n",
       "    .dataframe tbody tr th:only-of-type {\n",
       "        vertical-align: middle;\n",
       "    }\n",
       "\n",
       "    .dataframe tbody tr th {\n",
       "        vertical-align: top;\n",
       "    }\n",
       "\n",
       "    .dataframe thead th {\n",
       "        text-align: right;\n",
       "    }\n",
       "</style>\n",
       "<table border=\"1\" class=\"dataframe\">\n",
       "  <thead>\n",
       "    <tr style=\"text-align: right;\">\n",
       "      <th></th>\n",
       "      <th>App</th>\n",
       "      <th>Category</th>\n",
       "      <th>Rating</th>\n",
       "      <th>Reviews</th>\n",
       "      <th>Size</th>\n",
       "      <th>Installs</th>\n",
       "      <th>Type</th>\n",
       "      <th>Price</th>\n",
       "      <th>Content Rating</th>\n",
       "      <th>Genres</th>\n",
       "      <th>Last Updated</th>\n",
       "      <th>Current Ver</th>\n",
       "      <th>Android Ver</th>\n",
       "    </tr>\n",
       "  </thead>\n",
       "  <tbody>\n",
       "    <tr>\n",
       "      <th>0</th>\n",
       "      <td>Photo Editor &amp; Candy Camera &amp; Grid &amp; ScrapBook</td>\n",
       "      <td>ART_AND_DESIGN</td>\n",
       "      <td>4.1</td>\n",
       "      <td>159</td>\n",
       "      <td>19M</td>\n",
       "      <td>10000</td>\n",
       "      <td>Free</td>\n",
       "      <td>0</td>\n",
       "      <td>Everyone</td>\n",
       "      <td>Art &amp; Design</td>\n",
       "      <td>January 7, 2018</td>\n",
       "      <td>1.0.0</td>\n",
       "      <td>4.0.3 and up</td>\n",
       "    </tr>\n",
       "    <tr>\n",
       "      <th>1</th>\n",
       "      <td>Coloring book moana</td>\n",
       "      <td>ART_AND_DESIGN</td>\n",
       "      <td>3.9</td>\n",
       "      <td>967</td>\n",
       "      <td>14M</td>\n",
       "      <td>500000</td>\n",
       "      <td>Free</td>\n",
       "      <td>0</td>\n",
       "      <td>Everyone</td>\n",
       "      <td>Art &amp; Design;Pretend Play</td>\n",
       "      <td>January 15, 2018</td>\n",
       "      <td>2.0.0</td>\n",
       "      <td>4.0.3 and up</td>\n",
       "    </tr>\n",
       "    <tr>\n",
       "      <th>2</th>\n",
       "      <td>U Launcher Lite – FREE Live Cool Themes, Hide ...</td>\n",
       "      <td>ART_AND_DESIGN</td>\n",
       "      <td>4.7</td>\n",
       "      <td>87510</td>\n",
       "      <td>8.7M</td>\n",
       "      <td>5000000</td>\n",
       "      <td>Free</td>\n",
       "      <td>0</td>\n",
       "      <td>Everyone</td>\n",
       "      <td>Art &amp; Design</td>\n",
       "      <td>August 1, 2018</td>\n",
       "      <td>1.2.4</td>\n",
       "      <td>4.0.3 and up</td>\n",
       "    </tr>\n",
       "    <tr>\n",
       "      <th>3</th>\n",
       "      <td>Sketch - Draw &amp; Paint</td>\n",
       "      <td>ART_AND_DESIGN</td>\n",
       "      <td>4.5</td>\n",
       "      <td>215644</td>\n",
       "      <td>25M</td>\n",
       "      <td>50000000</td>\n",
       "      <td>Free</td>\n",
       "      <td>0</td>\n",
       "      <td>Teen</td>\n",
       "      <td>Art &amp; Design</td>\n",
       "      <td>June 8, 2018</td>\n",
       "      <td>Varies with device</td>\n",
       "      <td>4.2 and up</td>\n",
       "    </tr>\n",
       "    <tr>\n",
       "      <th>4</th>\n",
       "      <td>Pixel Draw - Number Art Coloring Book</td>\n",
       "      <td>ART_AND_DESIGN</td>\n",
       "      <td>4.3</td>\n",
       "      <td>967</td>\n",
       "      <td>2.8M</td>\n",
       "      <td>100000</td>\n",
       "      <td>Free</td>\n",
       "      <td>0</td>\n",
       "      <td>Everyone</td>\n",
       "      <td>Art &amp; Design;Creativity</td>\n",
       "      <td>June 20, 2018</td>\n",
       "      <td>1.1</td>\n",
       "      <td>4.4 and up</td>\n",
       "    </tr>\n",
       "  </tbody>\n",
       "</table>\n",
       "</div>"
      ],
      "text/plain": [
       "                                                 App        Category  Rating  \\\n",
       "0     Photo Editor & Candy Camera & Grid & ScrapBook  ART_AND_DESIGN     4.1   \n",
       "1                                Coloring book moana  ART_AND_DESIGN     3.9   \n",
       "2  U Launcher Lite – FREE Live Cool Themes, Hide ...  ART_AND_DESIGN     4.7   \n",
       "3                              Sketch - Draw & Paint  ART_AND_DESIGN     4.5   \n",
       "4              Pixel Draw - Number Art Coloring Book  ART_AND_DESIGN     4.3   \n",
       "\n",
       "  Reviews  Size  Installs  Type Price Content Rating  \\\n",
       "0     159   19M     10000  Free     0       Everyone   \n",
       "1     967   14M    500000  Free     0       Everyone   \n",
       "2   87510  8.7M   5000000  Free     0       Everyone   \n",
       "3  215644   25M  50000000  Free     0           Teen   \n",
       "4     967  2.8M    100000  Free     0       Everyone   \n",
       "\n",
       "                      Genres      Last Updated         Current Ver  \\\n",
       "0               Art & Design   January 7, 2018               1.0.0   \n",
       "1  Art & Design;Pretend Play  January 15, 2018               2.0.0   \n",
       "2               Art & Design    August 1, 2018               1.2.4   \n",
       "3               Art & Design      June 8, 2018  Varies with device   \n",
       "4    Art & Design;Creativity     June 20, 2018                 1.1   \n",
       "\n",
       "    Android Ver  \n",
       "0  4.0.3 and up  \n",
       "1  4.0.3 and up  \n",
       "2  4.0.3 and up  \n",
       "3    4.2 and up  \n",
       "4    4.4 and up  "
      ]
     },
     "execution_count": 201,
     "metadata": {},
     "output_type": "execute_result"
    }
   ],
   "source": [
    "google_store_cleaned.head()"
   ]
  },
  {
   "cell_type": "markdown",
   "id": "175d34c0-1000-4e3e-ad49-b501b9788711",
   "metadata": {},
   "source": [
    "The **google_store_cleaned** variable now contains the cleaned dataset that does not include duplicated records or null records. It was important to drop the null and NaN records in the rating because this would skew the insights when making plots. The string characters were also removed from the 'Installs' column which was neccessary as the integer value would be used for analysis only. "
   ]
  },
  {
   "cell_type": "markdown",
   "id": "0a952dc5-571d-4516-81be-3fc26cfccfe0",
   "metadata": {},
   "source": [
    "### google_store_reviews - Data Cleaning"
   ]
  },
  {
   "cell_type": "code",
   "execution_count": 204,
   "id": "28cf56fd-b927-4f99-a5f1-e5db3833d7cc",
   "metadata": {},
   "outputs": [
    {
     "data": {
      "text/plain": [
       "33616"
      ]
     },
     "execution_count": 204,
     "metadata": {},
     "output_type": "execute_result"
    }
   ],
   "source": [
    "# Check to see the total number of duplicates in the google_store_reviews dataset\n",
    "google_store_reviews.duplicated().sum()"
   ]
  },
  {
   "cell_type": "code",
   "execution_count": 193,
   "id": "fd0c0ef6-9d5e-480c-84ea-2c776a96404f",
   "metadata": {},
   "outputs": [],
   "source": [
    "# Drop the duplicates and assign the result to a new variable\n",
    "google_store_reviews_no_duplicates = google_store_reviews.drop_duplicates()"
   ]
  },
  {
   "cell_type": "code",
   "execution_count": 195,
   "id": "c83ada07-4f56-4afa-9942-1667ddf5910f",
   "metadata": {},
   "outputs": [
    {
     "data": {
      "text/plain": [
       "App                         0\n",
       "Translated_Review         987\n",
       "Sentiment                 982\n",
       "Sentiment_Polarity        982\n",
       "Sentiment_Subjectivity    982\n",
       "dtype: int64"
      ]
     },
     "execution_count": 195,
     "metadata": {},
     "output_type": "execute_result"
    }
   ],
   "source": [
    "# Check to see the total number of null values\n",
    "google_store_reviews_no_duplicates.isnull().sum()"
   ]
  },
  {
   "cell_type": "code",
   "execution_count": 196,
   "id": "d10ad88d-88bb-4aff-a143-3c57a5b02d27",
   "metadata": {},
   "outputs": [
    {
     "data": {
      "text/plain": [
       "App                         0\n",
       "Translated_Review         987\n",
       "Sentiment                 982\n",
       "Sentiment_Polarity        982\n",
       "Sentiment_Subjectivity    982\n",
       "dtype: int64"
      ]
     },
     "execution_count": 196,
     "metadata": {},
     "output_type": "execute_result"
    }
   ],
   "source": [
    "# Check to see the total number of NaN values\n",
    "google_store_reviews_no_duplicates.isna().sum()"
   ]
  },
  {
   "cell_type": "code",
   "execution_count": 197,
   "id": "4bed5f72-b747-4e5c-a602-5dfc5d15ec70",
   "metadata": {},
   "outputs": [],
   "source": [
    "# Drop the NaN values and assign the result to a new variable\n",
    "google_store_reviews_cleaned = google_store_reviews_no_duplicates.dropna()"
   ]
  },
  {
   "cell_type": "code",
   "execution_count": 198,
   "id": "ed82d1b3-b49f-4464-9e19-7c641e8ae1e7",
   "metadata": {},
   "outputs": [],
   "source": [
    "# Select entire Sentiment Polarity and Sentiment Subjectivity columns and round the values to 2.d.p\n",
    "google_store_reviews_cleaned.loc[:, 'Sentiment_Polarity'] = google_store_reviews_cleaned['Sentiment_Polarity'].round(2)\n",
    "google_store_reviews_cleaned.loc[:, 'Sentiment_Subjectivity'] = google_store_reviews_cleaned['Sentiment_Subjectivity'].round(2)"
   ]
  },
  {
   "cell_type": "code",
   "execution_count": 199,
   "id": "2172d05b-f462-48ff-af32-39d0ee17798d",
   "metadata": {},
   "outputs": [
    {
     "data": {
      "text/html": [
       "<div>\n",
       "<style scoped>\n",
       "    .dataframe tbody tr th:only-of-type {\n",
       "        vertical-align: middle;\n",
       "    }\n",
       "\n",
       "    .dataframe tbody tr th {\n",
       "        vertical-align: top;\n",
       "    }\n",
       "\n",
       "    .dataframe thead th {\n",
       "        text-align: right;\n",
       "    }\n",
       "</style>\n",
       "<table border=\"1\" class=\"dataframe\">\n",
       "  <thead>\n",
       "    <tr style=\"text-align: right;\">\n",
       "      <th></th>\n",
       "      <th>App</th>\n",
       "      <th>Translated_Review</th>\n",
       "      <th>Sentiment</th>\n",
       "      <th>Sentiment_Polarity</th>\n",
       "      <th>Sentiment_Subjectivity</th>\n",
       "    </tr>\n",
       "  </thead>\n",
       "  <tbody>\n",
       "    <tr>\n",
       "      <th>0</th>\n",
       "      <td>10 Best Foods for You</td>\n",
       "      <td>I like eat delicious food. That's I'm cooking ...</td>\n",
       "      <td>Positive</td>\n",
       "      <td>1.00</td>\n",
       "      <td>0.53</td>\n",
       "    </tr>\n",
       "    <tr>\n",
       "      <th>1</th>\n",
       "      <td>10 Best Foods for You</td>\n",
       "      <td>This help eating healthy exercise regular basis</td>\n",
       "      <td>Positive</td>\n",
       "      <td>0.25</td>\n",
       "      <td>0.29</td>\n",
       "    </tr>\n",
       "    <tr>\n",
       "      <th>3</th>\n",
       "      <td>10 Best Foods for You</td>\n",
       "      <td>Works great especially going grocery store</td>\n",
       "      <td>Positive</td>\n",
       "      <td>0.40</td>\n",
       "      <td>0.88</td>\n",
       "    </tr>\n",
       "    <tr>\n",
       "      <th>4</th>\n",
       "      <td>10 Best Foods for You</td>\n",
       "      <td>Best idea us</td>\n",
       "      <td>Positive</td>\n",
       "      <td>1.00</td>\n",
       "      <td>0.30</td>\n",
       "    </tr>\n",
       "    <tr>\n",
       "      <th>5</th>\n",
       "      <td>10 Best Foods for You</td>\n",
       "      <td>Best way</td>\n",
       "      <td>Positive</td>\n",
       "      <td>1.00</td>\n",
       "      <td>0.30</td>\n",
       "    </tr>\n",
       "  </tbody>\n",
       "</table>\n",
       "</div>"
      ],
      "text/plain": [
       "                     App                                  Translated_Review  \\\n",
       "0  10 Best Foods for You  I like eat delicious food. That's I'm cooking ...   \n",
       "1  10 Best Foods for You    This help eating healthy exercise regular basis   \n",
       "3  10 Best Foods for You         Works great especially going grocery store   \n",
       "4  10 Best Foods for You                                       Best idea us   \n",
       "5  10 Best Foods for You                                           Best way   \n",
       "\n",
       "  Sentiment  Sentiment_Polarity  Sentiment_Subjectivity  \n",
       "0  Positive                1.00                    0.53  \n",
       "1  Positive                0.25                    0.29  \n",
       "3  Positive                0.40                    0.88  \n",
       "4  Positive                1.00                    0.30  \n",
       "5  Positive                1.00                    0.30  "
      ]
     },
     "execution_count": 199,
     "metadata": {},
     "output_type": "execute_result"
    }
   ],
   "source": [
    "google_store_reviews_cleaned.head()"
   ]
  },
  {
   "cell_type": "markdown",
   "id": "9fd82e63-c597-444b-b4ab-f042ed8869f9",
   "metadata": {},
   "source": [
    "The **google_store_reviews_cleaned** variable now contains the cleaned dataset. The dataset for the google reviews showed the 'Most Relevant' 100 reviews for each app. There are records with complete NaN entries in them - one reason could be that certain apps do not have 100 reviews in total, in any case, there are records that are entered that are of complete NaN values that have to be removed. To keep uniformity and consistency, the float number for the 'Sentiment Polarity' and 'Sentiment Subjectivity' is standardised to 2.d.p."
   ]
  },
  {
   "cell_type": "markdown",
   "id": "d1e7c18e-c743-4018-be24-fe79a6fbf4ed",
   "metadata": {
    "jp-MarkdownHeadingCollapsed": true
   },
   "source": [
    "## Installation Number vs Type of App \n",
    "\n",
    "I will compare the number of installs with the type of app it is to see what the data suggests, whether applications that are free or paid result in a greater number of installs. "
   ]
  },
  {
   "cell_type": "code",
   "execution_count": 75,
   "id": "cfdfbe20-35cb-41c2-8cc3-9f1b0c5a3438",
   "metadata": {},
   "outputs": [
    {
     "data": {
      "text/html": [
       "<div>\n",
       "<style scoped>\n",
       "    .dataframe tbody tr th:only-of-type {\n",
       "        vertical-align: middle;\n",
       "    }\n",
       "\n",
       "    .dataframe tbody tr th {\n",
       "        vertical-align: top;\n",
       "    }\n",
       "\n",
       "    .dataframe thead th {\n",
       "        text-align: right;\n",
       "    }\n",
       "</style>\n",
       "<table border=\"1\" class=\"dataframe\">\n",
       "  <thead>\n",
       "    <tr style=\"text-align: right;\">\n",
       "      <th></th>\n",
       "      <th>Type</th>\n",
       "      <th>Installs</th>\n",
       "    </tr>\n",
       "  </thead>\n",
       "  <tbody>\n",
       "    <tr>\n",
       "      <th>0</th>\n",
       "      <td>Free</td>\n",
       "      <td>10,000+</td>\n",
       "    </tr>\n",
       "    <tr>\n",
       "      <th>1</th>\n",
       "      <td>Free</td>\n",
       "      <td>500,000+</td>\n",
       "    </tr>\n",
       "    <tr>\n",
       "      <th>2</th>\n",
       "      <td>Free</td>\n",
       "      <td>5,000,000+</td>\n",
       "    </tr>\n",
       "    <tr>\n",
       "      <th>3</th>\n",
       "      <td>Free</td>\n",
       "      <td>50,000,000+</td>\n",
       "    </tr>\n",
       "    <tr>\n",
       "      <th>4</th>\n",
       "      <td>Free</td>\n",
       "      <td>100,000+</td>\n",
       "    </tr>\n",
       "    <tr>\n",
       "      <th>...</th>\n",
       "      <td>...</td>\n",
       "      <td>...</td>\n",
       "    </tr>\n",
       "    <tr>\n",
       "      <th>10834</th>\n",
       "      <td>Free</td>\n",
       "      <td>500+</td>\n",
       "    </tr>\n",
       "    <tr>\n",
       "      <th>10836</th>\n",
       "      <td>Free</td>\n",
       "      <td>5,000+</td>\n",
       "    </tr>\n",
       "    <tr>\n",
       "      <th>10837</th>\n",
       "      <td>Free</td>\n",
       "      <td>100+</td>\n",
       "    </tr>\n",
       "    <tr>\n",
       "      <th>10839</th>\n",
       "      <td>Free</td>\n",
       "      <td>1,000+</td>\n",
       "    </tr>\n",
       "    <tr>\n",
       "      <th>10840</th>\n",
       "      <td>Free</td>\n",
       "      <td>10,000,000+</td>\n",
       "    </tr>\n",
       "  </tbody>\n",
       "</table>\n",
       "<p>8886 rows × 2 columns</p>\n",
       "</div>"
      ],
      "text/plain": [
       "       Type     Installs\n",
       "0      Free      10,000+\n",
       "1      Free     500,000+\n",
       "2      Free   5,000,000+\n",
       "3      Free  50,000,000+\n",
       "4      Free     100,000+\n",
       "...     ...          ...\n",
       "10834  Free         500+\n",
       "10836  Free       5,000+\n",
       "10837  Free         100+\n",
       "10839  Free       1,000+\n",
       "10840  Free  10,000,000+\n",
       "\n",
       "[8886 rows x 2 columns]"
      ]
     },
     "execution_count": 75,
     "metadata": {},
     "output_type": "execute_result"
    }
   ],
   "source": [
    "installs_and_type = google_store_cleaned[['Type', 'Installs']]\n",
    "installs_and_type"
   ]
  },
  {
   "cell_type": "code",
   "execution_count": 73,
   "id": "4e8dc266-dacc-4601-a519-03836f52985d",
   "metadata": {},
   "outputs": [
    {
     "ename": "TypeError",
     "evalue": "Could not convert string '10,000+500,000+5,000,000+50,000,000+100,000+50,000+50,000+1,000,000+1,000,000+10,000+1,000,000+1,000,000+10,000,000+100,000+100,000+500,000+10,000+5,000,000+10,000,000+100,000+100,000+500,000+50,000+10,000+500,000+100,000+10,000+100,000+100,000+50,000+100,000+100,000+10,000+100,000+500,000+5,000,000+10,000+500,000+10,000+100,000+10,000,000+100,000+10,000+10,000,000+100,000+100,000+100,000+100,000+1,000,000+100,000+1,000,000+100,000+100,000+100,000+50,000+100,000+100,000+100,000+10,000+100,000+1,000,000+100,000+100,000+10,000+50,000+5,000,000+100,000+5,000,000+5,000,000+500,000+10,000,000+100,000+500,000+50,000+100,000+1,000,000+100,000+1,000,000+50,000+1,000,000+500,000+100,000+1,000,000+1,000,000+100,000+100,000+1,000,000+100,000+100,000+1,000,000+1,000,000+1,000,000+1,000,000+500,000+500,000+100,000+500,000+1,000,000+100,000+500,000+1,000,000+500,000+100,000+1,000,000+50,000+1,000,000+10,000+1,000,000+100,000+10,000+50,000+10,000+10,000+10,000+10,000,000+500,000+1,000,000+50,000+10,000+1,000,000+500,000+500,000+10,000+5,000+100,000+5,000+100,000+10,000+1,000,000+50,000+10,000+100,000,000+50,000+100,000+10,000,000+100,000,000+10,000,000+10,000,000+10,000,000+100,000+1,000,000+10,000,000+500,000+1,000,000+1,000,000,000+5,000,000+100,000+10,000,000+500,000+10,000,000+1,000,000+1,000,000+500,000+1,000,000+500,000+5,000,000+100,000+5,000,000+500,000+1,000,000+500,000+500,000+1,000,000+5,000,000+10,000,000+100,000+100,000+100,000+50,000+500,000+10,000,000+1,000,000+1,000,000+1,000,000+500,000+10,000,000+10,000,000+50,000,000+10,000,000+5,000,000+1,000,000+50,000,000+5,000,000+100,000,000+1,000,000+1,000,000+500,000+10,000,000+5,000,000+1,000,000+50,000,000+10,000,000+1,000,000+10,000,000+5,000,000+5,000,000+5,000,000+5,000,000+100,000+1,000,000+1,000,000+1,000,000+10,000,000+5,000,000+1,000,000+5,000,000+100,000+10,000,000+1,000,000+1,000,000+100,000+5,000,000+1,000,000+100,000+50,000,000+5,000,000+1,000,000+1,000,000+10,000,000+10,000,000+1,000,000+50,000+5,000,000+5,000,000+100,000+100,000+1,000,000+500,000+100,000+500,000+500,000+1,000,000+1,000,000+1,000,000+100,000+100,000+1,000,000+1,000,000+10,000,000+100,000+100,000+5,000,000+50,000+1,000,000+500,000+10,000,000+5,000,000+100,000,000+5,000,000+10,000+10,000,000+500,000+1,000,000+500,000+50,000+50,000+50,000+1,000,000+10,000+10,000+10,000+10,000+10,000+100,000+5,000,000+100,000+1,000,000+100,000+1,000,000+1,000,000+1,000,000+1,000,000+100,000+5,000,000+100,000+10,000+10,000+5,000+500,000+1,000,000+5,000+1,000+5,000,000+10,000+50,000+1,000,000+100,000+1,000,000,000+1,000,000,000+10,000,000+1,000,000,000+100,000,000+1,000,000,000+1,000,000,000+500,000,000+5,000,000+100,000,000+100,000,000+100,000,000+500,000,000+50,000,000+5,000,000+5,000,000+100,000,000+10,000,000+10,000,000+10,000,000+10,000,000+100,000,000+1,000,000+1,000,000+10,000,000+5,000,000+10,000,000+10,000,000+100,000,000+5,000,000+100,000,000+100,000,000+10,000,000+1,000,000+100,000,000+100,000,000+500,000,000+10,000,000+1,000,000+100,000+10,000,000+10,000,000+10,000,000+500,000,000+5,000,000+5,000,000+1,000,000,000+500,000,000+10,000,000+500,000,000+1,000,000,000+10,000,000+5,000,000+50,000,000+100,000,000+1,000,000,000+100,000,000+100,000,000+100,000,000+1,000,000+10,000,000+10,000,000+10,000,000+10,000,000+10,000,000+500,000,000+10,000,000+1,000,000+100,000,000+100,000,000+1,000,000+1,000,000+10,000,000+1,000,000,000+100,000,000+50,000,000+100,000,000+1,000,000+100,000,000+50,000,000+100,000,000+500,000,000+1,000,000+1,000,000+1,000,000+10,000,000+500,000+500,000+10,000,000+10,000,000+1,000,000+1,000,000+5,000,000+10,000,000+1,000,000+10,000,000+1,000,000+1,000,000+10,000,000+10,000,000+5,000,000+10,000,000+5,000,000+1,000,000+1,000,000+5,000,000+1,000,000+100,000,000+1,000,000+1,000,000,000+100,000,000+5,000,000+10,000,000+1,000,000+1,000,000+1,000,000+10,000,000+50,000,000+10,000+5,000,000+1,000,000+500,000+1,000,000,000+500,000,000+1,000,000+5,000,000+10,000,000+10,000,000+10,000,000+100,000+500,000+5,000,000+1,000,000+10,000,000+1,000,000+10,000,000+5,000,000+5,000,000+100,000+500,000+1,000,000+1,000,000+10,000+1,000,000+1,000,000+100,000+10,000,000+1,000,000+100,000+500,000+5,000+500,000+5,000,000+1,000,000+100,000+1,000,000+1,000,000+100,000+100,000+500,000+500,000+500,000+100,000+500,000+500,000+100,000+50,000+1,000,000+1,000,000+100,000+100,000+100,000+10,000+100,000+1,000,000+100,000+10,000,000+500,000+100,000+1,000,000+50,000+5,000,000+500,000+100,000+100,000+500,000+100,000+10,000+100,000+1,000,000+50,000+500,000+1,000,000+100,000+10,000+500,000+1,000,000+100,000+10,000+10,000+10,000,000+1,000,000+500,000+500,000+500,000+1,000,000+100,000+500,000+10,000+100,000+100,000+500,000+1,000,000+10,000+1,000,000+10,000,000+10,000+100,000+10,000+1,000,000+1,000,000+50,000+10,000+500,000+5,000,000+1,000,000+1,000+5,000+1,000+500+5,000+10,000+100+10,000+100+1,000+1,000+100+500+5,000+100+5,000+10+500+500+100+100+500+1,000+100+10,000+500+1,000+100+1,000,000+100,000+100,000+5,000,000+100,000+1,000,000+500,000+500,000+500+10,000+50,000+10,000+5,000+10,000+1,000+10,000+1,000,000+100,000,000+10,000,000+100,000+5,000,000+10,000,000+5,000,000+1,000,000+500,000+500,000+1,000,000+1,000,000+5,000,000+1,000,000+500,000+5,000,000+500,000+1,000,000+10,000,000+10,000,000+1,000,000+5,000,000+50,000+1,000,000+1,000,000+1,000,000+1,000,000+1,000,000+500,000+1,000,000+5,000,000+1,000,000+500,000+500,000+100,000+10,000,000+100,000+5,000,000+10,000,000+10,000,000+1,000,000+5,000,000+1,000,000+5,000,000+5,000,000+10,000,000+1,000,000+1,000,000+1,000,000+1,000,000+10,000+50,000+1,000,000+1,000,000+1,000,000+1,000,000+1,000,000+1,000,000+1,000,000+1,000,000+1,000,000+1,000,000+100,000+1,000,000+100,000+10,000+10,000+50,000+500,000+100,000+100,000+100,000+10,000+100,000+100,000+50,000+50,000+100,000+100,000+100,000,000+1,000,000+5,000,000+10,000,000+10,000,000+1,000,000+10,000,000+1,000,000+5,000,000+5,000,000+5,000,000+1,000,000+500,000+1,000,000+1,000,000+10,000,000+10,000,000+1,000,000+500,000+1,000,000+1,000,000+50,000+1,000,000+100,000+100,000+100,000+100,000+10,000,000+100,000+10,000+10,000,000+10,000,000+10,000,000+500,000+5,000,000+10,000,000+500,000+10,000,000+1,000,000+1,000,000+1,000,000+100,000+10,000,000+5,000,000+1,000,000+100,000+1,000,000+100,000,000+1,000,000+1,000,000+10,000,000+50,000,000+10,000,000+5,000,000+5,000,000+10,000,000+5,000,000+1,000,000,000+100,000,000+5,000,000+1,000,000+5,000,000+5,000,000+1,000,000+1,000,000+10,000,000+100,000,000+5,000,000+10,000,000+1,000,000+10,000,000+50,000,000+5,000,000+10,000,000+1,000,000+10,000,000+1,000,000+10,000,000+50,000,000+1,000,000+100,000,000+50,000,000+1,000,000+5,000,000+50,000,000+100,000,000+1,000,000+100,000+1,000,000+1,000,000+10,000,000+100,000+100,000+1,000,000+100,000,000+500,000+100,000+100,000+1,000,000+1,000,000+10,000,000+1,000,000+10,000,000+10,000,000+10,000,000+50,000+1,000,000+10,000,000+1,000,000+5,000,000+1,000,000+5,000,000+1,000,000+10,000,000+10,000,000+1,000,000+1,000,000+1,000,000+1,000,000+1,000,000+100,000,000+10,000,000+10,000,000+10,000,000+500,000+5,000,000+10,000,000+500,000+1,000,000+1,000,000+1,000,000+10,000,000+1,000,000+10,000,000+10,000,000+1,000,000+100,000,000+10,000,000+1,000,000+10,000,000+10,000,000+1,000,000+100,000+1,000,000+10,000+100,000+100,000+5,000,000+100,000+1,000,000+1,000,000+1,000,000+1,000,000+10,000,000+10,000,000+10,000,000+100,000+5,000,000+500,000+50,000+5,000,000+1,000,000+10,000+1,000,000+100,000+1,000,000+100,000+100,000+100,000+50,000+1,000+1,000,000+10,000+500+50,000+100,000+100,000+500+100,000+100+100,000+100,000+1,000+100,000+100+50,000+100,000+1,000+500+10,000,000+1,000,000+5,000,000+5,000,000+5,000,000+10,000,000+500,000+5,000,000+10,000,000+1,000,000+1,000,000+10,000,000+5,000,000+1,000,000+1,000,000+10,000,000+1,000,000+5,000,000+1,000,000+1,000,000+5,000,000+1,000,000+5,000,000+1,000,000+1,000,000+10,000,000+10,000,000+1,000,000+50,000,000+10,000,000+1,000,000+1,000,000+1,000,000+10,000,000+1,000,000+100,000,000+5,000,000+1,000,000+5,000,000+1,000,000+10,000,000+10,000+1,000,000+100,000+100,000+100,000+1,000,000+1,000,000+1,000,000+1,000,000+5,000,000+500,000+1,000,000+100,000+500,000+1,000,000+1,000,000+100,000+100,000+1,000,000+1,000,000+50,000+1,000,000+100,000+10,000,000+100,000+1,000,000+5,000,000+1,000,000+100,000+1,000,000+100,000+1,000,000+1,000,000+50,000+1,000,000+5,000,000+500,000+1,000,000+1,000,000+1,000,000+5,000,000+1,000,000+100,000+500,000+1,000,000+1,000,000+500,000+1,000,000+5,000,000+500,000+1,000,000+1,000,000+5,000,000+5,000,000+50,000+1,000,000+100,000+1,000,000+500,000+1,000,000+500,000+50,000,000+1,000,000+100,000+100,000+1,000,000+1,000,000+5,000,000+100,000,000+50,000+10,000,000+10,000+5,000,000+10,000,000+10,000,000+1,000,000+5,000,000+1,000,000+10,000,000+10,000,000+1,000,000+10,000,000+10,000,000+1,000,000+100,000+1,000,000+10,000,000+1,000,000+500,000+10,000,000+500,000+50,000+1,000,000+1,000,000+1,000,000+500,000+5,000,000+1,000,000+5,000,000+1,000,000+10,000,000+100,000+10,000,000+5,000,000+5,000,000+1,000,000+10,000,000+5,000,000+1,000,000+1,000,000+1,000,000+1,000,000+100,000+100,000+1,000,000+50,000+500,000+500,000+100,000+1,000,000+1,000,000+100,000+100,000+5,000,000+500,000+100,000+1,000,000+10,000+50,000+5,000,000+1,000,000+1,000,000+10,000,000+1,000,000+1,000,000+1,000,000+5,000,000+10,000,000+10,000,000+50,000+100,000+1,000,000+1,000,000+100,000+10,000,000+100,000+1,000,000+5,000,000+10,000,000+1,000,000+5,000,000+5,000,000+10,000,000+10,000,000+10,000,000+500,000+5,000,000+1,000,000+10,000,000+10,000,000+10,000,000+10,000,000+10,000,000+10,000,000+1,000,000+10,000,000+1,000,000+100,000+500,000+100,000+500,000+5,000,000+1,000,000+10,000,000+50,000+10,000,000+500,000+100,000+1,000,000+10,000,000+500,000+10,000,000+5,000,000+1,000,000+50,000,000+100,000+5,000,000+10,000,000+1,000,000+100,000+10,000,000+1,000,000+500,000+100,000+10,000,000+1,000,000+5,000,000+1,000,000+500,000+1,000,000+1,000,000+1,000,000+10,000,000+10,000,000+5,000,000+1,000,000+5,000,000+10,000,000+500,000+10,000,000+10,000,000+1,000,000+5,000,000+1,000,000+10,000,000+10,000,000+1,000,000+10,000,000+5,000,000+1,000,000+5,000,000+10,000,000+1,000,000+5,000,000+1,000,000+100,000+1,000,000+500,000+500,000+100,000+1,000,000+500,000+100,000+100,000+1,000,000+5,000,000+5,000,000+500,000+10,000,000+100,000+1,000,000+1,000,000+1,000,000+1,000,000+5,000,000+1,000,000+1,000,000+1,000,000+500,000+10,000,000+500,000+1,000,000+100,000,000+10,000,000+50,000,000+5,000,000+5,000,000+500,000+1,000,000+1,000,000+1,000,000+10,000,000+50,000+50,000+5,000,000+5,000,000+1,000,000+1,000,000+5,000,000+5,000,000+10,000,000+50,000,000+10,000,000+10,000,000+10,000,000+10,000,000+1,000,000+500,000+1,000,000+1,000,000+100,000+10,000,000+1,000,000+100,000+50,000+500,000+1,000,000+100,000+5,000,000+10,000,000+100,000+500,000+100,000+1,000,000+500,000+100,000+500,000+1,000,000+500,000+500,000+1,000,000+500,000+5,000,000+5,000,000+1,000,000+1,000,000+10,000,000+100,000+1,000,000+10,000,000+5,000,000+1,000,000+1,000,000+1,000,000+10,000,000+10,000,000+500,000+100,000+1,000,000+1,000,000+1,000,000+1,000,000+1,000,000+100,000+5,000,000+1,000,000+1,000,000+1,000,000+5,000,000+10,000+100,000+500,000+1,000,000+100,000+1,000,000+100,000+1,000,000+500,000+500,000+5,000,000+500,000+100,000+10,000+50,000+100,000+100,000+1,000,000+100,000+500,000+1,000,000+50,000+10,000,000+1,000,000+500,000+1,000,000+1,000,000+500,000+500,000+1,000,000+5,000,000+10,000,000+50,000+50,000+10,000+100,000+100,000+5,000,000+50,000+10,000,000+1,000+100,000+50,000+100,000+50,000+100,000+50,000+50,000+100,000+10,000,000+10,000+500,000+5,000,000+100,000+1,000,000+10,000+1,000,000+1,000+500,000+1,000,000+100,000+1,000,000+500,000+500,000+100,000+500,000+1,000,000+100,000+5,000,000+10,000,000+100,000+10,000,000+5,000,000+1,000,000+5,000,000+1,000,000+10,000,000+1,000,000+1,000,000+5,000,000+10,000,000+500,000+5,000,000+10,000,000+1,000,000+1,000,000+10,000,000+5,000,000+1,000,000+10,000,000+50,000,000+1,000,000+500,000+500,000+1,000,000+5,000,000+1,000,000+1,000,000+100,000+1,000,000+1,000,000+10,000,000+1,000,000+1,000,000+10,000,000+500,000+10,000,000+1,000,000+1,000,000+100,000+100,000+10,000,000+500,000+1,000,000+1,000,000+1,000,000+100,000+1,000,000+1,000,000+10,000,000+100,000+500,000+10,000+100,000+5,000,000+1,000,000+500,000+500,000+10,000+1,000,000+10,000,000+10,000,000+100,000+50,000+5,000+100,000+1,000,000+100,000+50,000+1,000,000+100,000+1,000,000+5,000,000+500,000+500,000+1,000,000+500,000+1,000,000+100,000+1,000,000+100,000+100,000,000+1,000,000,000+500,000,000+10,000,000+10,000,000+50,000,000+100,000,000+100,000,000+500,000,000+500,000,000+100,000,000+5,000,000+100,000,000+100,000,000+100,000,000+100,000,000+1,000,000+100,000,000+50,000,000+5,000,000+100,000,000+1,000,000+100,000,000+50,000,000+50,000,000+10,000,000+50,000,000+100,000,000+100,000,000+10,000,000+10,000,000+10,000,000+100,000,000+5,000,000+10,000,000+50,000,000+100,000,000+50,000,000+10,000,000+10,000,000+10,000,000+100,000,000+100,000,000+10,000,000+100,000,000+100,000,000+100,000,000+1,000,000,000+100,000,000+500,000,000+100,000,000+500,000,000+100,000,000+100,000,000+10,000,000+100,000,000+100,000,000+10,000,000+50,000,000+10,000,000+10,000,000+10,000,000+100,000,000+100,000,000+5,000,000+50,000,000+100,000,000+500,000,000+100,000,000+50,000,000+100,000,000+10,000,000+1,000,000+500,000,000+100,000,000+5,000,000+10,000,000+100,000,000+1,000,000+100,000,000+100,000,000+100,000,000+10,000,000+100,000,000+100,000,000+10,000,000+100,000,000+100,000,000+100,000,000+10,000,000+50,000,000+1,000,000+100,000,000+100,000,000+1,000,000,000+10,000,000+50,000,000+50,000,000+100,000,000+100,000,000+100,000,000+50,000,000+50,000,000+100,000,000+100,000,000+10,000,000+10,000,000+50,000,000+10,000,000+1,000,000+10,000,000+5,000,000+5,000,000+100,000,000+1,000,000+1,000,000+10,000,000+10,000,000+500,000+1,000,000+100,000,000+5,000,000+5,000,000+10,000,000+50,000,000+50,000,000+10,000,000+10,000,000+10,000,000+50,000,000+10,000,000+100,000,000+5,000,000+50,000,000+10,000,000+1,000,000+1,000,000+10,000,000+10,000,000+5,000,000+10,000,000+10,000,000+1,000,000+5,000,000+5,000,000+5,000,000+10,000,000+5,000,000+5,000,000+1,000,000+5,000,000+10,000,000+1,000,000+1,000,000+5,000,000+1,000,000+10,000,000+10,000,000+10,000,000+1,000,000+1,000,000+5,000,000+10,000,000+5,000,000+10,000,000+100,000+1,000,000+1,000,000+100,000+5,000,000+100,000,000+500,000,000+100,000,000+100,000,000+10,000,000+10,000,000+50,000,000+10,000,000+5,000,000+10,000,000+50,000,000+5,000,000+10,000,000+10,000,000+5,000,000+10,000,000+10,000,000+500,000+1,000,000+5,000,000+50,000,000+5,000,000+10,000,000+500,000+50,000,000+5,000,000+1,000,000+500,000,000+100,000,000+100,000,000+1,000,000,000+100,000,000+1,000,000+10,000,000+10,000,000+50,000,000+100,000,000+100,000,000+100,000,000+100,000,000+10,000,000+5,000,000+1,000,000+500,000,000+500,000,000+100,000,000+10,000,000+10,000,000+100,000,000+100,000,000+100,000,000+100,000,000+50,000,000+10,000,000+10,000,000+100,000,000+10,000,000+50,000,000+1,000,000+50,000,000+100,000,000+10,000,000+10,000,000+100,000,000+100,000,000+50,000,000+500,000,000+100,000,000+100,000,000+10,000,000+5,000,000+10,000,000+100,000,000+100,000,000+50,000,000+100,000,000+100,000,000+500,000,000+100,000,000+10,000,000+50,000,000+50,000,000+10,000,000+50,000,000+50,000,000+10,000,000+100,000,000+10,000,000+10,000,000+50,000,000+10,000,000+50,000,000+50,000,000+10,000,000+10,000,000+10,000,000+10,000,000+100,000+10,000,000+10,000,000+100,000,000+1,000,000+1,000,000+1,000,000+5,000,000+10,000,000+10,000,000+10,000,000+10,000,000+100,000,000+5,000,000+5,000,000+10,000,000+100,000+50,000,000+5,000,000+50,000,000+10,000,000+100,000,000+100,000,000+10,000,000+10,000,000+10,000,000+5,000,000+10,000,000+100,000,000+100,000,000+50,000,000+5,000,000+10,000,000+10,000,000+10,000,000+100,000,000+50,000,000+100,000,000+100,000,000+10,000,000+100,000,000+10,000,000+100,000,000+5,000,000+10,000,000+1,000,000+50,000,000+10,000,000+10,000,000+50,000,000+5,000,000+10,000,000+10,000,000+5,000,000+10,000,000+100,000,000+100,000,000+50,000,000+50,000,000+100,000,000+50,000,000+10,000,000+50,000,000+10,000,000+100,000,000+1,000,000+5,000,000+5,000,000+1,000,000+1,000,000+5,000,000+1,000,000+100,000+5,000,000+50,000,000+1,000,000+500,000+10,000,000+500,000+5,000,000+1,000,000+500,000+10,000,000+500,000+1,000,000+50,000,000+10,000,000+1,000,000+10,000,000+5,000,000+1,000,000+5,000,000+500,000+10,000,000+1,000,000+1,000,000+10,000,000+10,000,000+100,000,000+10,000,000+10,000,000+1,000,000+10,000,000+1,000,000+100,000,000+10,000,000+100,000+5,000,000+100,000+10,000+5,000,000+100,000+1,000,000+5,000,000+1,000,000+1,000,000+1,000,000+1,000,000+5,000,000+500,000+500,000+1,000,000+1,000,000+50,000+1,000,000+1,000,000+10,000,000+100,000+100,000+500,000+500,000+100,000,000+10,000,000+1,000,000+10,000,000+100,000+10,000,000+1,000,000+5,000,000+500,000+10,000,000+1,000,000+1,000,000+100,000+50,000+50,000,000+500,000+10,000,000+500,000+1,000,000+10,000,000+1,000,000+5,000,000+1,000,000+1,000,000+10,000,000+1,000,000+10,000,000+10,000,000+50,000,000+10,000,000+5,000,000+100,000+10,000,000+5,000,000+10,000,000+1,000,000+50,000,000+1,000,000+10,000,000+1,000,000+10,000,000+10,000,000+5,000,000+1,000,000+50,000,000+1,000,000+10,000,000+500,000+500,000+500,000+100,000+100,000+1,000,000+10,000+10,000,000+500,000+10,000,000+5,000,000+1,000,000+1,000,000+1,000,000+100,000+100,000+50,000+500,000+100,000+5,000,000+1,000+100,000+50,000+10,000,000+1,000,000+1,000,000+1,000,000+100,000+100,000+5,000,000+100,000+100,000,000+10,000,000+50,000,000+10,000,000+5,000,000+5,000,000+10,000,000+5,000,000+5,000,000+100,000,000+5,000,000+10,000,000+1,000,000+10,000,000+5,000,000+50,000,000+10,000,000+1,000,000+5,000,000+1,000,000+1,000,000+1,000,000+1,000,000+5,000,000+5,000,000+10,000,000+10,000,000+1,000,000+1,000,000+1,000,000+1,000,000+1,000,000+500,000+50,000+5,000,000+1,000,000+1,000,000+100,000+500,000+10,000+1,000,000+500,000+500,000+5,000,000+50,000+500,000+1,000,000+500,000+100,000+100,000+100,000+100,000+500,000+100,000+1,000,000+1,000,000+50,000+1,000,000+100,000+100,000+100,000+100,000+1,000,000+50,000+100,000+100,000+1,000+500,000+1,000,000+10,000+1,000,000+1,000+100,000+500,000+100,000+50,000+500,000+10,000+1,000,000+100,000+100,000+100,000+100,000+5,000+100,000+100,000+100,000+50,000+5,000+10,000+10,000+50,000+10,000+100,000+100,000+50,000+10,000+50,000+10,000+10,000+50,000+100,000+5,000+1,000+100,000+100,000+100,000+5,000+10,000+1,000+5,000+10,000+5,000+1,000+10,000+10,000+5,000+50,000+1,000+100,000+500+100+500+1,000+100+10+100+5+50+1+50+10+10+5+100+5,000+10+100+100+10+10+5+100,000+1,000,000+10,000+1,000+10,000+50,000+1,000+100,000+10,000+50,000+1,000+100,000+5,000+1,000,000+10,000+5,000+10,000+10,000+10,000+100+5,000+10,000+10,000+50,000+1,000+1,000+1,000+50,000+50,000+100+1,000+50,000+10,000+1,000+10,000+100,000+5,000+1,000,000,000+1,000,000,000+500,000,000+10,000,000+100,000,000+1,000,000+500,000,000+100,000+100,000,000+10,000,000+1,000,000,000+1,000,000+1,000,000+1,000,000+5,000,000+100,000+1,000,000+5,000,000+5,000,000+1,000,000+5,000,000+10,000,000+5,000,000+1,000,000+500,000+5,000,000+50,000+10,000,000+1,000,000+5,000,000+1,000,000+1,000,000+10,000,000+10,000,000+10,000,000+10,000,000+10,000,000+1,000,000+100,000,000+1,000,000+10,000,000+5,000,000+5,000,000+100,000,000+10,000,000+10,000,000+10,000,000+100,000,000+50,000,000+10,000,000+50,000,000+10,000,000+5,000,000+10,000,000+100,000,000+5,000,000+500,000+100,000+500,000,000+1,000,000,000+1,000,000+500,000+10,000,000+10,000,000+500,000+500,000,000+5,000,000+50,000,000+1,000,000+10,000,000+50,000,000+50,000,000+5,000,000+1,000,000+100,000,000+10,000,000+10,000,000+10,000,000+1,000,000+5,000,000+50,000,000+10,000,000+10,000,000+100,000+50,000,000+10,000,000+10,000,000+10,000,000+100,000+5,000,000+50,000,000+10,000,000+50,000,000+10,000,000+10,000,000+10,000,000+100,000,000+10,000,000+10,000,000+10,000,000+5,000,000+100,000,000+10,000,000+100,000,000+50,000,000+100,000,000+50,000,000+50,000,000+1,000,000+10,000,000+5,000,000+5,000,000+1,000,000+1,000,000+10,000,000+50,000,000+10,000,000+10,000,000+1,000,000+5,000,000+10,000,000+1,000,000+10,000,000+1,000,000+10,000,000+50,000,000+10,000,000+10,000,000+10,000,000+10,000,000+10,000,000+10,000,000+10,000,000+10,000,000+50,000,000+10,000,000+10,000,000+10,000,000+10,000,000+100,000,000+5,000,000+1,000,000+5,000,000+1,000,000+1,000,000+1,000,000+1,000,000+10,000,000+500,000+500,000+1,000,000+10,000,000+10,000,000+100,000,000+1,000,000+10,000,000+10,000,000+50,000,000+5,000,000+10,000,000+1,000,000+10,000,000+10,000,000+50,000+1,000,000+5,000,000+1,000,000+1,000,000+1,000,000+10,000,000+100,000+500,000+500,000+500,000+5,000,000+100,000+1,000,000+5,000,000+5,000,000+1,000,000+100,000,000+1,000,000+1,000,000+5,000,000+500,000+10,000,000+100,000,000+10,000,000+1,000,000+1,000,000+10,000,000+10,000,000+1,000,000+500,000+1,000,000+10,000,000+100,000+100,000,000+1,000,000+100,000+10,000,000+5,000,000+100,000,000+1,000,000+500,000+10,000,000+1,000,000+5,000,000+1,000,000+500,000+50,000+1,000,000+1,000,000+1,000,000,000+50,000,000+5,000,000+10,000,000+10,000,000+10,000,000+50,000,000+1,000,000+100,000,000+1,000,000+100,000+5,000,000+1,000,000+5,000,000+1,000,000+1,000,000+5,000,000+50,000,000+500,000+10,000,000+10,000,000+50,000,000+500,000+1,000,000+1,000,000+100,000,000+1,000,000+100,000,000+50,000,000+10,000,000+1,000,000+1,000,000+5,000,000+10,000,000+1,000,000+1,000,000+5,000,000+10,000,000+10,000,000+100,000,000+10,000,000+100,000,000+10,000,000+1,000,000+5,000,000+1,000,000,000+5,000,000+10,000,000+10,000,000+50,000,000+100,000,000+10,000,000+50,000,000+100,000,000+10,000,000+5,000,000+100,000,000+10,000,000+1,000,000+100,000,000+50,000,000+1,000,000+100,000,000+1,000,000+1,000,000+1,000,000+1,000,000+5,000,000+100,000,000+10,000,000+1,000,000+10,000,000+5,000,000+1,000,000,000+5,000,000+10,000,000+10,000,000+10,000,000+5,000,000+1,000,000+10,000,000+10,000,000+100,000,000+10,000,000+1,000,000+50,000,000+5,000,000+10,000,000+10,000,000+100,000,000+100,000,000+50,000,000+100,000,000+50,000,000+50,000,000+50,000,000+10,000,000+5,000,000+10,000,000+10,000,000+100,000,000+100,000,000+1,000,000+5,000,000+10,000,000+1,000,000+10,000,000+50,000,000+50,000,000+50,000,000+50,000,000+10,000,000+10,000,000+100,000,000+50,000,000+100,000,000+100,000,000+100,000,000+10,000,000+50,000,000+100,000,000+100,000,000+100,000,000+100,000,000+5,000,000+10,000,000+50,000,000+100,000,000+10,000,000+1,000,000+10,000,000+5,000,000+5,000,000+10,000,000+10,000,000+10,000,000+100,000+10,000,000+5,000,000+50,000,000+10,000,000+10,000,000+500,000+10,000,000+1,000,000+5,000,000+5,000,000+5,000,000+10,000,000+1,000,000+10,000,000+5,000,000+5,000,000+5,000,000+5,000,000+5,000,000+1,000,000+1,000,000+10,000,000+5,000,000+10,000,000+10,000,000+5,000,000+100,000+1,000,000+1,000,000+1,000,000+5,000,000+100,000+500,000+500,000+500,000+1,000,000+10,000,000+100,000+5,000,000+100,000+100,000+500,000+10,000,000+100,000+1,000,000+500,000+100,000+5,000,000+10,000,000+1,000,000+5,000,000+100,000+1,000,000+1,000,000+100,000+1,000,000+100,000+1,000,000+1,000,000+100,000+50,000+500,000+100,000+1,000,000+100,000+1,000,000+1,000,000+1,000,000+5,000,000+1,000,000+1,000,000+5,000,000+1,000,000+10,000,000+1,000,000+5,000,000+10,000+50,000+100,000+1,000,000+10,000,000+5,000,000+100,000+1,000,000+10,000+5,000,000+500,000+5,000,000+10,000,000+100,000+5,000,000+50,000,000+500,000+500,000+500,000+10,000+10,000,000+10,000,000+50,000,000+100,000+10,000,000+1,000,000+5,000,000+1,000,000+1,000,000+5,000,000+10,000,000+10,000,000+50,000,000+5,000,000+1,000,000+500,000+1,000,000+10,000,000+10,000,000+500,000+10,000,000+100,000,000+1,000,000+5,000,000+100,000,000+10,000,000+1,000,000,000+5,000,000+5,000,000+100,000,000+10,000,000+5,000,000+10,000,000+50,000,000+10,000,000+1,000,000,000+10,000,000+10,000,000+10,000,000+1,000,000+1,000,000+1,000,000+5,000,000+500,000+100,000,000+100,000+5,000,000+5,000,000+1,000,000+1,000,000+10,000,000+10,000,000+10,000,000+10,000,000+5,000,000+5,000,000+10,000,000+10,000,000+1,000,000+50,000,000+5,000,000+1,000,000+5,000,000+1,000,000+100,000,000+1,000,000+5,000,000+1,000,000+5,000,000+10,000,000+10,000,000+10,000,000+1,000,000+100,000+1,000+100,000+5,000,000+10,000,000+1,000,000+1,000,000+1,000,000+100,000+1,000,000+5,000,000+1,000,000+1,000,000+5,000,000+1,000,000+1,000,000+5,000,000+1,000,000+1,000,000+1,000,000+10,000,000+5,000,000+1,000,000+1,000,000+1,000,000+1,000,000+100,000+5,000,000+1,000,000+1,000,000+10,000,000+5,000,000+10,000,000+5,000,000+10,000,000+1,000,000+100,000+1,000,000+1,000,000,000+10,000,000+1,000,000+5,000,000+1,000,000+1,000,000+500,000+500,000+1,000,000+1,000,000,000+10,000,000+1,000,000,000+500,000,000+10,000,000+50,000,000+50,000,000+100,000,000+1,000,000+10,000,000+100,000,000+100,000,000+100,000,000+10,000,000+50,000,000+50,000,000+10,000,000+10,000,000+5,000,000+10,000,000+10,000,000+100,000+500,000,000+10,000,000+10,000,000+5,000,000+10,000,000+100,000,000+10,000,000+10,000,000+10,000,000+500,000,000+100,000,000+10,000,000+10,000,000+10,000,000+10,000,000+10,000,000+100,000,000+10,000,000+1,000,000+500,000+10,000,000+10,000,000+50,000+100,000+100,000+10,000,000+10,000,000+1,000,000+5,000,000+1,000,000+10,000,000+50,000,000+10,000,000+100,000,000+10,000,000+50,000,000+10,000,000+5,000,000+50,000,000+10,000,000+5,000,000+5,000,000+50,000,000+5,000,000+10,000,000+5,000,000+5,000,000+1,000,000+1,000,000+1,000,000+1,000,000+10,000,000+10,000,000+1,000,000+5,000,000+1,000,000+100,000+1,000,000+100,000+50,000,000+5,000,000+1,000,000+1,000,000+50,000,000+10,000,000+1,000,000+1,000,000+5,000,000+5,000,000+10,000,000+500,000,000+10,000,000+50,000,000+100,000,000+10,000,000+10,000,000+1,000,000+100,000,000+10,000,000+1,000,000+1,000,000+10,000,000+5,000,000+1,000,000+1,000,000+10,000,000+10,000,000+100,000,000+10,000,000+1,000,000+1,000,000+10,000,000+100,000,000+10,000,000+10,000,000+1,000,000+50,000,000+1,000,000+100,000,000+5,000,000+100,000+5,000,000+5,000,000+1,000,000+100,000,000+500,000+1,000,000+1,000,000+1,000,000+50,000,000+1,000,000+10,000,000+10,000,000+10,000,000+10,000,000+10,000,000+10,000,000+10,000,000+100,000,000+10,000,000+10,000,000+500,000+10,000,000+10,000,000+1,000,000+1,000,000+50,000,000+1,000,000+10,000,000+100,000,000+500,000+1,000,000+1,000,000+10,000,000+5,000,000+5,000,000+500,000+500,000+5,000,000+100,000+500,000+100,000+10,000,000+50,000,000+5,000,000+1,000,000+1,000,000+1,000,000+5,000,000+10,000,000+5,000,000+10,000,000+5,000,000+10,000,000+5,000,000+1,000,000+10,000,000+10,000,000+10,000,000+10,000,000+10,000,000+10,000,000+10,000,000+5,000,000+100,000,000+1,000,000+5,000,000+50,000,000+1,000,000+1,000,000+1,000,000+1,000,000+5,000,000+1,000,000+10,000,000+10,000,000+10,000,000+1,000,000+10,000,000+10,000,000+10,000,000+10,000,000+100,000,000+1,000,000+10,000,000+1,000,000+500,000,000+10,000,000+100,000,000+10,000,000+1,000,000,000+10,000,000+10,000,000+100,000,000+10,000,000+100,000,000+5,000,000+1,000,000+10,000,000+100,000,000+50,000,000+100,000,000+10,000,000+100,000,000+5,000,000+100,000,000+10,000,000+10,000,000+1,000,000+500,000,000+10,000,000+10,000,000+500,000,000+100,000,000+10,000,000+5,000,000+5,000,000+5,000,000+100,000,000+10,000,000+50,000,000+10,000,000+100,000,000+5,000,000+50,000,000+100,000,000+50,000,000+50,000,000+50,000,000+100,000,000+1,000,000+50,000,000+1,000,000+500,000+1,000,000+1,000,000+10,000,000+1,000,000+10,000,000+1,000,000+10,000,000+1,000,000+1,000,000+10,000,000+5,000,000+10,000,000+1,000,000+10,000,000+100,000,000+1,000,000+50,000,000+100,000+5,000,000+10,000,000+1,000,000+1,000,000+500,000,000+1,000,000,000+100,000,000+100,000,000+100,000,000+100,000,000+10,000,000+100,000,000+100,000,000+100,000,000+500,000,000+100,000,000+100,000,000+5,000,000+1,000,000+5,000,000+1,000,000+10,000,000+1,000,000+5,000,000+10,000,000+1,000,000+10,000,000+100,000,000+10,000,000+100,000,000+500,000+1,000,000+1,000,000+1,000,000+1,000,000+5,000,000+5,000,000+1,000,000+10,000,000+5,000,000+500,000,000+10,000,000+5,000,000+100,000,000+100,000+500,000,000+1,000,000+1,000,000+1,000,000+5,000,000+500,000,000+10,000+5,000,000+1,000,000+100,000+10,000+1,000,000+50,000+100,000+1,000,000+10,000+1,000,000+1,000,000+10,000+50,000+10,000+50,000+1,000,000+500,000+100,000+100,000+100,000+100,000+1,000,000+5,000+500,000+100,000+10,000+500,000+10,000+100,000+1,000,000+100,000+100,000+100,000+1,000,000+1,000,000+100,000+1,000,000+100,000+10,000+1,000,000+50,000,000+1,000,000+50,000,000+10,000+10,000,000+1,000,000+10,000,000+1,000,000+1,000,000+1,000,000+10,000,000+5,000,000+500,000+10,000,000+1,000,000+5,000,000+5,000,000+1,000,000+10,000,000+5,000,000+1,000,000+5,000,000+1,000,000+50,000,000+1,000,000+100,000+10,000,000+1,000,000+10,000,000+500,000+1,000,000+10,000,000+1,000,000+500,000+500,000+5,000,000+100,000+1,000,000+1,000,000,000+1,000,000+10,000,000+1,000,000+1,000,000+100,000,000+10,000,000+100,000,000+100,000+500,000+100,000,000+10,000,000+50,000,000+1,000,000+1,000,000+10,000,000+1,000,000+5,000,000+1,000,000+10,000,000+10,000,000+50,000,000+1,000,000,000+10,000,000+1,000,000+50,000,000+50,000,000+1,000,000+50,000,000+5,000,000+1,000,000+5,000,000+1,000,000+1,000,000+1,000,000+10,000,000+10,000,000+10,000,000+500,000,000+1,000,000+1,000,000+1,000,000+1,000,000+10,000+100,000+500,000,000+5,000,000+10,000,000+1,000,000+10,000,000+10,000,000+1,000,000+1,000,000+10,000,000+1,000,000+1,000,000+5,000,000+1,000,000+10,000,000+5,000,000+10,000,000+1,000,000+10,000,000+50,000,000+1,000,000+500,000+1,000,000+10,000,000+10,000,000+100,000+1,000,000,000+10,000,000+10,000,000+500,000,000+10,000,000+500,000+500,000+1,000,000+1,000,000+1,000,000+1,000,000+5,000,000+5,000,000+50,000+1,000,000+1,000,000+1,000,000+1,000,000+5,000,000+500,000,000+1,000,000+1,000,000+5,000,000+1,000,000+1,000,000+500,000+1,000,000+10,000+1,000,000+5,000,000+1,000,000+100,000+1,000,000+100,000+5,000,000+1,000,000+1,000,000+1,000,000+5,000,000+10,000,000+100,000+1,000,000+1,000,000+1,000,000+1,000,000+10,000,000+100,000+1,000,000+5,000,000+500,000+1,000,000+1,000,000+10,000,000+10,000,000+10,000,000+10,000,000+1,000,000+1,000,000+1,000,000+1,000,000+10,000,000+5,000,000+1,000,000,000+1,000,000+500,000,000+100,000,000+5,000,000+10,000,000+10,000,000+5,000,000+5,000,000+1,000,000+100,000,000+50,000,000+500,000+10,000,000+1,000,000+1,000,000+1,000,000+10,000,000+1,000,000+100,000+5,000,000+5,000,000+5,000,000+5,000,000+1,000,000+1,000,000+1,000,000+1,000,000+100,000+100,000+1,000,000+1,000,000+5,000,000+1,000,000+1,000,000+5,000,000+1,000,000+1,000,000+5,000,000+1,000,000+5,000,000+1,000,000+1,000,000+10,000,000+100,000+5,000,000+1,000,000+1,000,000+10,000,000+50,000+1,000,000+1,000,000+5,000,000+500,000,000+10,000,000+50,000,000+1,000,000+1,000,000+500,000+10,000,000+50,000,000+5,000,000+500,000,000+100,000,000+1,000,000+10,000+100,000,000+10,000,000+50,000,000+500,000+10,000+500,000,000+100,000,000+10,000+500,000+50,000,000+500,000+5,000,000+100,000,000+1,000,000,000+100,000,000+1,000,000+500,000+10,000,000+50,000,000+50,000,000+50,000+1,000,000,000+10,000,000+100,000,000+500,000,000+100,000,000+1,000,000,000+100,000,000+50,000,000+100,000,000+100,000,000+10,000,000+10,000,000+100,000,000+500,000+500,000+10,000,000+50,000,000+50,000,000+100,000,000+10,000,000+10,000,000+1,000,000+5,000,000+5,000,000+1,000,000,000+5,000,000+100,000,000+500,000+10,000,000+500,000+500,000,000+5,000,000+10,000,000+500,000+1,000,000+1,000,000+100,000,000+100,000,000+5,000,000+1,000,000,000+1,000,000+100,000,000+100,000,000+1,000,000+1,000,000+10,000,000+50,000+100,000,000+50,000,000+100,000,000+10,000+10,000+10,000,000+10,000,000+50,000,000+10,000+500,000+1,000,000+50,000,000+50,000+50,000+50,000+100,000,000+50,000,000+100,000,000+10,000,000+1,000+5,000+50,000,000+100,000+50,000+1,000+500+100,000,000+100,000,000+1,000,000+1,000,000+50,000+100,000+10,000,000+500,000,000+1,000,000+1,000,000,000+50,000+1,000,000+10,000,000+50,000+1,000+100,000+500,000,000+10,000+1,000,000+10,000+100,000+1,000+5,000+50,000+5,000+10,000+100,000+5,000+100,000,000+10,000+100,000+100,000+50,000+1,000+100,000+5,000+5,000+50,000+5,000+10,000+10,000+5,000+100,000,000+100,000,000+10,000,000+10,000,000+100,000,000+100,000,000+50,000,000+100,000,000+500,000,000+50,000,000+100,000,000+100,000,000+100,000+50,000,000+500,000,000+50,000,000+10,000,000+100,000,000+100,000,000+1,000,000+100,000,000+100,000,000+100,000,000+500,000+100,000,000+50,000,000+100,000,000+1,000,000+10,000,000+10,000,000+5,000,000+100,000+1,000,000+100,000,000+10,000,000+10,000,000+5,000,000+100,000,000+10,000,000+100,000,000+1,000,000+10,000,000+500,000+500,000+10,000,000+100,000,000+100,000+500,000+100,000,000+100,000,000+5,000,000+100,000,000+100,000,000+10,000,000+10,000,000+500,000+1,000,000+100,000+5,000,000+500,000+1,000,000,000+100,000,000+10,000,000+100,000,000+100,000,000+1,000,000+500,000,000+100,000,000+50,000,000+500,000+1,000,000+100,000,000+100,000+5,000+50,000+500,000,000+100,000+50,000+50,000+500,000+1,000+50,000+500,000,000+500,000+5,000+50,000,000+100,000+5,000+500,000+10,000+50,000+500,000+10,000,000+5,000+10,000+1,000,000,000+50,000,000+50,000,000+500,000,000+50,000,000+5,000,000+1,000,000,000+100,000,000+100,000+1,000,000,000+1,000,000+100,000+10,000+50,000,000+5,000,000+100,000+500,000+100,000+10,000+50,000+1,000,000,000+50,000+50,000+50,000+1,000+10,000+100,000,000+5,000,000+100,000+10,000,000+10,000,000+100,000+100,000,000+5,000+1,000,000+1,000+500,000+10,000+5,000+1,000,000+5,000+5,000,000+10,000+10,000+10,000,000+50,000+1,000,000+100+1,000+10,000+100,000,000+50,000+50,000+10,000+1,000,000+100,000,000+10,000,000+500,000+5,000,000+500,000+50,000,000+1,000,000+1,000,000+100,000,000+1,000,000+100,000,000+500,000+10,000,000+50,000,000+10,000,000+100,000,000+1,000,000+5,000,000+5,000,000+10,000,000+5,000,000+10,000,000+5,000,000+10,000,000+10,000,000+1,000,000+1,000,000+100,000,000+10,000,000+100,000,000+100,000+10,000+50,000,000+10,000+10,000,000+50,000,000+100,000,000+10,000+100,000+50,000,000+10,000,000+1,000+50,000+1,000+10,000,000+1,000+10,000+1,000+1,000+10,000+10,000+10,000+100,000,000+50,000+500,000+100,000+50,000,000+10,000,000+100,000+10,000,000+1,000+100,000+100,000+100,000+100,000+5,000+1,000,000+500,000+100,000+1,000+10,000,000+100,000,000+1,000+100,000+10,000+5,000+1,000+10,000+5,000+1,000,000+100,000+10,000+10,000+10,000+10,000,000+100,000,000+50,000,000+50,000,000+5,000,000+50,000,000+50,000,000+10,000,000+500,000+100,000,000+1,000,000+50,000+50,000+100,000+10,000,000+1,000,000+500,000+1,000,000+100,000,000+10,000,000+100,000+100,000+50,000+10,000,000+10,000,000+100,000+50,000,000+10,000,000+1,000,000+10,000+1,000,000+1,000,000+50,000,000+100,000+50,000,000+10,000+100,000+10,000+100,000+5,000+50,000+5,000+500,000,000+100,000+1,000,000+10,000,000+100,000+10,000+10,000+10,000+100,000+10,000+10,000+10,000,000+10,000+1,000,000+5,000,000+1,000,000+1,000,000+500,000+1,000,000+10,000+10,000,000+10,000+50,000+1,000,000+100,000+100,000+10,000+1,000,000+5,000,000+5,000,000+1,000,000+1,000,000+500,000+50,000+1,000,000+50,000+100,000+100,000+10,000+50,000+10,000+1,000,000+100,000,000+100,000,000+100,000+1,000,000+10,000,000+50,000+100,000+50,000+50,000+1,000,000+500,000+1,000,000+100,000+100,000+500,000+10,000,000+100,000+50,000+10,000,000+10,000,000+100,000,000+1,000+100,000+1,000,000+5,000+10,000,000+10,000+50,000+500+5,000+10,000+100,000,000+100,000+1,000+10,000+100,000+10,000+1,000+10,000+10,000+100,000+500,000+1,000,000+500,000+500,000+10,000+50,000+1,000,000+1,000,000+10,000,000+1,000,000+10,000,000+500,000+100,000+1,000+5,000+10,000+100,000+10,000+500,000+10,000+100,000+100,000+50,000,000+10,000,000+1,000+10,000+10,000+5,000+5,000+100,000+100,000,000+100,000+10,000+1,000+1,000+500,000+100,000+1,000,000+1,000+10,000+10,000+10,000+1,000+100,000+5,000+50+5,000+1,000+5,000+100,000+100,000+500,000,000+1,000,000+100,000,000+1,000,000+1,000,000+100,000+10,000,000+100,000,000+10,000,000+1,000,000+100,000,000+1,000,000+50,000,000+500,000+50,000+50,000+1,000,000+100,000,000+100,000,000+10,000,000+50,000,000+10,000,000+10,000,000+100,000,000+50,000,000+1,000,000+1,000,000+10,000+100,000+1,000,000+1,000,000+10,000,000+5,000,000+100,000,000+10,000,000+500,000+50,000,000+10,000,000+10,000+10,000,000+1,000,000+5,000,000+10,000,000+1,000+5,000,000+100,000+1,000,000+5,000+50,000+1,000,000+1,000,000+1,000,000+500,000+5,000,000+10,000,000+10,000,000+100,000,000+100,000,000+500,000+10,000+100,000+10,000+50,000+50,000+50,000+100,000+1,000+500,000+10,000+100,000+500,000+5,000+10,000+10,000+100,000+10,000+100,000+50,000+10,000,000+10,000+500,000+5,000+10,000+100,000+100,000+100,000+100,000+100,000+500,000+100,000+5,000+10,000+10,000,000+1,000,000+50,000,000+100,000+5,000,000+500,000,000+1,000,000+100,000+500,000+10,000,000+100,000,000+10,000,000+50,000,000+1,000,000+50,000,000+50,000,000+100,000+100,000,000+500,000+5,000+100,000+1,000,000+100,000+100,000+100,000,000+1,000,000+10,000+10,000+1,000+100,000+500,000+5,000+5,000+10,000+100,000+100,000+100,000,000+5,000+5,000+100,000,000+100,000,000+10,000,000+5,000+100,000,000+50,000,000+50,000+10,000,000+50,000,000+10,000+10,000,000+5,000+100,000+10,000,000+10,000+1,000,000+10,000+1,000,000+5,000+5,000,000+50,000+10,000,000+10,000,000+5,000,000+10,000+10,000,000+100,000,000+50,000,000+5,000,000+5,000,000+100,000,000+100,000+5,000,000+100,000+5,000,000+100,000+50,000+10,000,000+1,000,000+1,000,000+100,000+1,000,000+5,000,000+10,000,000+500,000+10,000+1,000,000+100,000+1,000,000+1,000,000+500,000+50,000+100,000+500,000+1,000,000+100,000+1,000,000+1,000,000+1,000,000+100,000+100,000+500,000+100,000+100,000+1,000,000+50,000,000+500,000+10,000,000+10,000,000+100,000,000+50,000,000+10,000,000+100,000,000+10,000,000+10,000,000+1,000,000+5,000,000+5,000,000+5,000,000+5,000,000+100,000,000+100,000,000+10,000,000+1,000,000+100,000,000+10,000,000+10,000,000+10,000,000+5,000,000+50,000,000+1,000,000+1,000,000+50,000,000+10,000,000+1,000,000+100,000,000+5,000,000+100,000+10,000,000+1,000,000+1,000,000+5,000,000+50,000+10,000+100,000+100,000+500,000+1,000,000+10,000+1,000,000+10,000+5,000,000+10,000+1,000,000+500,000+100,000+5,000+1,000,000+10,000+5,000,000+10,000,000+500,000+10,000,000+1,000+1,000,000+10,000,000+5,000,000+10,000,000+10,000,000+1,000,000+100,000,000+100,000+100,000+100,000+100,000,000+10,000,000+5,000+10,000,000+1,000,000+50,000,000+1,000,000+10,000+100,000+500,000+10,000+100,000+1,000+100,000+50,000+50,000,000+10,000+1,000,000+100,000,000+10,000+1,000,000+1,000+1,000,000+1,000,000+10,000+1,000,000+100,000+500,000+100,000+1,000,000+500,000+100,000+5,000+10,000+1,000,000+50,000+100,000+10,000+10,000+10,000+100,000+5,000+50,000+5,000+50,000+1,000,000+100,000+10,000+100,000+100,000+50,000+10,000+10,000+10,000+1,000,000+100,000+10,000,000+1,000,000+100,000+100,000+50,000+1,000+50,000+100,000+10,000+1,000,000+500,000+10,000,000+500,000+1,000,000+1,000,000+500,000+10,000,000+50,000,000+1,000,000+50,000+1,000,000+50,000+1,000,000+50,000+1,000,000+10,000+1,000,000+10,000+100,000+100,000+1,000+100,000+1,000,000+5,000,000+500,000+50,000+50,000+5,000,000+100,000+100,000+100,000+100,000+100,000+5,000,000+10,000,000+1,000,000+1,000,000+5,000,000+50,000+100,000+5,000+10,000+100,000+1,000,000+500,000+50,000+500,000+1,000,000+100,000+1,000,000+1,000,000+50,000+50,000+500,000+100,000+1,000,000+1,000+10,000+5,000,000+1,000+1,000+100,000+100,000+10,000+10,000+10,000+10,000+10,000,000+10,000+10,000+1,000,000+500,000+50,000+10,000+1,000+5,000,000+10,000+10,000,000+10,000+10,000+100+10,000,000+1,000+100,000+10,000+10,000+1,000+5,000,000+10,000,000+500+10,000+5,000+100,000,000+10,000,000+500,000+10,000,000+5,000,000+1,000+1,000,000+1,000+1,000,000+5,000,000+1,000+10,000,000+10,000,000+10,000,000+10,000,000+5,000,000+100,000,000+10,000,000+1,000,000+1,000,000+500,000+1,000,000+10,000+10,000+5,000+10,000+10,000+1,000+100,000+5,000+1,000+10,000+1,000+100+50+10,000+100+10,000+500+50,000+100+100,000+1,000+10,000+50,000+100+10,000+100+100,000+100+5,000+100+50+100+500+100,000+100,000+100+50,000+1,000,000+100,000+50,000+1,000,000+1,000+50,000+1,000,000+10,000+100,000+10,000+50,000+50,000+1,000,000+10,000+1,000,000+10,000+5,000+100+1,000+1,000+100+1,000+100,000+100,000+500+1,000,000+1,000+100,000+5,000+5,000,000+10,000,000+100+100,000+100+5,000+1,000+10,000+10,000+5,000,000+50,000+100,000+10,000+1,000,000+100+1,000,000+500+10,000+500+500+1,000+1,000+100+10+10,000+100+5,000+1,000+100,000+500,000+10+100,000+100,000+500,000+50,000+1,000+10,000+1,000+5,000+10,000+10,000,000+50,000+10,000+500+1,000,000+1,000+100+10,000,000+10,000,000+10,000+5,000+500+5,000+10,000+5,000,000+100+5,000,000+1,000+50,000+10,000,000+50,000+50,000+1,000+10,000+10,000+10,000+10,000,000+50,000+500,000+10,000,000+10,000,000+10,000,000+1,000,000+100,000+1,000,000+50,000+1,000,000+100,000+1,000,000+5,000,000+100,000+5,000,000+500,000+10,000+50,000+500,000+1,000,000+1,000,000+1,000,000+100,000+50,000+10,000,000+50,000+50,000+100,000+10,000,000+100,000+10,000+10,000,000+1,000,000+1,000+10,000+10,000+100,000+100,000+100,000+100,000+500,000+10,000+1,000,000+1,000,000+10,000,000+100,000+10,000,000+10,000,000+10,000,000+5,000,000+10,000,000+10,000,000+10,000,000+1,000,000+5,000,000+10,000,000+5,000,000+5,000,000+1,000,000,000+10,000,000+5,000,000+1,000,000+10,000,000+1,000,000+100,000+1,000,000+5,000+1,000+1,000,000+10,000+10,000,000+100,000+1,000,000+1,000,000+10,000,000+10,000,000+100,000,000+10,000,000+10,000,000+5,000,000+1,000,000+5,000,000+5,000,000+10,000,000+5,000,000+100,000+10,000,000+1,000,000+10,000,000+10,000,000+100,000+10,000,000+10,000,000+5,000,000+1,000,000+1,000,000+10,000,000+50,000,000+10,000+100,000+100,000+10,000,000+5,000,000+10,000,000+10,000+10,000,000+1,000,000+1,000,000+5,000+1,000+100,000+10,000+10,000+10,000+10,000+5,000+5,000+1,000+5,000+10,000+500,000+100,000+100,000+10,000+10,000+5,000+10,000+10,000+10,000+1,000,000+5,000+1,000+50,000+1,000,000+5,000+5,000+1,000+1,000+1,000,000+100,000+500,000+100,000+500+500+10,000+1,000+10,000,000+50+1,000+10+50,000,000+10,000+1,000,000+10,000,000+10,000,000+50,000,000+10,000,000+5,000,000+1,000,000+10,000,000+5,000,000+10,000,000+1,000,000+5,000,000+5,000,000+10,000+100,000+1,000,000+5,000,000+1,000,000+50,000+10,000,000+1,000,000+5,000,000+100,000+1,000+10,000,000+100,000+50,000+5,000,000+10,000,000+1,000,000+100,000+100,000+50,000,000+10,000+100,000+10,000+10,000+10,000+1,000,000+5,000+10,000+5,000+10,000+1,000,000+1,000,000+5,000+10,000+1,000+100,000+1,000+5,000+1,000,000+10,000+50,000+10,000+1,000,000+5,000,000+100,000+100,000+100,000+10,000+10,000,000+10,000,000+100,000+50,000+500,000+1,000+5,000,000+10,000,000+10,000,000+5,000,000+5,000,000+10,000,000+10,000,000+10,000,000+500,000,000+5,000,000+10,000,000+5,000,000+5,000,000+100,000,000+5,000,000+5,000,000+1,000,000+50,000,000+50,000,000+5,000,000+1,000,000+10,000,000+10,000,000+10,000,000+50,000,000+5,000,000+500,000+1,000,000+1,000,000+10,000,000+10,000,000+1,000,000+5,000,000+5,000,000+5,000,000+5,000,000+1,000,000+5,000,000+1,000,000+100,000+5,000,000+1,000,000+1,000,000+1,000,000+100,000+10,000,000+100,000+1,000,000+500,000+100,000+5,000,000+100,000+100,000+500,000+10,000+100,000+50,000+1,000,000+100,000,000+1,000,000+1,000,000+10,000+1,000+1,000,000+100,000+50,000+100,000+10,000+1,000+100,000+1,000,000+100,000+100,000+1,000+10,000+100,000+10,000+1,000+50,000+10,000+1,000+1,000,000+500,000+10,000+100,000+1,000+10,000+1,000,000+1,000,000+10,000+50,000+100,000,000+100,000+100,000+10,000+5,000+1,000+10,000,000+1,000+10,000,000+10,000+100,000+5,000+100,000+1,000,000+50,000+1,000+10,000,000+50,000+50,000+10,000+1,000+50,000,000+10,000,000+50,000+10,000+10,000+5,000+1,000+10,000+1,000,000+10,000,000+5,000+10,000,000+1,000,000+100+100,000+1,000+1,000,000+5,000+100,000+100,000+100,000+50,000+500+1,000,000+1,000+100,000+50,000+100,000+500+5,000+50,000+1,000,000+5,000,000+1,000+100,000+5,000+10,000,000+10,000,000+100,000+1,000,000+100,000+100,000+1,000+100+1,000,000+100,000+10,000+100,000+500,000+10,000+1,000,000+10,000+10,000+100,000+5,000+100,000+50,000+1,000+50+5,000+5,000+10,000+1,000,000+10+50,000+50,000+10,000+1,000+100,000+10,000+1,000+500,000+500+1,000+1,000+100+500,000+100+5,000+5,000+100+5,000+100+500+500,000+10,000+10,000+10,000+100,000+10,000+1,000+1,000,000,000+10,000+1,000,000+10,000,000+5,000,000+10,000,000+10,000,000+10,000,000+10,000,000+10,000,000+5,000,000+5,000,000+10,000,000+100,000+10,000+1,000,000+1,000,000+100,000+500,000+5,000+10,000+10,000+10,000+10,000+1,000+500+100,000+10,000+1,000+10,000+500+10,000+50,000+10,000+10,000+1,000+100+1,000+10,000+10,000+1,000,000+100,000+1,000+5,000+10,000+100,000+5,000+10,000+10,000+50,000+1,000,000+5,000+5,000+500,000+10,000+10,000+10,000+10,000+100,000+10,000+10,000+10,000+50,000+1,000+100,000+10,000+50,000+50,000+50,000+10,000+100+1,000+5,000+1,000,000+100,000+10,000,000+100,000+100,000,000+5,000,000+100,000+10,000,000+500,000+1,000+1,000+5,000+5,000,000+50,000+500+100+500+1,000,000+1,000+5,000+10,000+10,000+500+1,000+1,000+1,000+1,000+500+100+1,000+500+500+100+1,000+5,000,000+1,000,000+10,000+5,000+1,000,000+500,000+500,000+10,000+10,000+5,000+500,000+50,000+1,000+5,000+10,000+100,000+1,000+10,000+1,000+1,000+10,000+500+500+100+1,000+100,000+50,000+5,000+50,000+10,000+500+10,000+500,000+100,000+5,000+100+100,000+100,000+5,000+500,000+10,000+1,000,000+100,000+500+5,000+100+10+500+100+100,000+100,000+10,000,000+500,000+100,000+100,000,000+100+50,000+100,000+10,000,000+100,000+1,000+10,000+5,000,000+100,000+1,000,000+1,000+50,000,000+50,000,000+100,000+50,000,000+5,000,000+5,000+5,000+100,000+10,000,000+10,000+50,000,000+100,000+10,000,000+10,000,000+1,000,000+5,000,000+1,000,000+10,000,000+10,000,000+10,000,000+10,000+10,000+10,000+50,000+1,000,000+50,000+100,000+5,000,000+10,000,000+10,000+1,000+100,000+50,000+5,000,000+100,000+1,000,000+500,000+1,000+1,000+100,000+5,000+1,000,000+10,000+50+50,000+100,000+1,000,000+100,000+1,000+10,000+1,000+500+1,000+10,000+100,000+1,000+100+1,000+10,000+10,000+10,000,000+1,000+1,000+5,000+100+1,000+1,000+100,000+50,000+1,000,000+1,000,000+500+1,000+100+1,000+1,000,000+5,000,000+10+10,000,000+100,000+5,000,000+1,000+10,000+500,000+1,000,000+1,000,000+5,000,000+100,000+10,000+100,000+100,000,000+100,000+10,000,000+50,000+100,000+1,000,000+500,000+10,000,000+1,000,000+5,000,000+10,000+100,000+500+100,000+1,000,000+10,000+1,000+1,000+10,000+500+1,000+100,000+10+100,000+10+1,000+1,000+5,000+10,000+1,000+50,000+50,000+1,000,000+1,000+10,000+500+5,000+100,000+500,000+100,000+10,000+1,000+5,000+10,000+100,000,000+1,000+10,000+100+10,000+10,000+100+10,000+1,000+10,000+10,000,000+5,000+5,000+1,000,000+1,000,000+10,000,000+50+10,000,000+10,000,000+10,000,000+50,000,000+10,000,000+10,000,000+10,000,000+50,000,000+5,000,000+5,000,000+10,000,000+1,000,000+10,000,000+10,000,000+5,000,000+5,000,000+100,000+500,000+10,000+10,000+50,000+10,000+100+500+1,000+5,000+50,000+1,000+10,000+10,000+5,000,000+50,000+10,000,000+100+1,000,000+500+10,000,000+10,000,000+10+1,000,000+1,000,000+100,000+10,000+100,000+100,000+100,000+500,000+100,000+100,000+5,000,000+5,000,000+100,000+5,000+5,000+50+100+100,000+1,000+10,000+500+100+100,000,000+100,000+1,000+1,000+10,000+1,000+10,000+1,000+1,000+10,000+5,000+10,000+50,000+10,000+10,000+10,000+100+5,000+10,000+1,000+10,000+50+500,000+10,000+10,000+100,000+10,000+10,000+100,000+1,000,000+1,000,000+5,000+10,000+100,000+100,000+100,000+50,000+10,000+100,000+100,000+1,000+10,000+1,000+100+10,000+500,000+50,000+5,000+10,000+10,000+1,000+1,000+100+10,000+100,000+100,000,000+1,000,000+50,000+1,000,000+50,000+100,000+100+10,000+10,000+10,000+50,000+100,000+1,000+1,000+100+10,000+100,000+500+100,000+1,000+100+1,000,000+1,000,000+10,000+100+10+10+500+10,000,000+500,000+100,000+500,000+100,000+100,000+10,000+100+10,000+500,000+5,000+10,000+1,000+100+10,000+10,000+5,000+1,000+5,000+50,000+10,000+5,000+5,000+10,000+1,000+1,000+5,000+50,000+1,000+10,000+1,000+10,000+10,000+10,000+5,000+1,000+100,000,000+1,000,000+10,000+50,000,000+50,000,000+100,000,000+10,000+500+100,000+5,000,000+10,000,000+10,000+1,000,000+1,000,000+1,000,000+10,000,000+5,000,000+10,000,000+10,000+5,000,000+5,000+10,000,000+50,000,000+50,000,000+1,000,000+10,000+10,000+10,000+1,000,000+500,000+1,000+1,000+100,000+10,000,000+10,000+10,000+10,000+1,000+500+1,000+100+50+1,000+500,000+5,000+1,000+1,000+1,000+1,000+100,000+50,000+1,000+1,000+1,000+10,000+50+500,000+10,000+1,000,000+1,000,000+5,000+1,000,000+100+5,000+1,000,000+1,000+1,000+5,000,000+100+50+10,000+5,000+50,000+5,000+100,000+10,000,000+1,000+500,000+1,000,000+10,000+10,000,000+1,000,000+50,000+5,000,000+5,000,000+100,000+1,000,000+100,000+50,000+10,000,000+5,000+5,000+10,000+1,000+500+100,000+10,000+100,000+10,000+100,000+100+5+50,000+10,000+10,000,000+100,000+10,000+100,000+5,000,000+1,000,000+1,000,000+10,000+10,000,000+10,000+10,000,000+100,000+1,000,000+1,000+1,000,000+500,000+50+50+1,000+50,000+5,000+100+10,000+100+5,000+1,000+50,000+50+100,000+10,000+50,000+10,000+100,000+100,000+1,000,000+100,000+10,000+10,000+1,000,000+1,000+5,000,000+100,000+1,000,000+500,000+5,000+10,000+10,000+10,000+5,000+500,000+50,000+10,000+10,000,000+1,000,000+100,000+500+5,000,000+500+500+1,000,000+1,000+1,000,000+500,000+1,000+10,000+10,000+100,000+500+10,000+5,000+1,000,000+50,000+500+50,000+100+5,000+1,000,000+1,000+10,000+10,000+10+1,000+10,000+1,000+1,000,000+500+1,000+1,000+100+1,000+500+50,000,000+10,000+1,000+100,000,000+100+100+100+1,000,000+1,000+100,000+100+500+100+10+500,000+100,000+10,000,000+5,000,000+100,000+10,000+5,000,000+50,000+1,000+1,000,000+1,000,000+100,000+5,000+10,000+50,000+100,000+10,000+1,000+5,000+100,000+10,000+100,000+1,000+5,000+5,000+100+1,000,000+50+10+10,000+1,000+10,000+1,000+50,000+5,000+10,000+1,000+1,000,000+50,000+5,000+1,000,000+10,000+100+5,000+10,000+100+50+5,000+5,000+1,000+1,000+10,000+500+100,000+5,000,000+1,000,000+500+10,000,000+5,000,000+1,000,000+10,000+1,000,000+10,000,000+10,000,000+5,000+1,000,000+10,000+500,000+500,000+500,000+1,000,000+500,000+50,000+5,000,000+1,000,000+500,000+500,000+10,000,000+1,000,000+100,000+100,000+1,000,000+1,000,000+10,000,000+1,000,000+1,000,000+100,000+50,000,000+5,000,000+1,000,000+100,000+500,000+100,000+100,000+500,000+1,000,000+1,000,000+100,000+100,000+500,000+500,000+5,000,000+50,000+500,000+100,000+5,000,000+100,000+1,000,000+100,000+100,000+1,000,000+500,000+100,000+100,000+1,000,000+1,000,000+1,000,000+100,000+100+10,000+1,000+1,000+10+50,000+50+1,000+100,000+10,000+5,000+1,000,000+1,000+1,000+50,000+500+10,000+100+500,000+100+1,000+1,000+5,000+1,000+10,000+10,000+10,000,000+1,000+100,000+5,000,000+10,000+100,000+1,000,000+500+1,000+10,000+10,000+5,000+1,000+1,000,000+100,000+5,000+10,000+1,000,000+10,000+100,000+100,000+50,000,000+1,000,000+1,000+1,000+100,000+10,000+50,000+100,000+500+1,000,000+10+100,000+1,000+1,000+100+500+100+1,000+1,000+50+10,000+10+50+5,000+500+50,000+5+5,000,000+10,000+1,000,000+500,000+50,000+1,000+10,000+500+500+10,000+1,000+100,000+100+1,000+5,000+10,000+10,000+10,000+100+1,000+5,000+10,000+1,000+50,000+50,000+1,000+100,000+1,000+500+100+5,000+50,000,000+10,000,000+10,000,000+5,000,000+100,000+10,000+100+5,000,000+100,000+1,000+100+100+100+500+500+1,000+100+100+10,000+1,000+100+10,000,000+100+100+500+50,000+10,000+5,000,000+10,000+5,000+1,000+1,000+10,000+5,000+100,000+100+10,000+10,000+1,000+500+500+1,000+1,000+5,000+5,000+50,000+500+100+10,000+1,000+1,000+10,000+10,000+500+1,000+10+1,000+100,000+1,000+5,000+1,000+10,000,000+1,000,000+100,000+5,000+1,000+1,000,000+500+10,000+1,000,000+100+500,000+100,000+500,000+100,000+5,000,000+1,000+50,000+1,000+10,000+500,000+100,000+100+500,000+100+100+5,000+5,000+100,000+100,000+100+1,000+1,000+1,000+100,000+50+5,000,000+10+1,000+50,000,000+1,000+5,000+5,000,000+100+10,000+10,000+1,000,000+1,000,000+5,000+100+1,000+500+500,000+100+100+100,000+100,000+500,000+100+100,000+10,000,000+50,000+1,000+100+500+50,000+50,000+1,000,000+500+10,000,000+100+1,000,000+10+10,000,000+100,000+10,000+5,000,000+1,000,000+1,000,000+500,000+10,000,000+10,000+50,000+100,000+10,000,000+10,000+50,000+10,000+100+5,000,000+5,000+1,000+5,000+500+5,000+1,000,000+10+1,000+100,000+5,000+10+100+50,000+5,000,000+10,000+10,000,000+1,000,000+10,000+10,000+100,000+100,000+100,000+1,000+10,000+50,000,000+1,000+5,000+500,000+100,000+500,000+1,000+1,000+10,000+5,000+50,000,000+100+1,000+10,000,000+5,000,000+100+500+10,000,000+5,000+10,000+100+50+100+500,000,000+100,000,000+100,000,000+50,000,000+1,000,000+10,000,000+5,000,000+5,000,000+100,000+100,000+500,000+5,000,000+100,000+100,000,000+100,000+1,000,000+50,000,000+1,000,000+100,000+100,000+100,000+10,000+100,000+50,000+100,000+100,000+500,000+500+10,000+500,000+10,000+10,000+1,000,000+10,000+10,000,000+10,000+100,000+100,000+500,000+1,000,000+5,000+10,000,000+100,000+10,000+1,000,000+10,000,000+100,000+500,000+1,000,000+10,000,000+5,000,000+1,000,000+5,000,000+1,000,000+10,000,000+5,000,000+500,000+1,000,000+1,000,000+5,000,000+10,000,000+1,000,000+1,000,000+1,000,000+1,000,000+1,000,000+500,000+100,000+5,000,000+5,000,000+1,000,000+1,000,000+100+1,000,000+10,000+10,000+1,000,000+10,000+100,000+1,000+10,000+5,000+1,000+5,000+1,000+10,000+1,000,000+10,000+100,000+10,000+10,000+1,000+50,000+50,000+1,000+500,000+1,000+10,000+1,000,000+5,000+1,000+10,000+500+5,000,000+10,000+1,000,000+1,000+1,000+1,000+1,000,000+100,000+50,000+10,000+100,000+500+10,000+500,000+10,000+1,000+1,000+100,000+1,000+5,000+5,000+1,000,000+10,000+50,000+10,000+100,000+1,000,000+500+1,000,000+1,000+100+100+100+1,000+100,000+10,000+1,000,000+500+100+500+1,000,000+500+10,000+5,000,000+10,000+1,000+1,000,000+100,000+1,000+100,000+500+10+5,000+5+100,000+100,000+10,000+100,000+500,000+10,000+1,000+10,000+10,000,000+10,000+100,000+50,000+5,000,000+5,000,000+100,000+50+1,000+100+100,000+100,000+1,000+10,000+1,000,000+5,000,000+10,000,000+500,000+100,000+100,000+500+100,000+10,000+1,000,000+500,000+100+1,000,000+10,000+1,000,000+500,000+50,000+10,000+500,000+5,000+10,000+1,000+1,000+5,000+10,000+100,000+50,000+5,000+5,000,000+100+500+50,000+5,000+50+100+1,000,000+100,000,000+1,000,000+1,000,000+10,000,000+5,000,000+1,000+100,000+10,000+100,000+100,000+50,000+10,000+50,000+5,000+100,000+500,000+10,000+1,000+100,000+10,000+10,000+1,000,000+500,000+1,000+1,000,000+100+10,000+5,000+10,000+50,000+1,000+50,000+10,000+500,000+5,000+100,000+10,000+50,000+10,000+5,000+50,000+50,000+50,000+1,000+5,000+10,000+1,000+1,000+1,000+1,000+500+1,000+5,000+10,000+10,000+100,000+5,000+1,000+5,000+50,000+10,000+1,000+10,000+1,000+10,000+1,000,000+100,000+10,000+5,000+1,000+50+10,000+100,000+10,000+10,000+1,000+100,000+50,000+10,000+10,000+10,000+10,000+10,000+10,000+10,000+10,000+50,000+50,000+50,000+10,000+10,000+10,000+50,000+100,000+50,000+10,000+1,000+50,000+10,000+5,000+100+5,000,000+1,000,000+5,000,000+10,000,000+10,000,000+100,000,000+10,000,000+500,000+1,000,000+10,000+100,000+1,000,000+1,000,000+100,000+10,000+500,000+5,000+100,000+100,000+10,000+10,000+50,000+100,000+100,000+100,000+1,000+1,000,000+50,000+1,000,000+100,000+5,000+1,000,000+10,000+10,000+100,000+5,000+10,000+5,000+100,000+10,000+10,000+10,000+10,000+50,000+1,000+100,000+10,000+50,000+10,000+100,000+5,000+5,000+5,000,000+500,000+5,000+50,000+10,000+100,000+5,000,000+100,000+50,000+100+1,000,000+500+100+1,000,000+1,000,000+100+500,000+100,000+1,000+100,000+1,000+500,000+50,000+50,000+10,000,000+5,000+500,000+1,000+1,000,000+5,000,000+5,000,000+5,000+100,000+1,000+10,000+10,000+1,000,000+10,000+10,000+10,000+1,000+50,000+500+1,000+1,000+1,000+100,000+500+5,000+10,000+5,000+100+10,000+50+500+1,000+500,000+100,000+100,000,000+1,000,000+50,000+100+5,000+5,000,000+500+1,000+10,000+1,000+100+50,000+1,000+5,000+100+100+100+1,000,000+500+1,000,000+10,000,000+1,000,000+5,000+1,000,000+100,000+500,000+10,000+10,000+10,000+1,000,000+10,000,000+100,000+10,000+10,000+1,000+1,000,000+10,000+10,000+500,000+100,000+100,000+1,000,000+50,000+50,000+50,000+5+10,000+100,000+100,000+100+100,000+10+5,000+500+10,000+500,000+1,000,000+10,000+10,000,000+5,000,000+10,000,000+50,000,000+5,000,000+1,000,000+5,000,000+10,000,000+1,000,000+10,000,000+1,000,000+5,000,000+10,000,000+10,000,000+10,000,000+50,000+10,000,000+5,000,000+10,000,000+10,000,000+10,000,000+10,000,000+5,000,000+10,000,000+10,000,000+50,000+50,000+10,000,000+5,000,000+5,000+500,000+5,000+10,000+10,000+500,000+1,000+10,000+500+10,000+10,000+1,000+10,000+10,000+10,000+5,000+5,000+100+10,000+10,000+100+100,000+5,000+1,000+1,000+1,000+10,000+10,000,000+1,000,000+5,000,000+10,000,000+500,000+5,000,000+10,000+10,000,000+1,000,000+10,000+1,000+5,000,000+1,000+1,000,000+5,000+50,000,000+10,000,000+500+5,000+50,000+1,000+5,000,000+1,000+10,000+50,000+10,000,000+50,000,000+500,000+100+5,000+100,000+5,000+500+10,000+5,000+5,000+10,000,000+10,000,000+10,000,000+5,000,000+10,000,000+10,000,000+5,000,000+1,000,000+10,000,000+10,000,000+50,000,000+1,000,000+10,000,000+1,000,000+10,000,000+5,000,000+10,000,000+1,000,000+100,000,000+50,000,000+50,000,000+5,000,000+50,000,000+10,000,000+10,000,000+5,000,000+10,000,000+10,000,000+100,000+10,000,000+1,000+10,000+100+50,000+1,000+10+100+500,000+10,000,000+500,000+1,000+5,000,000+5,000,000+100,000+10,000+1,000+1,000,000+10,000+1,000+1,000+10,000,000+500+10,000+10,000+1,000+1,000,000+500+10,000+1,000+100+500,000+100+100+10,000+100+10+10,000+10,000+100+10,000,000+5,000,000+10,000,000+50,000,000+5,000,000+100,000+1,000+5,000,000+10,000,000+1,000,000+1,000,000+10,000,000+100,000+10,000+50,000+100+1,000,000+500,000+1,000,000+10,000+1,000+5,000,000+100,000+500,000+10,000,000+10,000+5,000,000+1,000,000+1,000,000+100,000+10,000,000+100,000+100,000+10,000,000+10,000,000+1,000+10,000,000+1,000,000+1,000,000+100,000,000+10,000,000+50,000,000+10,000,000+10,000,000+500,000+100,000,000+10,000,000+100,000+5,000,000+10,000,000+10,000,000+100,000,000+1,000,000+50,000,000+10,000,000+50,000,000+10,000,000+100,000,000+10,000,000+10,000,000+5,000,000+10,000,000+10,000,000+1,000,000+100,000+100,000+100,000+1,000,000+1,000+1,000+1,000+50,000+1,000+5,000+10,000+10,000+100,000+1,000+10,000+50,000+10,000+100,000+500+1,000,000+50,000+100,000+50,000+10,000+100+10+10,000+10+1,000,000+10,000+500+100+100,000+10,000,000+5,000,000+50,000,000+10,000,000+100,000+1,000,000+10,000,000+1,000,000+1,000,000+1,000+5,000,000+10,000+5,000+5,000,000+100,000+10,000,000+5,000,000+10,000+1,000,000+1,000,000+1,000,000+50,000+10,000,000+10,000+10,000,000+1,000,000+100,000+1,000,000+1,000,000+1,000,000+10,000+10,000+5,000+5,000+100,000+1,000+1,000+1,000+5,000+10,000+1,000+1,000+5,000+1,000+1,000+100+1,000+5,000+5,000+500,000+500+100+10,000+10,000+1,000+100+50,000+10+100,000+5,000+100,000+10+100+50,000+100,000+100,000+1,000,000+1,000,000+100,000+500,000+50,000+1,000,000+50,000+50,000+10,000+5,000,000+5,000,000+1,000,000+1,000,000+1,000,000+10,000,000+5,000,000+1,000,000+100,000+5,000,000+10,000,000+1,000,000+1,000,000+100,000+10,000,000+500,000+1,000,000+100,000+1,000,000+1,000,000+500,000+100,000+1,000,000+500,000+100,000+1,000,000+100,000+100,000+50,000+1,000,000+100,000+100,000+1,000,000+10,000,000+1,000,000+100,000+10,000,000+500,000+10,000+100,000+500,000+1,000,000+100,000+5,000+500,000+50,000+100,000+100,000+10,000+500,000+100,000+5,000+100,000+100,000+1,000+1,000,000+5,000+1,000+10,000+10,000+100,000+100,000+50,000+5,000+100,000+10,000+10,000+10,000+5,000+5,000+1,000+10,000+500,000+5,000+1,000+5,000+10,000+50,000+100,000+100,000+10,000+500,000+100+1,000+1,000,000+10,000,000+500+100,000+1,000,000+1,000,000+10,000+500,000+100,000+100,000+100,000+100,000+10,000,000+10,000+100,000+1,000,000+1,000,000+1,000,000+1,000,000+1,000,000+1,000,000+1,000+1,000,000+100,000+10,000,000+50,000,000+10,000,000+100,000,000+5,000,000+100,000+500,000+1,000,000+1,000,000+1,000,000+1,000,000+10,000,000+500,000+1,000,000+10,000,000+1,000,000+10,000+500,000+500,000+10,000,000+1,000,000+5,000,000+100,000+1,000,000+1,000,000+10,000+100,000+1,000,000+100,000+10,000+10,000+10,000,000+1,000,000+1,000,000+1,000+500,000+1,000,000+5,000+1,000,000+1,000,000+10,000,000+500,000+1,000,000+500,000+5,000,000+500,000+1,000,000+1,000,000+100,000+500,000+50,000+50,000+100,000+500+1,000+100+500+100,000+1,000+100,000+1,000+1,000,000+1,000,000+10,000,000+1,000+500+100+100,000+1,000,000+5,000,000+10,000+1,000+500+500+10,000+1,000+5,000+500+500+1,000+1,000,000+10,000,000+1,000+100+1,000+10+100+50+10,000,000+5,000,000+1,000+1,000+10,000,000+100+100,000+50,000+10,000+500,000+100,000,000+1,000,000+100,000,000+10,000,000+10,000,000+1,000,000+100,000+10,000,000+1,000,000+1,000,000+5,000,000+100,000+50,000+500,000+500,000+5,000,000+1,000,000+50,000+50,000+100,000+100,000+50,000+100,000+50,000+50,000+50,000+5,000,000+100,000+50,000+10,000,000+10,000,000+10,000,000+1,000,000+50,000+10,000+1,000+5,000+10,000+10,000+10,000+1,000+10,000+1,000+50,000+10,000+1,000,000+100,000+100+5,000+50,000+100+50,000+10,000+1,000+100+100,000+1,000+1,000+100+1,000+10,000+5,000+500,000+100,000+100+100+10,000+5,000+1,000+100,000+100,000+100,000+1,000,000+100,000+10,000+10,000+10,000+100,000+1,000+1,000,000+50,000+5,000+1,000+10,000+1,000+1,000+500,000+10,000+1,000+500+10,000+100+1,000+5,000+100,000+10,000+100+1,000+10,000+5,000+10,000+500,000+500,000+500,000+5,000+1,000+5,000+1,000,000+1,000+10,000+100,000+1,000+100,000+10,000+50,000+500+10,000+5,000+10,000+5,000+5,000+5,000+500+500+100+5,000+10,000+50,000+100+1,000+10,000+100+5,000+100+10+10,000+50,000+50,000+10,000+100,000+10,000+10,000,000+50+1,000,000+100,000+100,000+100,000+10,000+10,000+50,000+100,000+10,000+1,000+50,000+100,000+5,000+50,000+10,000+1,000,000+100,000+100,000+5,000+10,000+100+1,000+5,000+500+100,000+10,000+10,000+1,000+10,000+10,000+10,000+10,000+5,000+10,000+50,000,000+50,000,000+50,000,000+10,000,000+10,000,000+10,000,000+10,000,000+10,000,000+10,000,000+500,000+10,000,000+5,000,000+1,000+5,000,000+1,000,000+1,000,000+10,000,000+5,000,000+1,000,000+5,000,000+10,000,000+10,000,000+100,000,000+1,000,000+100,000+100,000+1,000,000+1,000,000+1,000,000+10,000,000+100+10,000+10,000+10+100+1,000+500,000+100,000+1,000,000+5,000+50+10,000,000+100,000+1,000+50+100,000+5,000+100,000+10,000+100,000+1,000+100+1,000+10,000+10,000+5,000+10,000+50,000+100,000+100,000+5+10,000+1,000,000+1,000,000+5,000+100,000+100,000+1,000+10,000+10,000+50,000+100,000+1,000+1,000+1,000+10,000+1,000+100+10,000+100+500+10+50,000+100+500+500+1,000+100+1,000+100+1,000+10+100+100,000+50,000+10,000+10,000+100,000+50,000+100,000+5,000+10,000+50,000+50,000+1,000+10,000+1,000+100+1,000+5,000+1,000+500+10,000+500+50+5,000+100+500+50+50+50,000+1,000+10,000+5,000+1,000+1,000,000+10,000,000+100+10,000+50,000+1,000+100,000+10,000+500+1,000+1,000+100,000+1,000,000+1,000,000+100,000+10,000+100+10,000+1,000,000+1,000,000+50,000,000+100,000+1,000,000+500,000+500,000+50,000+100,000+1,000,000+1,000,000+1,000,000+100,000+1,000,000+10,000,000+10,000+10,000,000+1,000,000+100,000+10,000+100+1,000+1,000+100,000+500,000+5,000+5,000,000+10,000+1,000,000+1,000,000+10,000,000+50,000+10,000+500,000+5,000,000+500,000+10,000,000+1,000,000+500,000+1,000,000+100,000+5,000,000+10,000,000+5,000,000+5,000,000+500,000+500,000+10,000,000+100,000+10,000,000+100,000+100,000+10,000,000+10,000,000+10,000+1,000,000+100,000+5,000,000+10,000+1,000,000+100+10,000+1,000+10,000+100+5,000+500,000+1,000,000+5,000+10+1,000,000+1,000,000+5,000,000+10,000,000+10,000+50,000+5,000+1,000,000+1,000+5,000,000+10,000,000+10,000,000+1,000,000+1,000+50,000+100+1,000,000+100+1,000,000+1,000+1,000,000+1,000+1,000,000+10,000,000+10+1,000,000+1,000,000+1,000,000+1,000,000+5,000,000+1,000,000+100,000+1,000,000+50,000+1,000,000+500,000+1,000,000+10,000+1,000,000+5,000,000+500,000+1,000,000+50,000+5,000+500,000+10,000+100,000+100,000+500,000+1,000,000+1,000,000+50,000+100,000+1,000,000+10,000+1,000+10,000+500+10,000+10,000+50,000,000+50+5,000+5,000+500+1,000+1,000+10,000+10+100+1,000+500+100+10,000,000+50,000+10,000,000+1,000,000+1,000,000+1,000+5,000+1,000,000+100+500+1,000,000+1,000+1,000,000+100+5,000,000+10,000,000+1,000,000+100,000+100,000+100,000+100,000+100,000+500,000+100,000+1,000,000+1,000,000+1,000,000+100,000+10,000+100,000+5,000,000+10,000+100,000+1,000,000+10,000,000+10,000,000+100,000+5,000,000+100,000+5,000,000+10,000,000+1,000,000+5,000,000+10,000,000+10,000,000+5,000,000+500,000+500,000+10,000,000+500,000+1,000,000+100,000+500,000+500,000+1,000,000+5,000,000+500,000+1,000,000+1,000,000+500,000+100,000+5,000,000+500,000+100,000+1,000,000+500,000+50,000,000+1,000,000+10,000,000+500,000+5,000,000+5,000,000+100,000+500,000+500,000+100,000+10,000,000+10,000,000+10,000,000+10,000,000+10,000,000+5,000,000+10,000,000+1,000,000+1,000,000+10,000,000+10,000,000+1,000,000+10,000,000+5,000,000+10,000,000+1,000,000+10,000,000+500,000+10,000,000+10,000,000+10,000,000+1,000,000+5,000,000+10,000,000+5,000,000+5,000,000+1,000,000+1,000,000+5,000,000+50,000,000+10,000,000+10,000,000+5,000,000+10,000+1,000+1,000+100+10+10,000+1,000,000+5,000,000+10,000,000+10,000,000+500,000+1,000,000+1,000,000+50,000,000+1,000,000+10,000,000+1,000,000+10,000,000+1,000,000+500,000+1,000,000+1,000,000+50,000,000+500+50,000+100+100+1,000+50+500,000+1,000,000+500+1,000+100+500,000+10,000+100,000+1,000,000+1,000+10,000+100+10,000,000+10,000,000+10,000+1,000,000+100,000+1,000,000+100,000+100,000+10,000,000+5,000+1,000,000+100,000+100,000+50,000+50,000+500,000+10,000+500,000+10,000+50,000+1,000+10,000+1,000+100,000+1,000+10,000+1,000+5,000+500,000+1,000,000+100,000+500,000+100,000+500,000+10+50,000+5,000+5,000+1,000+10,000+100,000+100,000+1,000+50,000+1,000+5,000,000+10,000,000+5,000+1,000,000+10,000,000+10,000,000+100,000+100,000+1,000,000+1,000,000+1,000,000+500,000+100,000+1,000,000+1,000,000+1,000,000+500,000+1,000+100,000+5,000+50,000+1,000+10,000+50,000+10,000+500+5,000+1,000,000+1,000+100+100+10,000+50,000,000+500,000+100+10,000,000+50,000+5,000,000+10,000+10,000,000+100,000+100,000+5,000,000+1,000,000+10,000,000+10,000+5,000+100,000+100,000+100,000+50,000,000+100,000+100,000+50,000+5,000,000+5,000,000+1,000,000+100,000,000+50,000,000+50,000,000+1,000,000,000+10,000,000+1,000,000+5,000,000+10,000,000+5,000,000+50,000,000+10,000,000+10,000,000+10,000,000+10,000,000+10,000,000+5,000,000+10,000,000+5,000,000+50,000,000+5,000,000+10,000,000+100,000+50,000+1,000+100,000+50,000+5,000+1,000+1,000+1,000+5,000+10,000+50,000+10,000+10,000+100+500+100,000+10,000+1,000,000+1,000+1,000+500+1,000+50,000+1,000+100+1,000+5,000,000+500+50+1,000+50+1,000+10,000+1,000+50,000+100+5,000,000+1,000,000+10,000+100,000+50,000+100,000+50,000+50,000+1,000+10,000+1,000+1,000+1,000+5,000+10,000+1,000+1,000+100+1,000+100+1,000+1,000+1,000+5,000+5,000+1,000+1,000,000+1,000+500,000+100,000+100,000+10,000,000+1,000,000+1,000,000+1,000+5,000,000+500,000+1,000,000+1,000,000+1,000,000+100,000+100,000+100,000+10,000,000+100,000+100,000+1,000,000+100+10,000+100,000+50,000,000+100,000+10,000+5,000,000+500+10,000,000+10,000+50,000+500,000+100,000+100,000+10,000,000+5,000+100,000+5,000,000+50,000+1,000,000+10,000,000+1,000,000+5,000,000+10,000,000+1,000,000+100,000+5,000,000+10,000,000+5,000,000+500,000+500,000+50,000+5,000+100,000+1,000,000+1,000+100,000+1,000,000+1,000,000+500,000+100,000+100,000+5,000,000+5,000+50,000+5,000,000+1,000+5,000,000+5,000+5,000+50,000+10,000+1,000+1,000+10,000+1,000+5,000+500+1,000+100+500+10,000+10,000+10,000,000+1,000+1,000,000+1,000,000+10,000,000+10,000+100,000+100,000+500+1,000,000+500,000+5,000,000+1,000,000+1,000,000+500,000+1,000,000+100,000+10,000+10,000+1,000+50,000+100,000+100,000+100,000+1,000,000+10,000+5,000+500,000+1,000+50,000+10,000+10,000+10,000+50,000+1,000,000+1,000+100,000+1,000,000+5,000+10,000+50,000+10,000+10,000+5,000+100,000+5,000+1,000+10,000+100,000+1,000+50,000+5,000+5,000+1,000+1,000+100+100,000+100,000+10,000,000+1,000,000+1,000,000+5,000+5,000+1,000+1,000,000+5,000,000+5,000,000+1,000,000+10,000,000+100,000,000+5,000,000+10,000,000+10,000,000+1,000,000+10,000,000+10,000,000+10,000,000+1,000,000+50,000,000+1,000,000+500,000+1,000,000+50,000,000+100,000+1,000,000+1,000,000+10,000+500,000+1,000,000+500,000+100,000+50,000+500,000+10,000,000+10,000+5,000,000+100,000+100,000+50,000+500,000+5,000+100,000+100,000+5,000+5,000+1,000,000+100,000+100,000+5,000+1,000+10,000+100,000+10,000+5,000+100,000+10,000+10,000+10,000+1,000,000+100,000+500,000+10,000+10,000+10,000+10,000+1,000,000+100+50,000+10,000+10,000+50,000+100,000+100,000,000+100,000+10,000+1,000,000+5,000+10,000+10,000+5,000+10,000+1,000+50,000+100+10,000+10,000+100,000+50,000+100,000+1,000+10,000+100,000+5,000,000+500+50,000+10,000+500+10,000+100,000+10,000+100,000+5,000+10,000+100,000+1,000+100,000+100,000+10,000+10,000+500+100,000+1,000+1,000,000+10+1,000+1,000,000+1,000+10,000+5,000+500,000+10,000+1,000+10,000+1,000+5,000+10,000+100,000+10,000+10,000+10,000+50,000+1,000,000+5,000,000+1,000+5,000+1,000+50,000+1,000+10+500+100,000,000+1,000+1,000+1,000+10,000+500+1,000+50+10,000+1,000+5,000+1,000,000+1,000+1,000,000+5,000,000+5,000,000+1,000+10,000,000+10,000+10,000,000+50,000,000+5,000,000+10,000+1,000,000+1,000,000+10,000,000+1,000,000+1,000,000+10,000,000+500,000+100,000+5,000,000+1,000,000+500,000+500,000+1,000,000+1,000,000+500,000+5,000,000+10,000+5,000+100+1,000+1,000+1,000+50,000,000+5,000+1,000+100+100+1,000,000+100+5,000,000+10,000+5,000,000+10,000+50,000,000+50,000+100,000+1,000,000+5,000,000+100,000+1,000,000+500,000+100,000+1,000,000+10,000+100,000+1,000,000+500,000+1,000,000+10,000+1,000,000+1,000+500,000+5,000+100,000+50,000+500,000+5,000+100,000+100,000+10,000+10,000+50,000+500,000+10,000+100,000+10,000,000+1,000+50,000+50,000+10,000+1,000+50,000+500,000+500,000+10,000+1,000+10,000+1,000+1,000,000+10,000+500+1,000+5,000,000+10,000+100+10,000,000+1,000,000+10,000,000+100,000+10,000,000+10,000,000+500,000+10,000,000+1,000,000+100,000+50,000,000+1,000,000+50,000+500+1,000,000+10,000+10,000,000+1,000,000+100,000+1,000,000+10,000+10+50,000,000+10,000+5,000,000+1,000+5+100+50,000+5,000,000+100,000+10,000+50,000+10,000+100,000+5,000+1,000+10,000+5,000+100,000+50,000+10,000+100,000+5,000+1,000+5,000+1,000+5,000+1,000+500+1,000+1,000+5,000+50,000+1,000+100,000+500+10,000+10,000+1,000+10,000+50,000+5,000+500+5,000+100+10,000+5,000+100+1,000,000+5,000+10,000+10,000+100+100,000+10,000+1,000+1,000+100,000+5,000+10,000+1,000+5,000+10,000,000+500+10,000+10,000+1,000+100,000+500,000+10,000+10,000+1,000,000+100,000,000+10,000+10,000+100,000+1,000+100+50+500+10,000+1,000+5,000+1,000,000+1,000,000+100+10,000+100,000+100,000+5,000,000+1,000,000+10,000+10,000+10,000,000+100,000+1,000+500+50+500+100,000,000+10,000,000+1,000,000+1,000,000+100,000+5,000,000+100,000+10,000,000+1,000,000+5,000+1,000+1,000,000+100+100,000+10,000,000+10,000+1,000+1,000,000+50,000+10,000,000+10,000,000+50,000+5,000,000+100,000+10,000+1,000+5,000+500,000+10,000,000+1,000,000+1,000+500+5,000+1,000+100,000+5,000+1,000,000+10,000+10,000+5,000+50,000+1,000,000+50,000+100,000+100,000+500+100,000+1,000+10+100,000+10,000+10,000+1,000+10,000,000+50,000+10,000,000+50,000+50,000+50,000+50,000+50,000+1,000,000+500,000+100,000+1,000,000+1,000,000+100,000+5,000+1,000+10,000+1,000,000+100,000+100+1,000,000+100+1,000+50,000+500,000+100,000+5,000+1,000+5,000,000+5,000+10,000+10,000+100,000+100,000+1,000+500+5,000+100+1,000+10,000,000+' to numeric",
     "output_type": "error",
     "traceback": [
      "\u001b[1;31m---------------------------------------------------------------------------\u001b[0m",
      "\u001b[1;31mTypeError\u001b[0m                                 Traceback (most recent call last)",
      "Cell \u001b[1;32mIn[73], line 1\u001b[0m\n\u001b[1;32m----> 1\u001b[0m avg_installs_free \u001b[38;5;241m=\u001b[39m \u001b[43minstall_and_type\u001b[49m\u001b[43m[\u001b[49m\u001b[43minstall_and_type\u001b[49m\u001b[43m[\u001b[49m\u001b[38;5;124;43m'\u001b[39;49m\u001b[38;5;124;43mType\u001b[39;49m\u001b[38;5;124;43m'\u001b[39;49m\u001b[43m]\u001b[49m\u001b[43m \u001b[49m\u001b[38;5;241;43m==\u001b[39;49m\u001b[43m \u001b[49m\u001b[38;5;124;43m'\u001b[39;49m\u001b[38;5;124;43mFree\u001b[39;49m\u001b[38;5;124;43m'\u001b[39;49m\u001b[43m]\u001b[49m\u001b[43m[\u001b[49m\u001b[38;5;124;43m'\u001b[39;49m\u001b[38;5;124;43mInstalls\u001b[39;49m\u001b[38;5;124;43m'\u001b[39;49m\u001b[43m]\u001b[49m\u001b[38;5;241;43m.\u001b[39;49m\u001b[43mmean\u001b[49m\u001b[43m(\u001b[49m\u001b[43m)\u001b[49m\n\u001b[0;32m      2\u001b[0m avg_installs_paid \u001b[38;5;241m=\u001b[39m install_and_type[install_and_type[\u001b[38;5;124m'\u001b[39m\u001b[38;5;124mType\u001b[39m\u001b[38;5;124m'\u001b[39m] \u001b[38;5;241m==\u001b[39m \u001b[38;5;124m'\u001b[39m\u001b[38;5;124mPaid\u001b[39m\u001b[38;5;124m'\u001b[39m][\u001b[38;5;124m'\u001b[39m\u001b[38;5;124mInstalls\u001b[39m\u001b[38;5;124m'\u001b[39m]\u001b[38;5;241m.\u001b[39mmean()\n\u001b[0;32m      3\u001b[0m \u001b[38;5;28mprint\u001b[39m(avg_installs_free)\n",
      "File \u001b[1;32m~\\AppData\\Local\\Programs\\Python\\Python312\\Lib\\site-packages\\pandas\\core\\series.py:6540\u001b[0m, in \u001b[0;36mSeries.mean\u001b[1;34m(self, axis, skipna, numeric_only, **kwargs)\u001b[0m\n\u001b[0;32m   6532\u001b[0m \u001b[38;5;129m@doc\u001b[39m(make_doc(\u001b[38;5;124m\"\u001b[39m\u001b[38;5;124mmean\u001b[39m\u001b[38;5;124m\"\u001b[39m, ndim\u001b[38;5;241m=\u001b[39m\u001b[38;5;241m1\u001b[39m))\n\u001b[0;32m   6533\u001b[0m \u001b[38;5;28;01mdef\u001b[39;00m \u001b[38;5;21mmean\u001b[39m(\n\u001b[0;32m   6534\u001b[0m     \u001b[38;5;28mself\u001b[39m,\n\u001b[1;32m   (...)\u001b[0m\n\u001b[0;32m   6538\u001b[0m     \u001b[38;5;241m*\u001b[39m\u001b[38;5;241m*\u001b[39mkwargs,\n\u001b[0;32m   6539\u001b[0m ):\n\u001b[1;32m-> 6540\u001b[0m     \u001b[38;5;28;01mreturn\u001b[39;00m \u001b[43mNDFrame\u001b[49m\u001b[38;5;241;43m.\u001b[39;49m\u001b[43mmean\u001b[49m\u001b[43m(\u001b[49m\u001b[38;5;28;43mself\u001b[39;49m\u001b[43m,\u001b[49m\u001b[43m \u001b[49m\u001b[43maxis\u001b[49m\u001b[43m,\u001b[49m\u001b[43m \u001b[49m\u001b[43mskipna\u001b[49m\u001b[43m,\u001b[49m\u001b[43m \u001b[49m\u001b[43mnumeric_only\u001b[49m\u001b[43m,\u001b[49m\u001b[43m \u001b[49m\u001b[38;5;241;43m*\u001b[39;49m\u001b[38;5;241;43m*\u001b[39;49m\u001b[43mkwargs\u001b[49m\u001b[43m)\u001b[49m\n",
      "File \u001b[1;32m~\\AppData\\Local\\Programs\\Python\\Python312\\Lib\\site-packages\\pandas\\core\\generic.py:12417\u001b[0m, in \u001b[0;36mNDFrame.mean\u001b[1;34m(self, axis, skipna, numeric_only, **kwargs)\u001b[0m\n\u001b[0;32m  12410\u001b[0m \u001b[38;5;28;01mdef\u001b[39;00m \u001b[38;5;21mmean\u001b[39m(\n\u001b[0;32m  12411\u001b[0m     \u001b[38;5;28mself\u001b[39m,\n\u001b[0;32m  12412\u001b[0m     axis: Axis \u001b[38;5;241m|\u001b[39m \u001b[38;5;28;01mNone\u001b[39;00m \u001b[38;5;241m=\u001b[39m \u001b[38;5;241m0\u001b[39m,\n\u001b[1;32m   (...)\u001b[0m\n\u001b[0;32m  12415\u001b[0m     \u001b[38;5;241m*\u001b[39m\u001b[38;5;241m*\u001b[39mkwargs,\n\u001b[0;32m  12416\u001b[0m ) \u001b[38;5;241m-\u001b[39m\u001b[38;5;241m>\u001b[39m Series \u001b[38;5;241m|\u001b[39m \u001b[38;5;28mfloat\u001b[39m:\n\u001b[1;32m> 12417\u001b[0m     \u001b[38;5;28;01mreturn\u001b[39;00m \u001b[38;5;28;43mself\u001b[39;49m\u001b[38;5;241;43m.\u001b[39;49m\u001b[43m_stat_function\u001b[49m\u001b[43m(\u001b[49m\n\u001b[0;32m  12418\u001b[0m \u001b[43m        \u001b[49m\u001b[38;5;124;43m\"\u001b[39;49m\u001b[38;5;124;43mmean\u001b[39;49m\u001b[38;5;124;43m\"\u001b[39;49m\u001b[43m,\u001b[49m\u001b[43m \u001b[49m\u001b[43mnanops\u001b[49m\u001b[38;5;241;43m.\u001b[39;49m\u001b[43mnanmean\u001b[49m\u001b[43m,\u001b[49m\u001b[43m \u001b[49m\u001b[43maxis\u001b[49m\u001b[43m,\u001b[49m\u001b[43m \u001b[49m\u001b[43mskipna\u001b[49m\u001b[43m,\u001b[49m\u001b[43m \u001b[49m\u001b[43mnumeric_only\u001b[49m\u001b[43m,\u001b[49m\u001b[43m \u001b[49m\u001b[38;5;241;43m*\u001b[39;49m\u001b[38;5;241;43m*\u001b[39;49m\u001b[43mkwargs\u001b[49m\n\u001b[0;32m  12419\u001b[0m \u001b[43m    \u001b[49m\u001b[43m)\u001b[49m\n",
      "File \u001b[1;32m~\\AppData\\Local\\Programs\\Python\\Python312\\Lib\\site-packages\\pandas\\core\\generic.py:12374\u001b[0m, in \u001b[0;36mNDFrame._stat_function\u001b[1;34m(self, name, func, axis, skipna, numeric_only, **kwargs)\u001b[0m\n\u001b[0;32m  12370\u001b[0m nv\u001b[38;5;241m.\u001b[39mvalidate_func(name, (), kwargs)\n\u001b[0;32m  12372\u001b[0m validate_bool_kwarg(skipna, \u001b[38;5;124m\"\u001b[39m\u001b[38;5;124mskipna\u001b[39m\u001b[38;5;124m\"\u001b[39m, none_allowed\u001b[38;5;241m=\u001b[39m\u001b[38;5;28;01mFalse\u001b[39;00m)\n\u001b[1;32m> 12374\u001b[0m \u001b[38;5;28;01mreturn\u001b[39;00m \u001b[38;5;28;43mself\u001b[39;49m\u001b[38;5;241;43m.\u001b[39;49m\u001b[43m_reduce\u001b[49m\u001b[43m(\u001b[49m\n\u001b[0;32m  12375\u001b[0m \u001b[43m    \u001b[49m\u001b[43mfunc\u001b[49m\u001b[43m,\u001b[49m\u001b[43m \u001b[49m\u001b[43mname\u001b[49m\u001b[38;5;241;43m=\u001b[39;49m\u001b[43mname\u001b[49m\u001b[43m,\u001b[49m\u001b[43m \u001b[49m\u001b[43maxis\u001b[49m\u001b[38;5;241;43m=\u001b[39;49m\u001b[43maxis\u001b[49m\u001b[43m,\u001b[49m\u001b[43m \u001b[49m\u001b[43mskipna\u001b[49m\u001b[38;5;241;43m=\u001b[39;49m\u001b[43mskipna\u001b[49m\u001b[43m,\u001b[49m\u001b[43m \u001b[49m\u001b[43mnumeric_only\u001b[49m\u001b[38;5;241;43m=\u001b[39;49m\u001b[43mnumeric_only\u001b[49m\n\u001b[0;32m  12376\u001b[0m \u001b[43m\u001b[49m\u001b[43m)\u001b[49m\n",
      "File \u001b[1;32m~\\AppData\\Local\\Programs\\Python\\Python312\\Lib\\site-packages\\pandas\\core\\series.py:6448\u001b[0m, in \u001b[0;36mSeries._reduce\u001b[1;34m(self, op, name, axis, skipna, numeric_only, filter_type, **kwds)\u001b[0m\n\u001b[0;32m   6443\u001b[0m     \u001b[38;5;66;03m# GH#47500 - change to TypeError to match other methods\u001b[39;00m\n\u001b[0;32m   6444\u001b[0m     \u001b[38;5;28;01mraise\u001b[39;00m \u001b[38;5;167;01mTypeError\u001b[39;00m(\n\u001b[0;32m   6445\u001b[0m         \u001b[38;5;124mf\u001b[39m\u001b[38;5;124m\"\u001b[39m\u001b[38;5;124mSeries.\u001b[39m\u001b[38;5;132;01m{\u001b[39;00mname\u001b[38;5;132;01m}\u001b[39;00m\u001b[38;5;124m does not allow \u001b[39m\u001b[38;5;132;01m{\u001b[39;00mkwd_name\u001b[38;5;132;01m}\u001b[39;00m\u001b[38;5;124m=\u001b[39m\u001b[38;5;132;01m{\u001b[39;00mnumeric_only\u001b[38;5;132;01m}\u001b[39;00m\u001b[38;5;124m \u001b[39m\u001b[38;5;124m\"\u001b[39m\n\u001b[0;32m   6446\u001b[0m         \u001b[38;5;124m\"\u001b[39m\u001b[38;5;124mwith non-numeric dtypes.\u001b[39m\u001b[38;5;124m\"\u001b[39m\n\u001b[0;32m   6447\u001b[0m     )\n\u001b[1;32m-> 6448\u001b[0m \u001b[38;5;28;01mreturn\u001b[39;00m \u001b[43mop\u001b[49m\u001b[43m(\u001b[49m\u001b[43mdelegate\u001b[49m\u001b[43m,\u001b[49m\u001b[43m \u001b[49m\u001b[43mskipna\u001b[49m\u001b[38;5;241;43m=\u001b[39;49m\u001b[43mskipna\u001b[49m\u001b[43m,\u001b[49m\u001b[43m \u001b[49m\u001b[38;5;241;43m*\u001b[39;49m\u001b[38;5;241;43m*\u001b[39;49m\u001b[43mkwds\u001b[49m\u001b[43m)\u001b[49m\n",
      "File \u001b[1;32m~\\AppData\\Local\\Programs\\Python\\Python312\\Lib\\site-packages\\pandas\\core\\nanops.py:147\u001b[0m, in \u001b[0;36mbottleneck_switch.__call__.<locals>.f\u001b[1;34m(values, axis, skipna, **kwds)\u001b[0m\n\u001b[0;32m    145\u001b[0m         result \u001b[38;5;241m=\u001b[39m alt(values, axis\u001b[38;5;241m=\u001b[39maxis, skipna\u001b[38;5;241m=\u001b[39mskipna, \u001b[38;5;241m*\u001b[39m\u001b[38;5;241m*\u001b[39mkwds)\n\u001b[0;32m    146\u001b[0m \u001b[38;5;28;01melse\u001b[39;00m:\n\u001b[1;32m--> 147\u001b[0m     result \u001b[38;5;241m=\u001b[39m \u001b[43malt\u001b[49m\u001b[43m(\u001b[49m\u001b[43mvalues\u001b[49m\u001b[43m,\u001b[49m\u001b[43m \u001b[49m\u001b[43maxis\u001b[49m\u001b[38;5;241;43m=\u001b[39;49m\u001b[43maxis\u001b[49m\u001b[43m,\u001b[49m\u001b[43m \u001b[49m\u001b[43mskipna\u001b[49m\u001b[38;5;241;43m=\u001b[39;49m\u001b[43mskipna\u001b[49m\u001b[43m,\u001b[49m\u001b[43m \u001b[49m\u001b[38;5;241;43m*\u001b[39;49m\u001b[38;5;241;43m*\u001b[39;49m\u001b[43mkwds\u001b[49m\u001b[43m)\u001b[49m\n\u001b[0;32m    149\u001b[0m \u001b[38;5;28;01mreturn\u001b[39;00m result\n",
      "File \u001b[1;32m~\\AppData\\Local\\Programs\\Python\\Python312\\Lib\\site-packages\\pandas\\core\\nanops.py:404\u001b[0m, in \u001b[0;36m_datetimelike_compat.<locals>.new_func\u001b[1;34m(values, axis, skipna, mask, **kwargs)\u001b[0m\n\u001b[0;32m    401\u001b[0m \u001b[38;5;28;01mif\u001b[39;00m datetimelike \u001b[38;5;129;01mand\u001b[39;00m mask \u001b[38;5;129;01mis\u001b[39;00m \u001b[38;5;28;01mNone\u001b[39;00m:\n\u001b[0;32m    402\u001b[0m     mask \u001b[38;5;241m=\u001b[39m isna(values)\n\u001b[1;32m--> 404\u001b[0m result \u001b[38;5;241m=\u001b[39m \u001b[43mfunc\u001b[49m\u001b[43m(\u001b[49m\u001b[43mvalues\u001b[49m\u001b[43m,\u001b[49m\u001b[43m \u001b[49m\u001b[43maxis\u001b[49m\u001b[38;5;241;43m=\u001b[39;49m\u001b[43maxis\u001b[49m\u001b[43m,\u001b[49m\u001b[43m \u001b[49m\u001b[43mskipna\u001b[49m\u001b[38;5;241;43m=\u001b[39;49m\u001b[43mskipna\u001b[49m\u001b[43m,\u001b[49m\u001b[43m \u001b[49m\u001b[43mmask\u001b[49m\u001b[38;5;241;43m=\u001b[39;49m\u001b[43mmask\u001b[49m\u001b[43m,\u001b[49m\u001b[43m \u001b[49m\u001b[38;5;241;43m*\u001b[39;49m\u001b[38;5;241;43m*\u001b[39;49m\u001b[43mkwargs\u001b[49m\u001b[43m)\u001b[49m\n\u001b[0;32m    406\u001b[0m \u001b[38;5;28;01mif\u001b[39;00m datetimelike:\n\u001b[0;32m    407\u001b[0m     result \u001b[38;5;241m=\u001b[39m _wrap_results(result, orig_values\u001b[38;5;241m.\u001b[39mdtype, fill_value\u001b[38;5;241m=\u001b[39miNaT)\n",
      "File \u001b[1;32m~\\AppData\\Local\\Programs\\Python\\Python312\\Lib\\site-packages\\pandas\\core\\nanops.py:720\u001b[0m, in \u001b[0;36mnanmean\u001b[1;34m(values, axis, skipna, mask)\u001b[0m\n\u001b[0;32m    718\u001b[0m count \u001b[38;5;241m=\u001b[39m _get_counts(values\u001b[38;5;241m.\u001b[39mshape, mask, axis, dtype\u001b[38;5;241m=\u001b[39mdtype_count)\n\u001b[0;32m    719\u001b[0m the_sum \u001b[38;5;241m=\u001b[39m values\u001b[38;5;241m.\u001b[39msum(axis, dtype\u001b[38;5;241m=\u001b[39mdtype_sum)\n\u001b[1;32m--> 720\u001b[0m the_sum \u001b[38;5;241m=\u001b[39m \u001b[43m_ensure_numeric\u001b[49m\u001b[43m(\u001b[49m\u001b[43mthe_sum\u001b[49m\u001b[43m)\u001b[49m\n\u001b[0;32m    722\u001b[0m \u001b[38;5;28;01mif\u001b[39;00m axis \u001b[38;5;129;01mis\u001b[39;00m \u001b[38;5;129;01mnot\u001b[39;00m \u001b[38;5;28;01mNone\u001b[39;00m \u001b[38;5;129;01mand\u001b[39;00m \u001b[38;5;28mgetattr\u001b[39m(the_sum, \u001b[38;5;124m\"\u001b[39m\u001b[38;5;124mndim\u001b[39m\u001b[38;5;124m\"\u001b[39m, \u001b[38;5;28;01mFalse\u001b[39;00m):\n\u001b[0;32m    723\u001b[0m     count \u001b[38;5;241m=\u001b[39m cast(np\u001b[38;5;241m.\u001b[39mndarray, count)\n",
      "File \u001b[1;32m~\\AppData\\Local\\Programs\\Python\\Python312\\Lib\\site-packages\\pandas\\core\\nanops.py:1701\u001b[0m, in \u001b[0;36m_ensure_numeric\u001b[1;34m(x)\u001b[0m\n\u001b[0;32m   1698\u001b[0m \u001b[38;5;28;01melif\u001b[39;00m \u001b[38;5;129;01mnot\u001b[39;00m (is_float(x) \u001b[38;5;129;01mor\u001b[39;00m is_integer(x) \u001b[38;5;129;01mor\u001b[39;00m is_complex(x)):\n\u001b[0;32m   1699\u001b[0m     \u001b[38;5;28;01mif\u001b[39;00m \u001b[38;5;28misinstance\u001b[39m(x, \u001b[38;5;28mstr\u001b[39m):\n\u001b[0;32m   1700\u001b[0m         \u001b[38;5;66;03m# GH#44008, GH#36703 avoid casting e.g. strings to numeric\u001b[39;00m\n\u001b[1;32m-> 1701\u001b[0m         \u001b[38;5;28;01mraise\u001b[39;00m \u001b[38;5;167;01mTypeError\u001b[39;00m(\u001b[38;5;124mf\u001b[39m\u001b[38;5;124m\"\u001b[39m\u001b[38;5;124mCould not convert string \u001b[39m\u001b[38;5;124m'\u001b[39m\u001b[38;5;132;01m{\u001b[39;00mx\u001b[38;5;132;01m}\u001b[39;00m\u001b[38;5;124m'\u001b[39m\u001b[38;5;124m to numeric\u001b[39m\u001b[38;5;124m\"\u001b[39m)\n\u001b[0;32m   1702\u001b[0m     \u001b[38;5;28;01mtry\u001b[39;00m:\n\u001b[0;32m   1703\u001b[0m         x \u001b[38;5;241m=\u001b[39m \u001b[38;5;28mfloat\u001b[39m(x)\n",
      "\u001b[1;31mTypeError\u001b[0m: Could not convert string '10,000+500,000+5,000,000+50,000,000+100,000+50,000+50,000+1,000,000+1,000,000+10,000+1,000,000+1,000,000+10,000,000+100,000+100,000+500,000+10,000+5,000,000+10,000,000+100,000+100,000+500,000+50,000+10,000+500,000+100,000+10,000+100,000+100,000+50,000+100,000+100,000+10,000+100,000+500,000+5,000,000+10,000+500,000+10,000+100,000+10,000,000+100,000+10,000+10,000,000+100,000+100,000+100,000+100,000+1,000,000+100,000+1,000,000+100,000+100,000+100,000+50,000+100,000+100,000+100,000+10,000+100,000+1,000,000+100,000+100,000+10,000+50,000+5,000,000+100,000+5,000,000+5,000,000+500,000+10,000,000+100,000+500,000+50,000+100,000+1,000,000+100,000+1,000,000+50,000+1,000,000+500,000+100,000+1,000,000+1,000,000+100,000+100,000+1,000,000+100,000+100,000+1,000,000+1,000,000+1,000,000+1,000,000+500,000+500,000+100,000+500,000+1,000,000+100,000+500,000+1,000,000+500,000+100,000+1,000,000+50,000+1,000,000+10,000+1,000,000+100,000+10,000+50,000+10,000+10,000+10,000+10,000,000+500,000+1,000,000+50,000+10,000+1,000,000+500,000+500,000+10,000+5,000+100,000+5,000+100,000+10,000+1,000,000+50,000+10,000+100,000,000+50,000+100,000+10,000,000+100,000,000+10,000,000+10,000,000+10,000,000+100,000+1,000,000+10,000,000+500,000+1,000,000+1,000,000,000+5,000,000+100,000+10,000,000+500,000+10,000,000+1,000,000+1,000,000+500,000+1,000,000+500,000+5,000,000+100,000+5,000,000+500,000+1,000,000+500,000+500,000+1,000,000+5,000,000+10,000,000+100,000+100,000+100,000+50,000+500,000+10,000,000+1,000,000+1,000,000+1,000,000+500,000+10,000,000+10,000,000+50,000,000+10,000,000+5,000,000+1,000,000+50,000,000+5,000,000+100,000,000+1,000,000+1,000,000+500,000+10,000,000+5,000,000+1,000,000+50,000,000+10,000,000+1,000,000+10,000,000+5,000,000+5,000,000+5,000,000+5,000,000+100,000+1,000,000+1,000,000+1,000,000+10,000,000+5,000,000+1,000,000+5,000,000+100,000+10,000,000+1,000,000+1,000,000+100,000+5,000,000+1,000,000+100,000+50,000,000+5,000,000+1,000,000+1,000,000+10,000,000+10,000,000+1,000,000+50,000+5,000,000+5,000,000+100,000+100,000+1,000,000+500,000+100,000+500,000+500,000+1,000,000+1,000,000+1,000,000+100,000+100,000+1,000,000+1,000,000+10,000,000+100,000+100,000+5,000,000+50,000+1,000,000+500,000+10,000,000+5,000,000+100,000,000+5,000,000+10,000+10,000,000+500,000+1,000,000+500,000+50,000+50,000+50,000+1,000,000+10,000+10,000+10,000+10,000+10,000+100,000+5,000,000+100,000+1,000,000+100,000+1,000,000+1,000,000+1,000,000+1,000,000+100,000+5,000,000+100,000+10,000+10,000+5,000+500,000+1,000,000+5,000+1,000+5,000,000+10,000+50,000+1,000,000+100,000+1,000,000,000+1,000,000,000+10,000,000+1,000,000,000+100,000,000+1,000,000,000+1,000,000,000+500,000,000+5,000,000+100,000,000+100,000,000+100,000,000+500,000,000+50,000,000+5,000,000+5,000,000+100,000,000+10,000,000+10,000,000+10,000,000+10,000,000+100,000,000+1,000,000+1,000,000+10,000,000+5,000,000+10,000,000+10,000,000+100,000,000+5,000,000+100,000,000+100,000,000+10,000,000+1,000,000+100,000,000+100,000,000+500,000,000+10,000,000+1,000,000+100,000+10,000,000+10,000,000+10,000,000+500,000,000+5,000,000+5,000,000+1,000,000,000+500,000,000+10,000,000+500,000,000+1,000,000,000+10,000,000+5,000,000+50,000,000+100,000,000+1,000,000,000+100,000,000+100,000,000+100,000,000+1,000,000+10,000,000+10,000,000+10,000,000+10,000,000+10,000,000+500,000,000+10,000,000+1,000,000+100,000,000+100,000,000+1,000,000+1,000,000+10,000,000+1,000,000,000+100,000,000+50,000,000+100,000,000+1,000,000+100,000,000+50,000,000+100,000,000+500,000,000+1,000,000+1,000,000+1,000,000+10,000,000+500,000+500,000+10,000,000+10,000,000+1,000,000+1,000,000+5,000,000+10,000,000+1,000,000+10,000,000+1,000,000+1,000,000+10,000,000+10,000,000+5,000,000+10,000,000+5,000,000+1,000,000+1,000,000+5,000,000+1,000,000+100,000,000+1,000,000+1,000,000,000+100,000,000+5,000,000+10,000,000+1,000,000+1,000,000+1,000,000+10,000,000+50,000,000+10,000+5,000,000+1,000,000+500,000+1,000,000,000+500,000,000+1,000,000+5,000,000+10,000,000+10,000,000+10,000,000+100,000+500,000+5,000,000+1,000,000+10,000,000+1,000,000+10,000,000+5,000,000+5,000,000+100,000+500,000+1,000,000+1,000,000+10,000+1,000,000+1,000,000+100,000+10,000,000+1,000,000+100,000+500,000+5,000+500,000+5,000,000+1,000,000+100,000+1,000,000+1,000,000+100,000+100,000+500,000+500,000+500,000+100,000+500,000+500,000+100,000+50,000+1,000,000+1,000,000+100,000+100,000+100,000+10,000+100,000+1,000,000+100,000+10,000,000+500,000+100,000+1,000,000+50,000+5,000,000+500,000+100,000+100,000+500,000+100,000+10,000+100,000+1,000,000+50,000+500,000+1,000,000+100,000+10,000+500,000+1,000,000+100,000+10,000+10,000+10,000,000+1,000,000+500,000+500,000+500,000+1,000,000+100,000+500,000+10,000+100,000+100,000+500,000+1,000,000+10,000+1,000,000+10,000,000+10,000+100,000+10,000+1,000,000+1,000,000+50,000+10,000+500,000+5,000,000+1,000,000+1,000+5,000+1,000+500+5,000+10,000+100+10,000+100+1,000+1,000+100+500+5,000+100+5,000+10+500+500+100+100+500+1,000+100+10,000+500+1,000+100+1,000,000+100,000+100,000+5,000,000+100,000+1,000,000+500,000+500,000+500+10,000+50,000+10,000+5,000+10,000+1,000+10,000+1,000,000+100,000,000+10,000,000+100,000+5,000,000+10,000,000+5,000,000+1,000,000+500,000+500,000+1,000,000+1,000,000+5,000,000+1,000,000+500,000+5,000,000+500,000+1,000,000+10,000,000+10,000,000+1,000,000+5,000,000+50,000+1,000,000+1,000,000+1,000,000+1,000,000+1,000,000+500,000+1,000,000+5,000,000+1,000,000+500,000+500,000+100,000+10,000,000+100,000+5,000,000+10,000,000+10,000,000+1,000,000+5,000,000+1,000,000+5,000,000+5,000,000+10,000,000+1,000,000+1,000,000+1,000,000+1,000,000+10,000+50,000+1,000,000+1,000,000+1,000,000+1,000,000+1,000,000+1,000,000+1,000,000+1,000,000+1,000,000+1,000,000+100,000+1,000,000+100,000+10,000+10,000+50,000+500,000+100,000+100,000+100,000+10,000+100,000+100,000+50,000+50,000+100,000+100,000+100,000,000+1,000,000+5,000,000+10,000,000+10,000,000+1,000,000+10,000,000+1,000,000+5,000,000+5,000,000+5,000,000+1,000,000+500,000+1,000,000+1,000,000+10,000,000+10,000,000+1,000,000+500,000+1,000,000+1,000,000+50,000+1,000,000+100,000+100,000+100,000+100,000+10,000,000+100,000+10,000+10,000,000+10,000,000+10,000,000+500,000+5,000,000+10,000,000+500,000+10,000,000+1,000,000+1,000,000+1,000,000+100,000+10,000,000+5,000,000+1,000,000+100,000+1,000,000+100,000,000+1,000,000+1,000,000+10,000,000+50,000,000+10,000,000+5,000,000+5,000,000+10,000,000+5,000,000+1,000,000,000+100,000,000+5,000,000+1,000,000+5,000,000+5,000,000+1,000,000+1,000,000+10,000,000+100,000,000+5,000,000+10,000,000+1,000,000+10,000,000+50,000,000+5,000,000+10,000,000+1,000,000+10,000,000+1,000,000+10,000,000+50,000,000+1,000,000+100,000,000+50,000,000+1,000,000+5,000,000+50,000,000+100,000,000+1,000,000+100,000+1,000,000+1,000,000+10,000,000+100,000+100,000+1,000,000+100,000,000+500,000+100,000+100,000+1,000,000+1,000,000+10,000,000+1,000,000+10,000,000+10,000,000+10,000,000+50,000+1,000,000+10,000,000+1,000,000+5,000,000+1,000,000+5,000,000+1,000,000+10,000,000+10,000,000+1,000,000+1,000,000+1,000,000+1,000,000+1,000,000+100,000,000+10,000,000+10,000,000+10,000,000+500,000+5,000,000+10,000,000+500,000+1,000,000+1,000,000+1,000,000+10,000,000+1,000,000+10,000,000+10,000,000+1,000,000+100,000,000+10,000,000+1,000,000+10,000,000+10,000,000+1,000,000+100,000+1,000,000+10,000+100,000+100,000+5,000,000+100,000+1,000,000+1,000,000+1,000,000+1,000,000+10,000,000+10,000,000+10,000,000+100,000+5,000,000+500,000+50,000+5,000,000+1,000,000+10,000+1,000,000+100,000+1,000,000+100,000+100,000+100,000+50,000+1,000+1,000,000+10,000+500+50,000+100,000+100,000+500+100,000+100+100,000+100,000+1,000+100,000+100+50,000+100,000+1,000+500+10,000,000+1,000,000+5,000,000+5,000,000+5,000,000+10,000,000+500,000+5,000,000+10,000,000+1,000,000+1,000,000+10,000,000+5,000,000+1,000,000+1,000,000+10,000,000+1,000,000+5,000,000+1,000,000+1,000,000+5,000,000+1,000,000+5,000,000+1,000,000+1,000,000+10,000,000+10,000,000+1,000,000+50,000,000+10,000,000+1,000,000+1,000,000+1,000,000+10,000,000+1,000,000+100,000,000+5,000,000+1,000,000+5,000,000+1,000,000+10,000,000+10,000+1,000,000+100,000+100,000+100,000+1,000,000+1,000,000+1,000,000+1,000,000+5,000,000+500,000+1,000,000+100,000+500,000+1,000,000+1,000,000+100,000+100,000+1,000,000+1,000,000+50,000+1,000,000+100,000+10,000,000+100,000+1,000,000+5,000,000+1,000,000+100,000+1,000,000+100,000+1,000,000+1,000,000+50,000+1,000,000+5,000,000+500,000+1,000,000+1,000,000+1,000,000+5,000,000+1,000,000+100,000+500,000+1,000,000+1,000,000+500,000+1,000,000+5,000,000+500,000+1,000,000+1,000,000+5,000,000+5,000,000+50,000+1,000,000+100,000+1,000,000+500,000+1,000,000+500,000+50,000,000+1,000,000+100,000+100,000+1,000,000+1,000,000+5,000,000+100,000,000+50,000+10,000,000+10,000+5,000,000+10,000,000+10,000,000+1,000,000+5,000,000+1,000,000+10,000,000+10,000,000+1,000,000+10,000,000+10,000,000+1,000,000+100,000+1,000,000+10,000,000+1,000,000+500,000+10,000,000+500,000+50,000+1,000,000+1,000,000+1,000,000+500,000+5,000,000+1,000,000+5,000,000+1,000,000+10,000,000+100,000+10,000,000+5,000,000+5,000,000+1,000,000+10,000,000+5,000,000+1,000,000+1,000,000+1,000,000+1,000,000+100,000+100,000+1,000,000+50,000+500,000+500,000+100,000+1,000,000+1,000,000+100,000+100,000+5,000,000+500,000+100,000+1,000,000+10,000+50,000+5,000,000+1,000,000+1,000,000+10,000,000+1,000,000+1,000,000+1,000,000+5,000,000+10,000,000+10,000,000+50,000+100,000+1,000,000+1,000,000+100,000+10,000,000+100,000+1,000,000+5,000,000+10,000,000+1,000,000+5,000,000+5,000,000+10,000,000+10,000,000+10,000,000+500,000+5,000,000+1,000,000+10,000,000+10,000,000+10,000,000+10,000,000+10,000,000+10,000,000+1,000,000+10,000,000+1,000,000+100,000+500,000+100,000+500,000+5,000,000+1,000,000+10,000,000+50,000+10,000,000+500,000+100,000+1,000,000+10,000,000+500,000+10,000,000+5,000,000+1,000,000+50,000,000+100,000+5,000,000+10,000,000+1,000,000+100,000+10,000,000+1,000,000+500,000+100,000+10,000,000+1,000,000+5,000,000+1,000,000+500,000+1,000,000+1,000,000+1,000,000+10,000,000+10,000,000+5,000,000+1,000,000+5,000,000+10,000,000+500,000+10,000,000+10,000,000+1,000,000+5,000,000+1,000,000+10,000,000+10,000,000+1,000,000+10,000,000+5,000,000+1,000,000+5,000,000+10,000,000+1,000,000+5,000,000+1,000,000+100,000+1,000,000+500,000+500,000+100,000+1,000,000+500,000+100,000+100,000+1,000,000+5,000,000+5,000,000+500,000+10,000,000+100,000+1,000,000+1,000,000+1,000,000+1,000,000+5,000,000+1,000,000+1,000,000+1,000,000+500,000+10,000,000+500,000+1,000,000+100,000,000+10,000,000+50,000,000+5,000,000+5,000,000+500,000+1,000,000+1,000,000+1,000,000+10,000,000+50,000+50,000+5,000,000+5,000,000+1,000,000+1,000,000+5,000,000+5,000,000+10,000,000+50,000,000+10,000,000+10,000,000+10,000,000+10,000,000+1,000,000+500,000+1,000,000+1,000,000+100,000+10,000,000+1,000,000+100,000+50,000+500,000+1,000,000+100,000+5,000,000+10,000,000+100,000+500,000+100,000+1,000,000+500,000+100,000+500,000+1,000,000+500,000+500,000+1,000,000+500,000+5,000,000+5,000,000+1,000,000+1,000,000+10,000,000+100,000+1,000,000+10,000,000+5,000,000+1,000,000+1,000,000+1,000,000+10,000,000+10,000,000+500,000+100,000+1,000,000+1,000,000+1,000,000+1,000,000+1,000,000+100,000+5,000,000+1,000,000+1,000,000+1,000,000+5,000,000+10,000+100,000+500,000+1,000,000+100,000+1,000,000+100,000+1,000,000+500,000+500,000+5,000,000+500,000+100,000+10,000+50,000+100,000+100,000+1,000,000+100,000+500,000+1,000,000+50,000+10,000,000+1,000,000+500,000+1,000,000+1,000,000+500,000+500,000+1,000,000+5,000,000+10,000,000+50,000+50,000+10,000+100,000+100,000+5,000,000+50,000+10,000,000+1,000+100,000+50,000+100,000+50,000+100,000+50,000+50,000+100,000+10,000,000+10,000+500,000+5,000,000+100,000+1,000,000+10,000+1,000,000+1,000+500,000+1,000,000+100,000+1,000,000+500,000+500,000+100,000+500,000+1,000,000+100,000+5,000,000+10,000,000+100,000+10,000,000+5,000,000+1,000,000+5,000,000+1,000,000+10,000,000+1,000,000+1,000,000+5,000,000+10,000,000+500,000+5,000,000+10,000,000+1,000,000+1,000,000+10,000,000+5,000,000+1,000,000+10,000,000+50,000,000+1,000,000+500,000+500,000+1,000,000+5,000,000+1,000,000+1,000,000+100,000+1,000,000+1,000,000+10,000,000+1,000,000+1,000,000+10,000,000+500,000+10,000,000+1,000,000+1,000,000+100,000+100,000+10,000,000+500,000+1,000,000+1,000,000+1,000,000+100,000+1,000,000+1,000,000+10,000,000+100,000+500,000+10,000+100,000+5,000,000+1,000,000+500,000+500,000+10,000+1,000,000+10,000,000+10,000,000+100,000+50,000+5,000+100,000+1,000,000+100,000+50,000+1,000,000+100,000+1,000,000+5,000,000+500,000+500,000+1,000,000+500,000+1,000,000+100,000+1,000,000+100,000+100,000,000+1,000,000,000+500,000,000+10,000,000+10,000,000+50,000,000+100,000,000+100,000,000+500,000,000+500,000,000+100,000,000+5,000,000+100,000,000+100,000,000+100,000,000+100,000,000+1,000,000+100,000,000+50,000,000+5,000,000+100,000,000+1,000,000+100,000,000+50,000,000+50,000,000+10,000,000+50,000,000+100,000,000+100,000,000+10,000,000+10,000,000+10,000,000+100,000,000+5,000,000+10,000,000+50,000,000+100,000,000+50,000,000+10,000,000+10,000,000+10,000,000+100,000,000+100,000,000+10,000,000+100,000,000+100,000,000+100,000,000+1,000,000,000+100,000,000+500,000,000+100,000,000+500,000,000+100,000,000+100,000,000+10,000,000+100,000,000+100,000,000+10,000,000+50,000,000+10,000,000+10,000,000+10,000,000+100,000,000+100,000,000+5,000,000+50,000,000+100,000,000+500,000,000+100,000,000+50,000,000+100,000,000+10,000,000+1,000,000+500,000,000+100,000,000+5,000,000+10,000,000+100,000,000+1,000,000+100,000,000+100,000,000+100,000,000+10,000,000+100,000,000+100,000,000+10,000,000+100,000,000+100,000,000+100,000,000+10,000,000+50,000,000+1,000,000+100,000,000+100,000,000+1,000,000,000+10,000,000+50,000,000+50,000,000+100,000,000+100,000,000+100,000,000+50,000,000+50,000,000+100,000,000+100,000,000+10,000,000+10,000,000+50,000,000+10,000,000+1,000,000+10,000,000+5,000,000+5,000,000+100,000,000+1,000,000+1,000,000+10,000,000+10,000,000+500,000+1,000,000+100,000,000+5,000,000+5,000,000+10,000,000+50,000,000+50,000,000+10,000,000+10,000,000+10,000,000+50,000,000+10,000,000+100,000,000+5,000,000+50,000,000+10,000,000+1,000,000+1,000,000+10,000,000+10,000,000+5,000,000+10,000,000+10,000,000+1,000,000+5,000,000+5,000,000+5,000,000+10,000,000+5,000,000+5,000,000+1,000,000+5,000,000+10,000,000+1,000,000+1,000,000+5,000,000+1,000,000+10,000,000+10,000,000+10,000,000+1,000,000+1,000,000+5,000,000+10,000,000+5,000,000+10,000,000+100,000+1,000,000+1,000,000+100,000+5,000,000+100,000,000+500,000,000+100,000,000+100,000,000+10,000,000+10,000,000+50,000,000+10,000,000+5,000,000+10,000,000+50,000,000+5,000,000+10,000,000+10,000,000+5,000,000+10,000,000+10,000,000+500,000+1,000,000+5,000,000+50,000,000+5,000,000+10,000,000+500,000+50,000,000+5,000,000+1,000,000+500,000,000+100,000,000+100,000,000+1,000,000,000+100,000,000+1,000,000+10,000,000+10,000,000+50,000,000+100,000,000+100,000,000+100,000,000+100,000,000+10,000,000+5,000,000+1,000,000+500,000,000+500,000,000+100,000,000+10,000,000+10,000,000+100,000,000+100,000,000+100,000,000+100,000,000+50,000,000+10,000,000+10,000,000+100,000,000+10,000,000+50,000,000+1,000,000+50,000,000+100,000,000+10,000,000+10,000,000+100,000,000+100,000,000+50,000,000+500,000,000+100,000,000+100,000,000+10,000,000+5,000,000+10,000,000+100,000,000+100,000,000+50,000,000+100,000,000+100,000,000+500,000,000+100,000,000+10,000,000+50,000,000+50,000,000+10,000,000+50,000,000+50,000,000+10,000,000+100,000,000+10,000,000+10,000,000+50,000,000+10,000,000+50,000,000+50,000,000+10,000,000+10,000,000+10,000,000+10,000,000+100,000+10,000,000+10,000,000+100,000,000+1,000,000+1,000,000+1,000,000+5,000,000+10,000,000+10,000,000+10,000,000+10,000,000+100,000,000+5,000,000+5,000,000+10,000,000+100,000+50,000,000+5,000,000+50,000,000+10,000,000+100,000,000+100,000,000+10,000,000+10,000,000+10,000,000+5,000,000+10,000,000+100,000,000+100,000,000+50,000,000+5,000,000+10,000,000+10,000,000+10,000,000+100,000,000+50,000,000+100,000,000+100,000,000+10,000,000+100,000,000+10,000,000+100,000,000+5,000,000+10,000,000+1,000,000+50,000,000+10,000,000+10,000,000+50,000,000+5,000,000+10,000,000+10,000,000+5,000,000+10,000,000+100,000,000+100,000,000+50,000,000+50,000,000+100,000,000+50,000,000+10,000,000+50,000,000+10,000,000+100,000,000+1,000,000+5,000,000+5,000,000+1,000,000+1,000,000+5,000,000+1,000,000+100,000+5,000,000+50,000,000+1,000,000+500,000+10,000,000+500,000+5,000,000+1,000,000+500,000+10,000,000+500,000+1,000,000+50,000,000+10,000,000+1,000,000+10,000,000+5,000,000+1,000,000+5,000,000+500,000+10,000,000+1,000,000+1,000,000+10,000,000+10,000,000+100,000,000+10,000,000+10,000,000+1,000,000+10,000,000+1,000,000+100,000,000+10,000,000+100,000+5,000,000+100,000+10,000+5,000,000+100,000+1,000,000+5,000,000+1,000,000+1,000,000+1,000,000+1,000,000+5,000,000+500,000+500,000+1,000,000+1,000,000+50,000+1,000,000+1,000,000+10,000,000+100,000+100,000+500,000+500,000+100,000,000+10,000,000+1,000,000+10,000,000+100,000+10,000,000+1,000,000+5,000,000+500,000+10,000,000+1,000,000+1,000,000+100,000+50,000+50,000,000+500,000+10,000,000+500,000+1,000,000+10,000,000+1,000,000+5,000,000+1,000,000+1,000,000+10,000,000+1,000,000+10,000,000+10,000,000+50,000,000+10,000,000+5,000,000+100,000+10,000,000+5,000,000+10,000,000+1,000,000+50,000,000+1,000,000+10,000,000+1,000,000+10,000,000+10,000,000+5,000,000+1,000,000+50,000,000+1,000,000+10,000,000+500,000+500,000+500,000+100,000+100,000+1,000,000+10,000+10,000,000+500,000+10,000,000+5,000,000+1,000,000+1,000,000+1,000,000+100,000+100,000+50,000+500,000+100,000+5,000,000+1,000+100,000+50,000+10,000,000+1,000,000+1,000,000+1,000,000+100,000+100,000+5,000,000+100,000+100,000,000+10,000,000+50,000,000+10,000,000+5,000,000+5,000,000+10,000,000+5,000,000+5,000,000+100,000,000+5,000,000+10,000,000+1,000,000+10,000,000+5,000,000+50,000,000+10,000,000+1,000,000+5,000,000+1,000,000+1,000,000+1,000,000+1,000,000+5,000,000+5,000,000+10,000,000+10,000,000+1,000,000+1,000,000+1,000,000+1,000,000+1,000,000+500,000+50,000+5,000,000+1,000,000+1,000,000+100,000+500,000+10,000+1,000,000+500,000+500,000+5,000,000+50,000+500,000+1,000,000+500,000+100,000+100,000+100,000+100,000+500,000+100,000+1,000,000+1,000,000+50,000+1,000,000+100,000+100,000+100,000+100,000+1,000,000+50,000+100,000+100,000+1,000+500,000+1,000,000+10,000+1,000,000+1,000+100,000+500,000+100,000+50,000+500,000+10,000+1,000,000+100,000+100,000+100,000+100,000+5,000+100,000+100,000+100,000+50,000+5,000+10,000+10,000+50,000+10,000+100,000+100,000+50,000+10,000+50,000+10,000+10,000+50,000+100,000+5,000+1,000+100,000+100,000+100,000+5,000+10,000+1,000+5,000+10,000+5,000+1,000+10,000+10,000+5,000+50,000+1,000+100,000+500+100+500+1,000+100+10+100+5+50+1+50+10+10+5+100+5,000+10+100+100+10+10+5+100,000+1,000,000+10,000+1,000+10,000+50,000+1,000+100,000+10,000+50,000+1,000+100,000+5,000+1,000,000+10,000+5,000+10,000+10,000+10,000+100+5,000+10,000+10,000+50,000+1,000+1,000+1,000+50,000+50,000+100+1,000+50,000+10,000+1,000+10,000+100,000+5,000+1,000,000,000+1,000,000,000+500,000,000+10,000,000+100,000,000+1,000,000+500,000,000+100,000+100,000,000+10,000,000+1,000,000,000+1,000,000+1,000,000+1,000,000+5,000,000+100,000+1,000,000+5,000,000+5,000,000+1,000,000+5,000,000+10,000,000+5,000,000+1,000,000+500,000+5,000,000+50,000+10,000,000+1,000,000+5,000,000+1,000,000+1,000,000+10,000,000+10,000,000+10,000,000+10,000,000+10,000,000+1,000,000+100,000,000+1,000,000+10,000,000+5,000,000+5,000,000+100,000,000+10,000,000+10,000,000+10,000,000+100,000,000+50,000,000+10,000,000+50,000,000+10,000,000+5,000,000+10,000,000+100,000,000+5,000,000+500,000+100,000+500,000,000+1,000,000,000+1,000,000+500,000+10,000,000+10,000,000+500,000+500,000,000+5,000,000+50,000,000+1,000,000+10,000,000+50,000,000+50,000,000+5,000,000+1,000,000+100,000,000+10,000,000+10,000,000+10,000,000+1,000,000+5,000,000+50,000,000+10,000,000+10,000,000+100,000+50,000,000+10,000,000+10,000,000+10,000,000+100,000+5,000,000+50,000,000+10,000,000+50,000,000+10,000,000+10,000,000+10,000,000+100,000,000+10,000,000+10,000,000+10,000,000+5,000,000+100,000,000+10,000,000+100,000,000+50,000,000+100,000,000+50,000,000+50,000,000+1,000,000+10,000,000+5,000,000+5,000,000+1,000,000+1,000,000+10,000,000+50,000,000+10,000,000+10,000,000+1,000,000+5,000,000+10,000,000+1,000,000+10,000,000+1,000,000+10,000,000+50,000,000+10,000,000+10,000,000+10,000,000+10,000,000+10,000,000+10,000,000+10,000,000+10,000,000+50,000,000+10,000,000+10,000,000+10,000,000+10,000,000+100,000,000+5,000,000+1,000,000+5,000,000+1,000,000+1,000,000+1,000,000+1,000,000+10,000,000+500,000+500,000+1,000,000+10,000,000+10,000,000+100,000,000+1,000,000+10,000,000+10,000,000+50,000,000+5,000,000+10,000,000+1,000,000+10,000,000+10,000,000+50,000+1,000,000+5,000,000+1,000,000+1,000,000+1,000,000+10,000,000+100,000+500,000+500,000+500,000+5,000,000+100,000+1,000,000+5,000,000+5,000,000+1,000,000+100,000,000+1,000,000+1,000,000+5,000,000+500,000+10,000,000+100,000,000+10,000,000+1,000,000+1,000,000+10,000,000+10,000,000+1,000,000+500,000+1,000,000+10,000,000+100,000+100,000,000+1,000,000+100,000+10,000,000+5,000,000+100,000,000+1,000,000+500,000+10,000,000+1,000,000+5,000,000+1,000,000+500,000+50,000+1,000,000+1,000,000+1,000,000,000+50,000,000+5,000,000+10,000,000+10,000,000+10,000,000+50,000,000+1,000,000+100,000,000+1,000,000+100,000+5,000,000+1,000,000+5,000,000+1,000,000+1,000,000+5,000,000+50,000,000+500,000+10,000,000+10,000,000+50,000,000+500,000+1,000,000+1,000,000+100,000,000+1,000,000+100,000,000+50,000,000+10,000,000+1,000,000+1,000,000+5,000,000+10,000,000+1,000,000+1,000,000+5,000,000+10,000,000+10,000,000+100,000,000+10,000,000+100,000,000+10,000,000+1,000,000+5,000,000+1,000,000,000+5,000,000+10,000,000+10,000,000+50,000,000+100,000,000+10,000,000+50,000,000+100,000,000+10,000,000+5,000,000+100,000,000+10,000,000+1,000,000+100,000,000+50,000,000+1,000,000+100,000,000+1,000,000+1,000,000+1,000,000+1,000,000+5,000,000+100,000,000+10,000,000+1,000,000+10,000,000+5,000,000+1,000,000,000+5,000,000+10,000,000+10,000,000+10,000,000+5,000,000+1,000,000+10,000,000+10,000,000+100,000,000+10,000,000+1,000,000+50,000,000+5,000,000+10,000,000+10,000,000+100,000,000+100,000,000+50,000,000+100,000,000+50,000,000+50,000,000+50,000,000+10,000,000+5,000,000+10,000,000+10,000,000+100,000,000+100,000,000+1,000,000+5,000,000+10,000,000+1,000,000+10,000,000+50,000,000+50,000,000+50,000,000+50,000,000+10,000,000+10,000,000+100,000,000+50,000,000+100,000,000+100,000,000+100,000,000+10,000,000+50,000,000+100,000,000+100,000,000+100,000,000+100,000,000+5,000,000+10,000,000+50,000,000+100,000,000+10,000,000+1,000,000+10,000,000+5,000,000+5,000,000+10,000,000+10,000,000+10,000,000+100,000+10,000,000+5,000,000+50,000,000+10,000,000+10,000,000+500,000+10,000,000+1,000,000+5,000,000+5,000,000+5,000,000+10,000,000+1,000,000+10,000,000+5,000,000+5,000,000+5,000,000+5,000,000+5,000,000+1,000,000+1,000,000+10,000,000+5,000,000+10,000,000+10,000,000+5,000,000+100,000+1,000,000+1,000,000+1,000,000+5,000,000+100,000+500,000+500,000+500,000+1,000,000+10,000,000+100,000+5,000,000+100,000+100,000+500,000+10,000,000+100,000+1,000,000+500,000+100,000+5,000,000+10,000,000+1,000,000+5,000,000+100,000+1,000,000+1,000,000+100,000+1,000,000+100,000+1,000,000+1,000,000+100,000+50,000+500,000+100,000+1,000,000+100,000+1,000,000+1,000,000+1,000,000+5,000,000+1,000,000+1,000,000+5,000,000+1,000,000+10,000,000+1,000,000+5,000,000+10,000+50,000+100,000+1,000,000+10,000,000+5,000,000+100,000+1,000,000+10,000+5,000,000+500,000+5,000,000+10,000,000+100,000+5,000,000+50,000,000+500,000+500,000+500,000+10,000+10,000,000+10,000,000+50,000,000+100,000+10,000,000+1,000,000+5,000,000+1,000,000+1,000,000+5,000,000+10,000,000+10,000,000+50,000,000+5,000,000+1,000,000+500,000+1,000,000+10,000,000+10,000,000+500,000+10,000,000+100,000,000+1,000,000+5,000,000+100,000,000+10,000,000+1,000,000,000+5,000,000+5,000,000+100,000,000+10,000,000+5,000,000+10,000,000+50,000,000+10,000,000+1,000,000,000+10,000,000+10,000,000+10,000,000+1,000,000+1,000,000+1,000,000+5,000,000+500,000+100,000,000+100,000+5,000,000+5,000,000+1,000,000+1,000,000+10,000,000+10,000,000+10,000,000+10,000,000+5,000,000+5,000,000+10,000,000+10,000,000+1,000,000+50,000,000+5,000,000+1,000,000+5,000,000+1,000,000+100,000,000+1,000,000+5,000,000+1,000,000+5,000,000+10,000,000+10,000,000+10,000,000+1,000,000+100,000+1,000+100,000+5,000,000+10,000,000+1,000,000+1,000,000+1,000,000+100,000+1,000,000+5,000,000+1,000,000+1,000,000+5,000,000+1,000,000+1,000,000+5,000,000+1,000,000+1,000,000+1,000,000+10,000,000+5,000,000+1,000,000+1,000,000+1,000,000+1,000,000+100,000+5,000,000+1,000,000+1,000,000+10,000,000+5,000,000+10,000,000+5,000,000+10,000,000+1,000,000+100,000+1,000,000+1,000,000,000+10,000,000+1,000,000+5,000,000+1,000,000+1,000,000+500,000+500,000+1,000,000+1,000,000,000+10,000,000+1,000,000,000+500,000,000+10,000,000+50,000,000+50,000,000+100,000,000+1,000,000+10,000,000+100,000,000+100,000,000+100,000,000+10,000,000+50,000,000+50,000,000+10,000,000+10,000,000+5,000,000+10,000,000+10,000,000+100,000+500,000,000+10,000,000+10,000,000+5,000,000+10,000,000+100,000,000+10,000,000+10,000,000+10,000,000+500,000,000+100,000,000+10,000,000+10,000,000+10,000,000+10,000,000+10,000,000+100,000,000+10,000,000+1,000,000+500,000+10,000,000+10,000,000+50,000+100,000+100,000+10,000,000+10,000,000+1,000,000+5,000,000+1,000,000+10,000,000+50,000,000+10,000,000+100,000,000+10,000,000+50,000,000+10,000,000+5,000,000+50,000,000+10,000,000+5,000,000+5,000,000+50,000,000+5,000,000+10,000,000+5,000,000+5,000,000+1,000,000+1,000,000+1,000,000+1,000,000+10,000,000+10,000,000+1,000,000+5,000,000+1,000,000+100,000+1,000,000+100,000+50,000,000+5,000,000+1,000,000+1,000,000+50,000,000+10,000,000+1,000,000+1,000,000+5,000,000+5,000,000+10,000,000+500,000,000+10,000,000+50,000,000+100,000,000+10,000,000+10,000,000+1,000,000+100,000,000+10,000,000+1,000,000+1,000,000+10,000,000+5,000,000+1,000,000+1,000,000+10,000,000+10,000,000+100,000,000+10,000,000+1,000,000+1,000,000+10,000,000+100,000,000+10,000,000+10,000,000+1,000,000+50,000,000+1,000,000+100,000,000+5,000,000+100,000+5,000,000+5,000,000+1,000,000+100,000,000+500,000+1,000,000+1,000,000+1,000,000+50,000,000+1,000,000+10,000,000+10,000,000+10,000,000+10,000,000+10,000,000+10,000,000+10,000,000+100,000,000+10,000,000+10,000,000+500,000+10,000,000+10,000,000+1,000,000+1,000,000+50,000,000+1,000,000+10,000,000+100,000,000+500,000+1,000,000+1,000,000+10,000,000+5,000,000+5,000,000+500,000+500,000+5,000,000+100,000+500,000+100,000+10,000,000+50,000,000+5,000,000+1,000,000+1,000,000+1,000,000+5,000,000+10,000,000+5,000,000+10,000,000+5,000,000+10,000,000+5,000,000+1,000,000+10,000,000+10,000,000+10,000,000+10,000,000+10,000,000+10,000,000+10,000,000+5,000,000+100,000,000+1,000,000+5,000,000+50,000,000+1,000,000+1,000,000+1,000,000+1,000,000+5,000,000+1,000,000+10,000,000+10,000,000+10,000,000+1,000,000+10,000,000+10,000,000+10,000,000+10,000,000+100,000,000+1,000,000+10,000,000+1,000,000+500,000,000+10,000,000+100,000,000+10,000,000+1,000,000,000+10,000,000+10,000,000+100,000,000+10,000,000+100,000,000+5,000,000+1,000,000+10,000,000+100,000,000+50,000,000+100,000,000+10,000,000+100,000,000+5,000,000+100,000,000+10,000,000+10,000,000+1,000,000+500,000,000+10,000,000+10,000,000+500,000,000+100,000,000+10,000,000+5,000,000+5,000,000+5,000,000+100,000,000+10,000,000+50,000,000+10,000,000+100,000,000+5,000,000+50,000,000+100,000,000+50,000,000+50,000,000+50,000,000+100,000,000+1,000,000+50,000,000+1,000,000+500,000+1,000,000+1,000,000+10,000,000+1,000,000+10,000,000+1,000,000+10,000,000+1,000,000+1,000,000+10,000,000+5,000,000+10,000,000+1,000,000+10,000,000+100,000,000+1,000,000+50,000,000+100,000+5,000,000+10,000,000+1,000,000+1,000,000+500,000,000+1,000,000,000+100,000,000+100,000,000+100,000,000+100,000,000+10,000,000+100,000,000+100,000,000+100,000,000+500,000,000+100,000,000+100,000,000+5,000,000+1,000,000+5,000,000+1,000,000+10,000,000+1,000,000+5,000,000+10,000,000+1,000,000+10,000,000+100,000,000+10,000,000+100,000,000+500,000+1,000,000+1,000,000+1,000,000+1,000,000+5,000,000+5,000,000+1,000,000+10,000,000+5,000,000+500,000,000+10,000,000+5,000,000+100,000,000+100,000+500,000,000+1,000,000+1,000,000+1,000,000+5,000,000+500,000,000+10,000+5,000,000+1,000,000+100,000+10,000+1,000,000+50,000+100,000+1,000,000+10,000+1,000,000+1,000,000+10,000+50,000+10,000+50,000+1,000,000+500,000+100,000+100,000+100,000+100,000+1,000,000+5,000+500,000+100,000+10,000+500,000+10,000+100,000+1,000,000+100,000+100,000+100,000+1,000,000+1,000,000+100,000+1,000,000+100,000+10,000+1,000,000+50,000,000+1,000,000+50,000,000+10,000+10,000,000+1,000,000+10,000,000+1,000,000+1,000,000+1,000,000+10,000,000+5,000,000+500,000+10,000,000+1,000,000+5,000,000+5,000,000+1,000,000+10,000,000+5,000,000+1,000,000+5,000,000+1,000,000+50,000,000+1,000,000+100,000+10,000,000+1,000,000+10,000,000+500,000+1,000,000+10,000,000+1,000,000+500,000+500,000+5,000,000+100,000+1,000,000+1,000,000,000+1,000,000+10,000,000+1,000,000+1,000,000+100,000,000+10,000,000+100,000,000+100,000+500,000+100,000,000+10,000,000+50,000,000+1,000,000+1,000,000+10,000,000+1,000,000+5,000,000+1,000,000+10,000,000+10,000,000+50,000,000+1,000,000,000+10,000,000+1,000,000+50,000,000+50,000,000+1,000,000+50,000,000+5,000,000+1,000,000+5,000,000+1,000,000+1,000,000+1,000,000+10,000,000+10,000,000+10,000,000+500,000,000+1,000,000+1,000,000+1,000,000+1,000,000+10,000+100,000+500,000,000+5,000,000+10,000,000+1,000,000+10,000,000+10,000,000+1,000,000+1,000,000+10,000,000+1,000,000+1,000,000+5,000,000+1,000,000+10,000,000+5,000,000+10,000,000+1,000,000+10,000,000+50,000,000+1,000,000+500,000+1,000,000+10,000,000+10,000,000+100,000+1,000,000,000+10,000,000+10,000,000+500,000,000+10,000,000+500,000+500,000+1,000,000+1,000,000+1,000,000+1,000,000+5,000,000+5,000,000+50,000+1,000,000+1,000,000+1,000,000+1,000,000+5,000,000+500,000,000+1,000,000+1,000,000+5,000,000+1,000,000+1,000,000+500,000+1,000,000+10,000+1,000,000+5,000,000+1,000,000+100,000+1,000,000+100,000+5,000,000+1,000,000+1,000,000+1,000,000+5,000,000+10,000,000+100,000+1,000,000+1,000,000+1,000,000+1,000,000+10,000,000+100,000+1,000,000+5,000,000+500,000+1,000,000+1,000,000+10,000,000+10,000,000+10,000,000+10,000,000+1,000,000+1,000,000+1,000,000+1,000,000+10,000,000+5,000,000+1,000,000,000+1,000,000+500,000,000+100,000,000+5,000,000+10,000,000+10,000,000+5,000,000+5,000,000+1,000,000+100,000,000+50,000,000+500,000+10,000,000+1,000,000+1,000,000+1,000,000+10,000,000+1,000,000+100,000+5,000,000+5,000,000+5,000,000+5,000,000+1,000,000+1,000,000+1,000,000+1,000,000+100,000+100,000+1,000,000+1,000,000+5,000,000+1,000,000+1,000,000+5,000,000+1,000,000+1,000,000+5,000,000+1,000,000+5,000,000+1,000,000+1,000,000+10,000,000+100,000+5,000,000+1,000,000+1,000,000+10,000,000+50,000+1,000,000+1,000,000+5,000,000+500,000,000+10,000,000+50,000,000+1,000,000+1,000,000+500,000+10,000,000+50,000,000+5,000,000+500,000,000+100,000,000+1,000,000+10,000+100,000,000+10,000,000+50,000,000+500,000+10,000+500,000,000+100,000,000+10,000+500,000+50,000,000+500,000+5,000,000+100,000,000+1,000,000,000+100,000,000+1,000,000+500,000+10,000,000+50,000,000+50,000,000+50,000+1,000,000,000+10,000,000+100,000,000+500,000,000+100,000,000+1,000,000,000+100,000,000+50,000,000+100,000,000+100,000,000+10,000,000+10,000,000+100,000,000+500,000+500,000+10,000,000+50,000,000+50,000,000+100,000,000+10,000,000+10,000,000+1,000,000+5,000,000+5,000,000+1,000,000,000+5,000,000+100,000,000+500,000+10,000,000+500,000+500,000,000+5,000,000+10,000,000+500,000+1,000,000+1,000,000+100,000,000+100,000,000+5,000,000+1,000,000,000+1,000,000+100,000,000+100,000,000+1,000,000+1,000,000+10,000,000+50,000+100,000,000+50,000,000+100,000,000+10,000+10,000+10,000,000+10,000,000+50,000,000+10,000+500,000+1,000,000+50,000,000+50,000+50,000+50,000+100,000,000+50,000,000+100,000,000+10,000,000+1,000+5,000+50,000,000+100,000+50,000+1,000+500+100,000,000+100,000,000+1,000,000+1,000,000+50,000+100,000+10,000,000+500,000,000+1,000,000+1,000,000,000+50,000+1,000,000+10,000,000+50,000+1,000+100,000+500,000,000+10,000+1,000,000+10,000+100,000+1,000+5,000+50,000+5,000+10,000+100,000+5,000+100,000,000+10,000+100,000+100,000+50,000+1,000+100,000+5,000+5,000+50,000+5,000+10,000+10,000+5,000+100,000,000+100,000,000+10,000,000+10,000,000+100,000,000+100,000,000+50,000,000+100,000,000+500,000,000+50,000,000+100,000,000+100,000,000+100,000+50,000,000+500,000,000+50,000,000+10,000,000+100,000,000+100,000,000+1,000,000+100,000,000+100,000,000+100,000,000+500,000+100,000,000+50,000,000+100,000,000+1,000,000+10,000,000+10,000,000+5,000,000+100,000+1,000,000+100,000,000+10,000,000+10,000,000+5,000,000+100,000,000+10,000,000+100,000,000+1,000,000+10,000,000+500,000+500,000+10,000,000+100,000,000+100,000+500,000+100,000,000+100,000,000+5,000,000+100,000,000+100,000,000+10,000,000+10,000,000+500,000+1,000,000+100,000+5,000,000+500,000+1,000,000,000+100,000,000+10,000,000+100,000,000+100,000,000+1,000,000+500,000,000+100,000,000+50,000,000+500,000+1,000,000+100,000,000+100,000+5,000+50,000+500,000,000+100,000+50,000+50,000+500,000+1,000+50,000+500,000,000+500,000+5,000+50,000,000+100,000+5,000+500,000+10,000+50,000+500,000+10,000,000+5,000+10,000+1,000,000,000+50,000,000+50,000,000+500,000,000+50,000,000+5,000,000+1,000,000,000+100,000,000+100,000+1,000,000,000+1,000,000+100,000+10,000+50,000,000+5,000,000+100,000+500,000+100,000+10,000+50,000+1,000,000,000+50,000+50,000+50,000+1,000+10,000+100,000,000+5,000,000+100,000+10,000,000+10,000,000+100,000+100,000,000+5,000+1,000,000+1,000+500,000+10,000+5,000+1,000,000+5,000+5,000,000+10,000+10,000+10,000,000+50,000+1,000,000+100+1,000+10,000+100,000,000+50,000+50,000+10,000+1,000,000+100,000,000+10,000,000+500,000+5,000,000+500,000+50,000,000+1,000,000+1,000,000+100,000,000+1,000,000+100,000,000+500,000+10,000,000+50,000,000+10,000,000+100,000,000+1,000,000+5,000,000+5,000,000+10,000,000+5,000,000+10,000,000+5,000,000+10,000,000+10,000,000+1,000,000+1,000,000+100,000,000+10,000,000+100,000,000+100,000+10,000+50,000,000+10,000+10,000,000+50,000,000+100,000,000+10,000+100,000+50,000,000+10,000,000+1,000+50,000+1,000+10,000,000+1,000+10,000+1,000+1,000+10,000+10,000+10,000+100,000,000+50,000+500,000+100,000+50,000,000+10,000,000+100,000+10,000,000+1,000+100,000+100,000+100,000+100,000+5,000+1,000,000+500,000+100,000+1,000+10,000,000+100,000,000+1,000+100,000+10,000+5,000+1,000+10,000+5,000+1,000,000+100,000+10,000+10,000+10,000+10,000,000+100,000,000+50,000,000+50,000,000+5,000,000+50,000,000+50,000,000+10,000,000+500,000+100,000,000+1,000,000+50,000+50,000+100,000+10,000,000+1,000,000+500,000+1,000,000+100,000,000+10,000,000+100,000+100,000+50,000+10,000,000+10,000,000+100,000+50,000,000+10,000,000+1,000,000+10,000+1,000,000+1,000,000+50,000,000+100,000+50,000,000+10,000+100,000+10,000+100,000+5,000+50,000+5,000+500,000,000+100,000+1,000,000+10,000,000+100,000+10,000+10,000+10,000+100,000+10,000+10,000+10,000,000+10,000+1,000,000+5,000,000+1,000,000+1,000,000+500,000+1,000,000+10,000+10,000,000+10,000+50,000+1,000,000+100,000+100,000+10,000+1,000,000+5,000,000+5,000,000+1,000,000+1,000,000+500,000+50,000+1,000,000+50,000+100,000+100,000+10,000+50,000+10,000+1,000,000+100,000,000+100,000,000+100,000+1,000,000+10,000,000+50,000+100,000+50,000+50,000+1,000,000+500,000+1,000,000+100,000+100,000+500,000+10,000,000+100,000+50,000+10,000,000+10,000,000+100,000,000+1,000+100,000+1,000,000+5,000+10,000,000+10,000+50,000+500+5,000+10,000+100,000,000+100,000+1,000+10,000+100,000+10,000+1,000+10,000+10,000+100,000+500,000+1,000,000+500,000+500,000+10,000+50,000+1,000,000+1,000,000+10,000,000+1,000,000+10,000,000+500,000+100,000+1,000+5,000+10,000+100,000+10,000+500,000+10,000+100,000+100,000+50,000,000+10,000,000+1,000+10,000+10,000+5,000+5,000+100,000+100,000,000+100,000+10,000+1,000+1,000+500,000+100,000+1,000,000+1,000+10,000+10,000+10,000+1,000+100,000+5,000+50+5,000+1,000+5,000+100,000+100,000+500,000,000+1,000,000+100,000,000+1,000,000+1,000,000+100,000+10,000,000+100,000,000+10,000,000+1,000,000+100,000,000+1,000,000+50,000,000+500,000+50,000+50,000+1,000,000+100,000,000+100,000,000+10,000,000+50,000,000+10,000,000+10,000,000+100,000,000+50,000,000+1,000,000+1,000,000+10,000+100,000+1,000,000+1,000,000+10,000,000+5,000,000+100,000,000+10,000,000+500,000+50,000,000+10,000,000+10,000+10,000,000+1,000,000+5,000,000+10,000,000+1,000+5,000,000+100,000+1,000,000+5,000+50,000+1,000,000+1,000,000+1,000,000+500,000+5,000,000+10,000,000+10,000,000+100,000,000+100,000,000+500,000+10,000+100,000+10,000+50,000+50,000+50,000+100,000+1,000+500,000+10,000+100,000+500,000+5,000+10,000+10,000+100,000+10,000+100,000+50,000+10,000,000+10,000+500,000+5,000+10,000+100,000+100,000+100,000+100,000+100,000+500,000+100,000+5,000+10,000+10,000,000+1,000,000+50,000,000+100,000+5,000,000+500,000,000+1,000,000+100,000+500,000+10,000,000+100,000,000+10,000,000+50,000,000+1,000,000+50,000,000+50,000,000+100,000+100,000,000+500,000+5,000+100,000+1,000,000+100,000+100,000+100,000,000+1,000,000+10,000+10,000+1,000+100,000+500,000+5,000+5,000+10,000+100,000+100,000+100,000,000+5,000+5,000+100,000,000+100,000,000+10,000,000+5,000+100,000,000+50,000,000+50,000+10,000,000+50,000,000+10,000+10,000,000+5,000+100,000+10,000,000+10,000+1,000,000+10,000+1,000,000+5,000+5,000,000+50,000+10,000,000+10,000,000+5,000,000+10,000+10,000,000+100,000,000+50,000,000+5,000,000+5,000,000+100,000,000+100,000+5,000,000+100,000+5,000,000+100,000+50,000+10,000,000+1,000,000+1,000,000+100,000+1,000,000+5,000,000+10,000,000+500,000+10,000+1,000,000+100,000+1,000,000+1,000,000+500,000+50,000+100,000+500,000+1,000,000+100,000+1,000,000+1,000,000+1,000,000+100,000+100,000+500,000+100,000+100,000+1,000,000+50,000,000+500,000+10,000,000+10,000,000+100,000,000+50,000,000+10,000,000+100,000,000+10,000,000+10,000,000+1,000,000+5,000,000+5,000,000+5,000,000+5,000,000+100,000,000+100,000,000+10,000,000+1,000,000+100,000,000+10,000,000+10,000,000+10,000,000+5,000,000+50,000,000+1,000,000+1,000,000+50,000,000+10,000,000+1,000,000+100,000,000+5,000,000+100,000+10,000,000+1,000,000+1,000,000+5,000,000+50,000+10,000+100,000+100,000+500,000+1,000,000+10,000+1,000,000+10,000+5,000,000+10,000+1,000,000+500,000+100,000+5,000+1,000,000+10,000+5,000,000+10,000,000+500,000+10,000,000+1,000+1,000,000+10,000,000+5,000,000+10,000,000+10,000,000+1,000,000+100,000,000+100,000+100,000+100,000+100,000,000+10,000,000+5,000+10,000,000+1,000,000+50,000,000+1,000,000+10,000+100,000+500,000+10,000+100,000+1,000+100,000+50,000+50,000,000+10,000+1,000,000+100,000,000+10,000+1,000,000+1,000+1,000,000+1,000,000+10,000+1,000,000+100,000+500,000+100,000+1,000,000+500,000+100,000+5,000+10,000+1,000,000+50,000+100,000+10,000+10,000+10,000+100,000+5,000+50,000+5,000+50,000+1,000,000+100,000+10,000+100,000+100,000+50,000+10,000+10,000+10,000+1,000,000+100,000+10,000,000+1,000,000+100,000+100,000+50,000+1,000+50,000+100,000+10,000+1,000,000+500,000+10,000,000+500,000+1,000,000+1,000,000+500,000+10,000,000+50,000,000+1,000,000+50,000+1,000,000+50,000+1,000,000+50,000+1,000,000+10,000+1,000,000+10,000+100,000+100,000+1,000+100,000+1,000,000+5,000,000+500,000+50,000+50,000+5,000,000+100,000+100,000+100,000+100,000+100,000+5,000,000+10,000,000+1,000,000+1,000,000+5,000,000+50,000+100,000+5,000+10,000+100,000+1,000,000+500,000+50,000+500,000+1,000,000+100,000+1,000,000+1,000,000+50,000+50,000+500,000+100,000+1,000,000+1,000+10,000+5,000,000+1,000+1,000+100,000+100,000+10,000+10,000+10,000+10,000+10,000,000+10,000+10,000+1,000,000+500,000+50,000+10,000+1,000+5,000,000+10,000+10,000,000+10,000+10,000+100+10,000,000+1,000+100,000+10,000+10,000+1,000+5,000,000+10,000,000+500+10,000+5,000+100,000,000+10,000,000+500,000+10,000,000+5,000,000+1,000+1,000,000+1,000+1,000,000+5,000,000+1,000+10,000,000+10,000,000+10,000,000+10,000,000+5,000,000+100,000,000+10,000,000+1,000,000+1,000,000+500,000+1,000,000+10,000+10,000+5,000+10,000+10,000+1,000+100,000+5,000+1,000+10,000+1,000+100+50+10,000+100+10,000+500+50,000+100+100,000+1,000+10,000+50,000+100+10,000+100+100,000+100+5,000+100+50+100+500+100,000+100,000+100+50,000+1,000,000+100,000+50,000+1,000,000+1,000+50,000+1,000,000+10,000+100,000+10,000+50,000+50,000+1,000,000+10,000+1,000,000+10,000+5,000+100+1,000+1,000+100+1,000+100,000+100,000+500+1,000,000+1,000+100,000+5,000+5,000,000+10,000,000+100+100,000+100+5,000+1,000+10,000+10,000+5,000,000+50,000+100,000+10,000+1,000,000+100+1,000,000+500+10,000+500+500+1,000+1,000+100+10+10,000+100+5,000+1,000+100,000+500,000+10+100,000+100,000+500,000+50,000+1,000+10,000+1,000+5,000+10,000+10,000,000+50,000+10,000+500+1,000,000+1,000+100+10,000,000+10,000,000+10,000+5,000+500+5,000+10,000+5,000,000+100+5,000,000+1,000+50,000+10,000,000+50,000+50,000+1,000+10,000+10,000+10,000+10,000,000+50,000+500,000+10,000,000+10,000,000+10,000,000+1,000,000+100,000+1,000,000+50,000+1,000,000+100,000+1,000,000+5,000,000+100,000+5,000,000+500,000+10,000+50,000+500,000+1,000,000+1,000,000+1,000,000+100,000+50,000+10,000,000+50,000+50,000+100,000+10,000,000+100,000+10,000+10,000,000+1,000,000+1,000+10,000+10,000+100,000+100,000+100,000+100,000+500,000+10,000+1,000,000+1,000,000+10,000,000+100,000+10,000,000+10,000,000+10,000,000+5,000,000+10,000,000+10,000,000+10,000,000+1,000,000+5,000,000+10,000,000+5,000,000+5,000,000+1,000,000,000+10,000,000+5,000,000+1,000,000+10,000,000+1,000,000+100,000+1,000,000+5,000+1,000+1,000,000+10,000+10,000,000+100,000+1,000,000+1,000,000+10,000,000+10,000,000+100,000,000+10,000,000+10,000,000+5,000,000+1,000,000+5,000,000+5,000,000+10,000,000+5,000,000+100,000+10,000,000+1,000,000+10,000,000+10,000,000+100,000+10,000,000+10,000,000+5,000,000+1,000,000+1,000,000+10,000,000+50,000,000+10,000+100,000+100,000+10,000,000+5,000,000+10,000,000+10,000+10,000,000+1,000,000+1,000,000+5,000+1,000+100,000+10,000+10,000+10,000+10,000+5,000+5,000+1,000+5,000+10,000+500,000+100,000+100,000+10,000+10,000+5,000+10,000+10,000+10,000+1,000,000+5,000+1,000+50,000+1,000,000+5,000+5,000+1,000+1,000+1,000,000+100,000+500,000+100,000+500+500+10,000+1,000+10,000,000+50+1,000+10+50,000,000+10,000+1,000,000+10,000,000+10,000,000+50,000,000+10,000,000+5,000,000+1,000,000+10,000,000+5,000,000+10,000,000+1,000,000+5,000,000+5,000,000+10,000+100,000+1,000,000+5,000,000+1,000,000+50,000+10,000,000+1,000,000+5,000,000+100,000+1,000+10,000,000+100,000+50,000+5,000,000+10,000,000+1,000,000+100,000+100,000+50,000,000+10,000+100,000+10,000+10,000+10,000+1,000,000+5,000+10,000+5,000+10,000+1,000,000+1,000,000+5,000+10,000+1,000+100,000+1,000+5,000+1,000,000+10,000+50,000+10,000+1,000,000+5,000,000+100,000+100,000+100,000+10,000+10,000,000+10,000,000+100,000+50,000+500,000+1,000+5,000,000+10,000,000+10,000,000+5,000,000+5,000,000+10,000,000+10,000,000+10,000,000+500,000,000+5,000,000+10,000,000+5,000,000+5,000,000+100,000,000+5,000,000+5,000,000+1,000,000+50,000,000+50,000,000+5,000,000+1,000,000+10,000,000+10,000,000+10,000,000+50,000,000+5,000,000+500,000+1,000,000+1,000,000+10,000,000+10,000,000+1,000,000+5,000,000+5,000,000+5,000,000+5,000,000+1,000,000+5,000,000+1,000,000+100,000+5,000,000+1,000,000+1,000,000+1,000,000+100,000+10,000,000+100,000+1,000,000+500,000+100,000+5,000,000+100,000+100,000+500,000+10,000+100,000+50,000+1,000,000+100,000,000+1,000,000+1,000,000+10,000+1,000+1,000,000+100,000+50,000+100,000+10,000+1,000+100,000+1,000,000+100,000+100,000+1,000+10,000+100,000+10,000+1,000+50,000+10,000+1,000+1,000,000+500,000+10,000+100,000+1,000+10,000+1,000,000+1,000,000+10,000+50,000+100,000,000+100,000+100,000+10,000+5,000+1,000+10,000,000+1,000+10,000,000+10,000+100,000+5,000+100,000+1,000,000+50,000+1,000+10,000,000+50,000+50,000+10,000+1,000+50,000,000+10,000,000+50,000+10,000+10,000+5,000+1,000+10,000+1,000,000+10,000,000+5,000+10,000,000+1,000,000+100+100,000+1,000+1,000,000+5,000+100,000+100,000+100,000+50,000+500+1,000,000+1,000+100,000+50,000+100,000+500+5,000+50,000+1,000,000+5,000,000+1,000+100,000+5,000+10,000,000+10,000,000+100,000+1,000,000+100,000+100,000+1,000+100+1,000,000+100,000+10,000+100,000+500,000+10,000+1,000,000+10,000+10,000+100,000+5,000+100,000+50,000+1,000+50+5,000+5,000+10,000+1,000,000+10+50,000+50,000+10,000+1,000+100,000+10,000+1,000+500,000+500+1,000+1,000+100+500,000+100+5,000+5,000+100+5,000+100+500+500,000+10,000+10,000+10,000+100,000+10,000+1,000+1,000,000,000+10,000+1,000,000+10,000,000+5,000,000+10,000,000+10,000,000+10,000,000+10,000,000+10,000,000+5,000,000+5,000,000+10,000,000+100,000+10,000+1,000,000+1,000,000+100,000+500,000+5,000+10,000+10,000+10,000+10,000+1,000+500+100,000+10,000+1,000+10,000+500+10,000+50,000+10,000+10,000+1,000+100+1,000+10,000+10,000+1,000,000+100,000+1,000+5,000+10,000+100,000+5,000+10,000+10,000+50,000+1,000,000+5,000+5,000+500,000+10,000+10,000+10,000+10,000+100,000+10,000+10,000+10,000+50,000+1,000+100,000+10,000+50,000+50,000+50,000+10,000+100+1,000+5,000+1,000,000+100,000+10,000,000+100,000+100,000,000+5,000,000+100,000+10,000,000+500,000+1,000+1,000+5,000+5,000,000+50,000+500+100+500+1,000,000+1,000+5,000+10,000+10,000+500+1,000+1,000+1,000+1,000+500+100+1,000+500+500+100+1,000+5,000,000+1,000,000+10,000+5,000+1,000,000+500,000+500,000+10,000+10,000+5,000+500,000+50,000+1,000+5,000+10,000+100,000+1,000+10,000+1,000+1,000+10,000+500+500+100+1,000+100,000+50,000+5,000+50,000+10,000+500+10,000+500,000+100,000+5,000+100+100,000+100,000+5,000+500,000+10,000+1,000,000+100,000+500+5,000+100+10+500+100+100,000+100,000+10,000,000+500,000+100,000+100,000,000+100+50,000+100,000+10,000,000+100,000+1,000+10,000+5,000,000+100,000+1,000,000+1,000+50,000,000+50,000,000+100,000+50,000,000+5,000,000+5,000+5,000+100,000+10,000,000+10,000+50,000,000+100,000+10,000,000+10,000,000+1,000,000+5,000,000+1,000,000+10,000,000+10,000,000+10,000,000+10,000+10,000+10,000+50,000+1,000,000+50,000+100,000+5,000,000+10,000,000+10,000+1,000+100,000+50,000+5,000,000+100,000+1,000,000+500,000+1,000+1,000+100,000+5,000+1,000,000+10,000+50+50,000+100,000+1,000,000+100,000+1,000+10,000+1,000+500+1,000+10,000+100,000+1,000+100+1,000+10,000+10,000+10,000,000+1,000+1,000+5,000+100+1,000+1,000+100,000+50,000+1,000,000+1,000,000+500+1,000+100+1,000+1,000,000+5,000,000+10+10,000,000+100,000+5,000,000+1,000+10,000+500,000+1,000,000+1,000,000+5,000,000+100,000+10,000+100,000+100,000,000+100,000+10,000,000+50,000+100,000+1,000,000+500,000+10,000,000+1,000,000+5,000,000+10,000+100,000+500+100,000+1,000,000+10,000+1,000+1,000+10,000+500+1,000+100,000+10+100,000+10+1,000+1,000+5,000+10,000+1,000+50,000+50,000+1,000,000+1,000+10,000+500+5,000+100,000+500,000+100,000+10,000+1,000+5,000+10,000+100,000,000+1,000+10,000+100+10,000+10,000+100+10,000+1,000+10,000+10,000,000+5,000+5,000+1,000,000+1,000,000+10,000,000+50+10,000,000+10,000,000+10,000,000+50,000,000+10,000,000+10,000,000+10,000,000+50,000,000+5,000,000+5,000,000+10,000,000+1,000,000+10,000,000+10,000,000+5,000,000+5,000,000+100,000+500,000+10,000+10,000+50,000+10,000+100+500+1,000+5,000+50,000+1,000+10,000+10,000+5,000,000+50,000+10,000,000+100+1,000,000+500+10,000,000+10,000,000+10+1,000,000+1,000,000+100,000+10,000+100,000+100,000+100,000+500,000+100,000+100,000+5,000,000+5,000,000+100,000+5,000+5,000+50+100+100,000+1,000+10,000+500+100+100,000,000+100,000+1,000+1,000+10,000+1,000+10,000+1,000+1,000+10,000+5,000+10,000+50,000+10,000+10,000+10,000+100+5,000+10,000+1,000+10,000+50+500,000+10,000+10,000+100,000+10,000+10,000+100,000+1,000,000+1,000,000+5,000+10,000+100,000+100,000+100,000+50,000+10,000+100,000+100,000+1,000+10,000+1,000+100+10,000+500,000+50,000+5,000+10,000+10,000+1,000+1,000+100+10,000+100,000+100,000,000+1,000,000+50,000+1,000,000+50,000+100,000+100+10,000+10,000+10,000+50,000+100,000+1,000+1,000+100+10,000+100,000+500+100,000+1,000+100+1,000,000+1,000,000+10,000+100+10+10+500+10,000,000+500,000+100,000+500,000+100,000+100,000+10,000+100+10,000+500,000+5,000+10,000+1,000+100+10,000+10,000+5,000+1,000+5,000+50,000+10,000+5,000+5,000+10,000+1,000+1,000+5,000+50,000+1,000+10,000+1,000+10,000+10,000+10,000+5,000+1,000+100,000,000+1,000,000+10,000+50,000,000+50,000,000+100,000,000+10,000+500+100,000+5,000,000+10,000,000+10,000+1,000,000+1,000,000+1,000,000+10,000,000+5,000,000+10,000,000+10,000+5,000,000+5,000+10,000,000+50,000,000+50,000,000+1,000,000+10,000+10,000+10,000+1,000,000+500,000+1,000+1,000+100,000+10,000,000+10,000+10,000+10,000+1,000+500+1,000+100+50+1,000+500,000+5,000+1,000+1,000+1,000+1,000+100,000+50,000+1,000+1,000+1,000+10,000+50+500,000+10,000+1,000,000+1,000,000+5,000+1,000,000+100+5,000+1,000,000+1,000+1,000+5,000,000+100+50+10,000+5,000+50,000+5,000+100,000+10,000,000+1,000+500,000+1,000,000+10,000+10,000,000+1,000,000+50,000+5,000,000+5,000,000+100,000+1,000,000+100,000+50,000+10,000,000+5,000+5,000+10,000+1,000+500+100,000+10,000+100,000+10,000+100,000+100+5+50,000+10,000+10,000,000+100,000+10,000+100,000+5,000,000+1,000,000+1,000,000+10,000+10,000,000+10,000+10,000,000+100,000+1,000,000+1,000+1,000,000+500,000+50+50+1,000+50,000+5,000+100+10,000+100+5,000+1,000+50,000+50+100,000+10,000+50,000+10,000+100,000+100,000+1,000,000+100,000+10,000+10,000+1,000,000+1,000+5,000,000+100,000+1,000,000+500,000+5,000+10,000+10,000+10,000+5,000+500,000+50,000+10,000+10,000,000+1,000,000+100,000+500+5,000,000+500+500+1,000,000+1,000+1,000,000+500,000+1,000+10,000+10,000+100,000+500+10,000+5,000+1,000,000+50,000+500+50,000+100+5,000+1,000,000+1,000+10,000+10,000+10+1,000+10,000+1,000+1,000,000+500+1,000+1,000+100+1,000+500+50,000,000+10,000+1,000+100,000,000+100+100+100+1,000,000+1,000+100,000+100+500+100+10+500,000+100,000+10,000,000+5,000,000+100,000+10,000+5,000,000+50,000+1,000+1,000,000+1,000,000+100,000+5,000+10,000+50,000+100,000+10,000+1,000+5,000+100,000+10,000+100,000+1,000+5,000+5,000+100+1,000,000+50+10+10,000+1,000+10,000+1,000+50,000+5,000+10,000+1,000+1,000,000+50,000+5,000+1,000,000+10,000+100+5,000+10,000+100+50+5,000+5,000+1,000+1,000+10,000+500+100,000+5,000,000+1,000,000+500+10,000,000+5,000,000+1,000,000+10,000+1,000,000+10,000,000+10,000,000+5,000+1,000,000+10,000+500,000+500,000+500,000+1,000,000+500,000+50,000+5,000,000+1,000,000+500,000+500,000+10,000,000+1,000,000+100,000+100,000+1,000,000+1,000,000+10,000,000+1,000,000+1,000,000+100,000+50,000,000+5,000,000+1,000,000+100,000+500,000+100,000+100,000+500,000+1,000,000+1,000,000+100,000+100,000+500,000+500,000+5,000,000+50,000+500,000+100,000+5,000,000+100,000+1,000,000+100,000+100,000+1,000,000+500,000+100,000+100,000+1,000,000+1,000,000+1,000,000+100,000+100+10,000+1,000+1,000+10+50,000+50+1,000+100,000+10,000+5,000+1,000,000+1,000+1,000+50,000+500+10,000+100+500,000+100+1,000+1,000+5,000+1,000+10,000+10,000+10,000,000+1,000+100,000+5,000,000+10,000+100,000+1,000,000+500+1,000+10,000+10,000+5,000+1,000+1,000,000+100,000+5,000+10,000+1,000,000+10,000+100,000+100,000+50,000,000+1,000,000+1,000+1,000+100,000+10,000+50,000+100,000+500+1,000,000+10+100,000+1,000+1,000+100+500+100+1,000+1,000+50+10,000+10+50+5,000+500+50,000+5+5,000,000+10,000+1,000,000+500,000+50,000+1,000+10,000+500+500+10,000+1,000+100,000+100+1,000+5,000+10,000+10,000+10,000+100+1,000+5,000+10,000+1,000+50,000+50,000+1,000+100,000+1,000+500+100+5,000+50,000,000+10,000,000+10,000,000+5,000,000+100,000+10,000+100+5,000,000+100,000+1,000+100+100+100+500+500+1,000+100+100+10,000+1,000+100+10,000,000+100+100+500+50,000+10,000+5,000,000+10,000+5,000+1,000+1,000+10,000+5,000+100,000+100+10,000+10,000+1,000+500+500+1,000+1,000+5,000+5,000+50,000+500+100+10,000+1,000+1,000+10,000+10,000+500+1,000+10+1,000+100,000+1,000+5,000+1,000+10,000,000+1,000,000+100,000+5,000+1,000+1,000,000+500+10,000+1,000,000+100+500,000+100,000+500,000+100,000+5,000,000+1,000+50,000+1,000+10,000+500,000+100,000+100+500,000+100+100+5,000+5,000+100,000+100,000+100+1,000+1,000+1,000+100,000+50+5,000,000+10+1,000+50,000,000+1,000+5,000+5,000,000+100+10,000+10,000+1,000,000+1,000,000+5,000+100+1,000+500+500,000+100+100+100,000+100,000+500,000+100+100,000+10,000,000+50,000+1,000+100+500+50,000+50,000+1,000,000+500+10,000,000+100+1,000,000+10+10,000,000+100,000+10,000+5,000,000+1,000,000+1,000,000+500,000+10,000,000+10,000+50,000+100,000+10,000,000+10,000+50,000+10,000+100+5,000,000+5,000+1,000+5,000+500+5,000+1,000,000+10+1,000+100,000+5,000+10+100+50,000+5,000,000+10,000+10,000,000+1,000,000+10,000+10,000+100,000+100,000+100,000+1,000+10,000+50,000,000+1,000+5,000+500,000+100,000+500,000+1,000+1,000+10,000+5,000+50,000,000+100+1,000+10,000,000+5,000,000+100+500+10,000,000+5,000+10,000+100+50+100+500,000,000+100,000,000+100,000,000+50,000,000+1,000,000+10,000,000+5,000,000+5,000,000+100,000+100,000+500,000+5,000,000+100,000+100,000,000+100,000+1,000,000+50,000,000+1,000,000+100,000+100,000+100,000+10,000+100,000+50,000+100,000+100,000+500,000+500+10,000+500,000+10,000+10,000+1,000,000+10,000+10,000,000+10,000+100,000+100,000+500,000+1,000,000+5,000+10,000,000+100,000+10,000+1,000,000+10,000,000+100,000+500,000+1,000,000+10,000,000+5,000,000+1,000,000+5,000,000+1,000,000+10,000,000+5,000,000+500,000+1,000,000+1,000,000+5,000,000+10,000,000+1,000,000+1,000,000+1,000,000+1,000,000+1,000,000+500,000+100,000+5,000,000+5,000,000+1,000,000+1,000,000+100+1,000,000+10,000+10,000+1,000,000+10,000+100,000+1,000+10,000+5,000+1,000+5,000+1,000+10,000+1,000,000+10,000+100,000+10,000+10,000+1,000+50,000+50,000+1,000+500,000+1,000+10,000+1,000,000+5,000+1,000+10,000+500+5,000,000+10,000+1,000,000+1,000+1,000+1,000+1,000,000+100,000+50,000+10,000+100,000+500+10,000+500,000+10,000+1,000+1,000+100,000+1,000+5,000+5,000+1,000,000+10,000+50,000+10,000+100,000+1,000,000+500+1,000,000+1,000+100+100+100+1,000+100,000+10,000+1,000,000+500+100+500+1,000,000+500+10,000+5,000,000+10,000+1,000+1,000,000+100,000+1,000+100,000+500+10+5,000+5+100,000+100,000+10,000+100,000+500,000+10,000+1,000+10,000+10,000,000+10,000+100,000+50,000+5,000,000+5,000,000+100,000+50+1,000+100+100,000+100,000+1,000+10,000+1,000,000+5,000,000+10,000,000+500,000+100,000+100,000+500+100,000+10,000+1,000,000+500,000+100+1,000,000+10,000+1,000,000+500,000+50,000+10,000+500,000+5,000+10,000+1,000+1,000+5,000+10,000+100,000+50,000+5,000+5,000,000+100+500+50,000+5,000+50+100+1,000,000+100,000,000+1,000,000+1,000,000+10,000,000+5,000,000+1,000+100,000+10,000+100,000+100,000+50,000+10,000+50,000+5,000+100,000+500,000+10,000+1,000+100,000+10,000+10,000+1,000,000+500,000+1,000+1,000,000+100+10,000+5,000+10,000+50,000+1,000+50,000+10,000+500,000+5,000+100,000+10,000+50,000+10,000+5,000+50,000+50,000+50,000+1,000+5,000+10,000+1,000+1,000+1,000+1,000+500+1,000+5,000+10,000+10,000+100,000+5,000+1,000+5,000+50,000+10,000+1,000+10,000+1,000+10,000+1,000,000+100,000+10,000+5,000+1,000+50+10,000+100,000+10,000+10,000+1,000+100,000+50,000+10,000+10,000+10,000+10,000+10,000+10,000+10,000+10,000+50,000+50,000+50,000+10,000+10,000+10,000+50,000+100,000+50,000+10,000+1,000+50,000+10,000+5,000+100+5,000,000+1,000,000+5,000,000+10,000,000+10,000,000+100,000,000+10,000,000+500,000+1,000,000+10,000+100,000+1,000,000+1,000,000+100,000+10,000+500,000+5,000+100,000+100,000+10,000+10,000+50,000+100,000+100,000+100,000+1,000+1,000,000+50,000+1,000,000+100,000+5,000+1,000,000+10,000+10,000+100,000+5,000+10,000+5,000+100,000+10,000+10,000+10,000+10,000+50,000+1,000+100,000+10,000+50,000+10,000+100,000+5,000+5,000+5,000,000+500,000+5,000+50,000+10,000+100,000+5,000,000+100,000+50,000+100+1,000,000+500+100+1,000,000+1,000,000+100+500,000+100,000+1,000+100,000+1,000+500,000+50,000+50,000+10,000,000+5,000+500,000+1,000+1,000,000+5,000,000+5,000,000+5,000+100,000+1,000+10,000+10,000+1,000,000+10,000+10,000+10,000+1,000+50,000+500+1,000+1,000+1,000+100,000+500+5,000+10,000+5,000+100+10,000+50+500+1,000+500,000+100,000+100,000,000+1,000,000+50,000+100+5,000+5,000,000+500+1,000+10,000+1,000+100+50,000+1,000+5,000+100+100+100+1,000,000+500+1,000,000+10,000,000+1,000,000+5,000+1,000,000+100,000+500,000+10,000+10,000+10,000+1,000,000+10,000,000+100,000+10,000+10,000+1,000+1,000,000+10,000+10,000+500,000+100,000+100,000+1,000,000+50,000+50,000+50,000+5+10,000+100,000+100,000+100+100,000+10+5,000+500+10,000+500,000+1,000,000+10,000+10,000,000+5,000,000+10,000,000+50,000,000+5,000,000+1,000,000+5,000,000+10,000,000+1,000,000+10,000,000+1,000,000+5,000,000+10,000,000+10,000,000+10,000,000+50,000+10,000,000+5,000,000+10,000,000+10,000,000+10,000,000+10,000,000+5,000,000+10,000,000+10,000,000+50,000+50,000+10,000,000+5,000,000+5,000+500,000+5,000+10,000+10,000+500,000+1,000+10,000+500+10,000+10,000+1,000+10,000+10,000+10,000+5,000+5,000+100+10,000+10,000+100+100,000+5,000+1,000+1,000+1,000+10,000+10,000,000+1,000,000+5,000,000+10,000,000+500,000+5,000,000+10,000+10,000,000+1,000,000+10,000+1,000+5,000,000+1,000+1,000,000+5,000+50,000,000+10,000,000+500+5,000+50,000+1,000+5,000,000+1,000+10,000+50,000+10,000,000+50,000,000+500,000+100+5,000+100,000+5,000+500+10,000+5,000+5,000+10,000,000+10,000,000+10,000,000+5,000,000+10,000,000+10,000,000+5,000,000+1,000,000+10,000,000+10,000,000+50,000,000+1,000,000+10,000,000+1,000,000+10,000,000+5,000,000+10,000,000+1,000,000+100,000,000+50,000,000+50,000,000+5,000,000+50,000,000+10,000,000+10,000,000+5,000,000+10,000,000+10,000,000+100,000+10,000,000+1,000+10,000+100+50,000+1,000+10+100+500,000+10,000,000+500,000+1,000+5,000,000+5,000,000+100,000+10,000+1,000+1,000,000+10,000+1,000+1,000+10,000,000+500+10,000+10,000+1,000+1,000,000+500+10,000+1,000+100+500,000+100+100+10,000+100+10+10,000+10,000+100+10,000,000+5,000,000+10,000,000+50,000,000+5,000,000+100,000+1,000+5,000,000+10,000,000+1,000,000+1,000,000+10,000,000+100,000+10,000+50,000+100+1,000,000+500,000+1,000,000+10,000+1,000+5,000,000+100,000+500,000+10,000,000+10,000+5,000,000+1,000,000+1,000,000+100,000+10,000,000+100,000+100,000+10,000,000+10,000,000+1,000+10,000,000+1,000,000+1,000,000+100,000,000+10,000,000+50,000,000+10,000,000+10,000,000+500,000+100,000,000+10,000,000+100,000+5,000,000+10,000,000+10,000,000+100,000,000+1,000,000+50,000,000+10,000,000+50,000,000+10,000,000+100,000,000+10,000,000+10,000,000+5,000,000+10,000,000+10,000,000+1,000,000+100,000+100,000+100,000+1,000,000+1,000+1,000+1,000+50,000+1,000+5,000+10,000+10,000+100,000+1,000+10,000+50,000+10,000+100,000+500+1,000,000+50,000+100,000+50,000+10,000+100+10+10,000+10+1,000,000+10,000+500+100+100,000+10,000,000+5,000,000+50,000,000+10,000,000+100,000+1,000,000+10,000,000+1,000,000+1,000,000+1,000+5,000,000+10,000+5,000+5,000,000+100,000+10,000,000+5,000,000+10,000+1,000,000+1,000,000+1,000,000+50,000+10,000,000+10,000+10,000,000+1,000,000+100,000+1,000,000+1,000,000+1,000,000+10,000+10,000+5,000+5,000+100,000+1,000+1,000+1,000+5,000+10,000+1,000+1,000+5,000+1,000+1,000+100+1,000+5,000+5,000+500,000+500+100+10,000+10,000+1,000+100+50,000+10+100,000+5,000+100,000+10+100+50,000+100,000+100,000+1,000,000+1,000,000+100,000+500,000+50,000+1,000,000+50,000+50,000+10,000+5,000,000+5,000,000+1,000,000+1,000,000+1,000,000+10,000,000+5,000,000+1,000,000+100,000+5,000,000+10,000,000+1,000,000+1,000,000+100,000+10,000,000+500,000+1,000,000+100,000+1,000,000+1,000,000+500,000+100,000+1,000,000+500,000+100,000+1,000,000+100,000+100,000+50,000+1,000,000+100,000+100,000+1,000,000+10,000,000+1,000,000+100,000+10,000,000+500,000+10,000+100,000+500,000+1,000,000+100,000+5,000+500,000+50,000+100,000+100,000+10,000+500,000+100,000+5,000+100,000+100,000+1,000+1,000,000+5,000+1,000+10,000+10,000+100,000+100,000+50,000+5,000+100,000+10,000+10,000+10,000+5,000+5,000+1,000+10,000+500,000+5,000+1,000+5,000+10,000+50,000+100,000+100,000+10,000+500,000+100+1,000+1,000,000+10,000,000+500+100,000+1,000,000+1,000,000+10,000+500,000+100,000+100,000+100,000+100,000+10,000,000+10,000+100,000+1,000,000+1,000,000+1,000,000+1,000,000+1,000,000+1,000,000+1,000+1,000,000+100,000+10,000,000+50,000,000+10,000,000+100,000,000+5,000,000+100,000+500,000+1,000,000+1,000,000+1,000,000+1,000,000+10,000,000+500,000+1,000,000+10,000,000+1,000,000+10,000+500,000+500,000+10,000,000+1,000,000+5,000,000+100,000+1,000,000+1,000,000+10,000+100,000+1,000,000+100,000+10,000+10,000+10,000,000+1,000,000+1,000,000+1,000+500,000+1,000,000+5,000+1,000,000+1,000,000+10,000,000+500,000+1,000,000+500,000+5,000,000+500,000+1,000,000+1,000,000+100,000+500,000+50,000+50,000+100,000+500+1,000+100+500+100,000+1,000+100,000+1,000+1,000,000+1,000,000+10,000,000+1,000+500+100+100,000+1,000,000+5,000,000+10,000+1,000+500+500+10,000+1,000+5,000+500+500+1,000+1,000,000+10,000,000+1,000+100+1,000+10+100+50+10,000,000+5,000,000+1,000+1,000+10,000,000+100+100,000+50,000+10,000+500,000+100,000,000+1,000,000+100,000,000+10,000,000+10,000,000+1,000,000+100,000+10,000,000+1,000,000+1,000,000+5,000,000+100,000+50,000+500,000+500,000+5,000,000+1,000,000+50,000+50,000+100,000+100,000+50,000+100,000+50,000+50,000+50,000+5,000,000+100,000+50,000+10,000,000+10,000,000+10,000,000+1,000,000+50,000+10,000+1,000+5,000+10,000+10,000+10,000+1,000+10,000+1,000+50,000+10,000+1,000,000+100,000+100+5,000+50,000+100+50,000+10,000+1,000+100+100,000+1,000+1,000+100+1,000+10,000+5,000+500,000+100,000+100+100+10,000+5,000+1,000+100,000+100,000+100,000+1,000,000+100,000+10,000+10,000+10,000+100,000+1,000+1,000,000+50,000+5,000+1,000+10,000+1,000+1,000+500,000+10,000+1,000+500+10,000+100+1,000+5,000+100,000+10,000+100+1,000+10,000+5,000+10,000+500,000+500,000+500,000+5,000+1,000+5,000+1,000,000+1,000+10,000+100,000+1,000+100,000+10,000+50,000+500+10,000+5,000+10,000+5,000+5,000+5,000+500+500+100+5,000+10,000+50,000+100+1,000+10,000+100+5,000+100+10+10,000+50,000+50,000+10,000+100,000+10,000+10,000,000+50+1,000,000+100,000+100,000+100,000+10,000+10,000+50,000+100,000+10,000+1,000+50,000+100,000+5,000+50,000+10,000+1,000,000+100,000+100,000+5,000+10,000+100+1,000+5,000+500+100,000+10,000+10,000+1,000+10,000+10,000+10,000+10,000+5,000+10,000+50,000,000+50,000,000+50,000,000+10,000,000+10,000,000+10,000,000+10,000,000+10,000,000+10,000,000+500,000+10,000,000+5,000,000+1,000+5,000,000+1,000,000+1,000,000+10,000,000+5,000,000+1,000,000+5,000,000+10,000,000+10,000,000+100,000,000+1,000,000+100,000+100,000+1,000,000+1,000,000+1,000,000+10,000,000+100+10,000+10,000+10+100+1,000+500,000+100,000+1,000,000+5,000+50+10,000,000+100,000+1,000+50+100,000+5,000+100,000+10,000+100,000+1,000+100+1,000+10,000+10,000+5,000+10,000+50,000+100,000+100,000+5+10,000+1,000,000+1,000,000+5,000+100,000+100,000+1,000+10,000+10,000+50,000+100,000+1,000+1,000+1,000+10,000+1,000+100+10,000+100+500+10+50,000+100+500+500+1,000+100+1,000+100+1,000+10+100+100,000+50,000+10,000+10,000+100,000+50,000+100,000+5,000+10,000+50,000+50,000+1,000+10,000+1,000+100+1,000+5,000+1,000+500+10,000+500+50+5,000+100+500+50+50+50,000+1,000+10,000+5,000+1,000+1,000,000+10,000,000+100+10,000+50,000+1,000+100,000+10,000+500+1,000+1,000+100,000+1,000,000+1,000,000+100,000+10,000+100+10,000+1,000,000+1,000,000+50,000,000+100,000+1,000,000+500,000+500,000+50,000+100,000+1,000,000+1,000,000+1,000,000+100,000+1,000,000+10,000,000+10,000+10,000,000+1,000,000+100,000+10,000+100+1,000+1,000+100,000+500,000+5,000+5,000,000+10,000+1,000,000+1,000,000+10,000,000+50,000+10,000+500,000+5,000,000+500,000+10,000,000+1,000,000+500,000+1,000,000+100,000+5,000,000+10,000,000+5,000,000+5,000,000+500,000+500,000+10,000,000+100,000+10,000,000+100,000+100,000+10,000,000+10,000,000+10,000+1,000,000+100,000+5,000,000+10,000+1,000,000+100+10,000+1,000+10,000+100+5,000+500,000+1,000,000+5,000+10+1,000,000+1,000,000+5,000,000+10,000,000+10,000+50,000+5,000+1,000,000+1,000+5,000,000+10,000,000+10,000,000+1,000,000+1,000+50,000+100+1,000,000+100+1,000,000+1,000+1,000,000+1,000+1,000,000+10,000,000+10+1,000,000+1,000,000+1,000,000+1,000,000+5,000,000+1,000,000+100,000+1,000,000+50,000+1,000,000+500,000+1,000,000+10,000+1,000,000+5,000,000+500,000+1,000,000+50,000+5,000+500,000+10,000+100,000+100,000+500,000+1,000,000+1,000,000+50,000+100,000+1,000,000+10,000+1,000+10,000+500+10,000+10,000+50,000,000+50+5,000+5,000+500+1,000+1,000+10,000+10+100+1,000+500+100+10,000,000+50,000+10,000,000+1,000,000+1,000,000+1,000+5,000+1,000,000+100+500+1,000,000+1,000+1,000,000+100+5,000,000+10,000,000+1,000,000+100,000+100,000+100,000+100,000+100,000+500,000+100,000+1,000,000+1,000,000+1,000,000+100,000+10,000+100,000+5,000,000+10,000+100,000+1,000,000+10,000,000+10,000,000+100,000+5,000,000+100,000+5,000,000+10,000,000+1,000,000+5,000,000+10,000,000+10,000,000+5,000,000+500,000+500,000+10,000,000+500,000+1,000,000+100,000+500,000+500,000+1,000,000+5,000,000+500,000+1,000,000+1,000,000+500,000+100,000+5,000,000+500,000+100,000+1,000,000+500,000+50,000,000+1,000,000+10,000,000+500,000+5,000,000+5,000,000+100,000+500,000+500,000+100,000+10,000,000+10,000,000+10,000,000+10,000,000+10,000,000+5,000,000+10,000,000+1,000,000+1,000,000+10,000,000+10,000,000+1,000,000+10,000,000+5,000,000+10,000,000+1,000,000+10,000,000+500,000+10,000,000+10,000,000+10,000,000+1,000,000+5,000,000+10,000,000+5,000,000+5,000,000+1,000,000+1,000,000+5,000,000+50,000,000+10,000,000+10,000,000+5,000,000+10,000+1,000+1,000+100+10+10,000+1,000,000+5,000,000+10,000,000+10,000,000+500,000+1,000,000+1,000,000+50,000,000+1,000,000+10,000,000+1,000,000+10,000,000+1,000,000+500,000+1,000,000+1,000,000+50,000,000+500+50,000+100+100+1,000+50+500,000+1,000,000+500+1,000+100+500,000+10,000+100,000+1,000,000+1,000+10,000+100+10,000,000+10,000,000+10,000+1,000,000+100,000+1,000,000+100,000+100,000+10,000,000+5,000+1,000,000+100,000+100,000+50,000+50,000+500,000+10,000+500,000+10,000+50,000+1,000+10,000+1,000+100,000+1,000+10,000+1,000+5,000+500,000+1,000,000+100,000+500,000+100,000+500,000+10+50,000+5,000+5,000+1,000+10,000+100,000+100,000+1,000+50,000+1,000+5,000,000+10,000,000+5,000+1,000,000+10,000,000+10,000,000+100,000+100,000+1,000,000+1,000,000+1,000,000+500,000+100,000+1,000,000+1,000,000+1,000,000+500,000+1,000+100,000+5,000+50,000+1,000+10,000+50,000+10,000+500+5,000+1,000,000+1,000+100+100+10,000+50,000,000+500,000+100+10,000,000+50,000+5,000,000+10,000+10,000,000+100,000+100,000+5,000,000+1,000,000+10,000,000+10,000+5,000+100,000+100,000+100,000+50,000,000+100,000+100,000+50,000+5,000,000+5,000,000+1,000,000+100,000,000+50,000,000+50,000,000+1,000,000,000+10,000,000+1,000,000+5,000,000+10,000,000+5,000,000+50,000,000+10,000,000+10,000,000+10,000,000+10,000,000+10,000,000+5,000,000+10,000,000+5,000,000+50,000,000+5,000,000+10,000,000+100,000+50,000+1,000+100,000+50,000+5,000+1,000+1,000+1,000+5,000+10,000+50,000+10,000+10,000+100+500+100,000+10,000+1,000,000+1,000+1,000+500+1,000+50,000+1,000+100+1,000+5,000,000+500+50+1,000+50+1,000+10,000+1,000+50,000+100+5,000,000+1,000,000+10,000+100,000+50,000+100,000+50,000+50,000+1,000+10,000+1,000+1,000+1,000+5,000+10,000+1,000+1,000+100+1,000+100+1,000+1,000+1,000+5,000+5,000+1,000+1,000,000+1,000+500,000+100,000+100,000+10,000,000+1,000,000+1,000,000+1,000+5,000,000+500,000+1,000,000+1,000,000+1,000,000+100,000+100,000+100,000+10,000,000+100,000+100,000+1,000,000+100+10,000+100,000+50,000,000+100,000+10,000+5,000,000+500+10,000,000+10,000+50,000+500,000+100,000+100,000+10,000,000+5,000+100,000+5,000,000+50,000+1,000,000+10,000,000+1,000,000+5,000,000+10,000,000+1,000,000+100,000+5,000,000+10,000,000+5,000,000+500,000+500,000+50,000+5,000+100,000+1,000,000+1,000+100,000+1,000,000+1,000,000+500,000+100,000+100,000+5,000,000+5,000+50,000+5,000,000+1,000+5,000,000+5,000+5,000+50,000+10,000+1,000+1,000+10,000+1,000+5,000+500+1,000+100+500+10,000+10,000+10,000,000+1,000+1,000,000+1,000,000+10,000,000+10,000+100,000+100,000+500+1,000,000+500,000+5,000,000+1,000,000+1,000,000+500,000+1,000,000+100,000+10,000+10,000+1,000+50,000+100,000+100,000+100,000+1,000,000+10,000+5,000+500,000+1,000+50,000+10,000+10,000+10,000+50,000+1,000,000+1,000+100,000+1,000,000+5,000+10,000+50,000+10,000+10,000+5,000+100,000+5,000+1,000+10,000+100,000+1,000+50,000+5,000+5,000+1,000+1,000+100+100,000+100,000+10,000,000+1,000,000+1,000,000+5,000+5,000+1,000+1,000,000+5,000,000+5,000,000+1,000,000+10,000,000+100,000,000+5,000,000+10,000,000+10,000,000+1,000,000+10,000,000+10,000,000+10,000,000+1,000,000+50,000,000+1,000,000+500,000+1,000,000+50,000,000+100,000+1,000,000+1,000,000+10,000+500,000+1,000,000+500,000+100,000+50,000+500,000+10,000,000+10,000+5,000,000+100,000+100,000+50,000+500,000+5,000+100,000+100,000+5,000+5,000+1,000,000+100,000+100,000+5,000+1,000+10,000+100,000+10,000+5,000+100,000+10,000+10,000+10,000+1,000,000+100,000+500,000+10,000+10,000+10,000+10,000+1,000,000+100+50,000+10,000+10,000+50,000+100,000+100,000,000+100,000+10,000+1,000,000+5,000+10,000+10,000+5,000+10,000+1,000+50,000+100+10,000+10,000+100,000+50,000+100,000+1,000+10,000+100,000+5,000,000+500+50,000+10,000+500+10,000+100,000+10,000+100,000+5,000+10,000+100,000+1,000+100,000+100,000+10,000+10,000+500+100,000+1,000+1,000,000+10+1,000+1,000,000+1,000+10,000+5,000+500,000+10,000+1,000+10,000+1,000+5,000+10,000+100,000+10,000+10,000+10,000+50,000+1,000,000+5,000,000+1,000+5,000+1,000+50,000+1,000+10+500+100,000,000+1,000+1,000+1,000+10,000+500+1,000+50+10,000+1,000+5,000+1,000,000+1,000+1,000,000+5,000,000+5,000,000+1,000+10,000,000+10,000+10,000,000+50,000,000+5,000,000+10,000+1,000,000+1,000,000+10,000,000+1,000,000+1,000,000+10,000,000+500,000+100,000+5,000,000+1,000,000+500,000+500,000+1,000,000+1,000,000+500,000+5,000,000+10,000+5,000+100+1,000+1,000+1,000+50,000,000+5,000+1,000+100+100+1,000,000+100+5,000,000+10,000+5,000,000+10,000+50,000,000+50,000+100,000+1,000,000+5,000,000+100,000+1,000,000+500,000+100,000+1,000,000+10,000+100,000+1,000,000+500,000+1,000,000+10,000+1,000,000+1,000+500,000+5,000+100,000+50,000+500,000+5,000+100,000+100,000+10,000+10,000+50,000+500,000+10,000+100,000+10,000,000+1,000+50,000+50,000+10,000+1,000+50,000+500,000+500,000+10,000+1,000+10,000+1,000+1,000,000+10,000+500+1,000+5,000,000+10,000+100+10,000,000+1,000,000+10,000,000+100,000+10,000,000+10,000,000+500,000+10,000,000+1,000,000+100,000+50,000,000+1,000,000+50,000+500+1,000,000+10,000+10,000,000+1,000,000+100,000+1,000,000+10,000+10+50,000,000+10,000+5,000,000+1,000+5+100+50,000+5,000,000+100,000+10,000+50,000+10,000+100,000+5,000+1,000+10,000+5,000+100,000+50,000+10,000+100,000+5,000+1,000+5,000+1,000+5,000+1,000+500+1,000+1,000+5,000+50,000+1,000+100,000+500+10,000+10,000+1,000+10,000+50,000+5,000+500+5,000+100+10,000+5,000+100+1,000,000+5,000+10,000+10,000+100+100,000+10,000+1,000+1,000+100,000+5,000+10,000+1,000+5,000+10,000,000+500+10,000+10,000+1,000+100,000+500,000+10,000+10,000+1,000,000+100,000,000+10,000+10,000+100,000+1,000+100+50+500+10,000+1,000+5,000+1,000,000+1,000,000+100+10,000+100,000+100,000+5,000,000+1,000,000+10,000+10,000+10,000,000+100,000+1,000+500+50+500+100,000,000+10,000,000+1,000,000+1,000,000+100,000+5,000,000+100,000+10,000,000+1,000,000+5,000+1,000+1,000,000+100+100,000+10,000,000+10,000+1,000+1,000,000+50,000+10,000,000+10,000,000+50,000+5,000,000+100,000+10,000+1,000+5,000+500,000+10,000,000+1,000,000+1,000+500+5,000+1,000+100,000+5,000+1,000,000+10,000+10,000+5,000+50,000+1,000,000+50,000+100,000+100,000+500+100,000+1,000+10+100,000+10,000+10,000+1,000+10,000,000+50,000+10,000,000+50,000+50,000+50,000+50,000+50,000+1,000,000+500,000+100,000+1,000,000+1,000,000+100,000+5,000+1,000+10,000+1,000,000+100,000+100+1,000,000+100+1,000+50,000+500,000+100,000+5,000+1,000+5,000,000+5,000+10,000+10,000+100,000+100,000+1,000+500+5,000+100+1,000+10,000,000+' to numeric"
     ]
    }
   ],
   "source": [
    "avg_installs_free = installs_and_type[installs_and_type['Type'] == 'Free']['Installs'].mean()\n",
    "avg_installs_paid = installs_and_type[installs_and_type['Type'] == 'Paid']['Installs'].mean()\n",
    "print(avg_installs_free)"
   ]
  },
  {
   "cell_type": "markdown",
   "id": "a816ca72-56ca-4b8c-9ea5-542627da5e54",
   "metadata": {},
   "source": [
    "## Distribution of Ratings across Categories \n",
    "\n",
    "I will compare the distribution of ratings across all the categories to compare what category of application tends to do well by recieving higher ratings and what category does not perform well by recieving lower ratings on the Google Play Store."
   ]
  },
  {
   "cell_type": "code",
   "execution_count": null,
   "id": "9ba46220-b246-442b-8f6b-04006c95a099",
   "metadata": {},
   "outputs": [],
   "source": []
  }
 ],
 "metadata": {
  "kernelspec": {
   "display_name": "Python 3 (ipykernel)",
   "language": "python",
   "name": "python3"
  },
  "language_info": {
   "codemirror_mode": {
    "name": "ipython",
    "version": 3
   },
   "file_extension": ".py",
   "mimetype": "text/x-python",
   "name": "python",
   "nbconvert_exporter": "python",
   "pygments_lexer": "ipython3",
   "version": "3.12.2"
  }
 },
 "nbformat": 4,
 "nbformat_minor": 5
}
