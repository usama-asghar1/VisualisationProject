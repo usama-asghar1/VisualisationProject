{
 "cells": [
  {
   "cell_type": "markdown",
   "id": "92bcd505-e4ed-4f8a-95f0-4d84bd4dd4fb",
   "metadata": {},
   "source": [
    "# Visualisation Project Report - Google Play Store"
   ]
  },
  {
   "cell_type": "markdown",
   "id": "1f077acf-7810-4992-b196-d415840dc453",
   "metadata": {},
   "source": [
    "## Installation and Imports"
   ]
  },
  {
   "cell_type": "markdown",
   "id": "87b9d349-a839-4b2e-b68e-5e723d40166c",
   "metadata": {},
   "source": [
    "Running the following inside the notebook will install all required packages. If the packages are already available, then a message will appear to confirm this."
   ]
  },
  {
   "cell_type": "code",
   "execution_count": 482,
   "id": "089843cb-4dc7-4707-b382-2e27a49d222c",
   "metadata": {},
   "outputs": [
    {
     "name": "stdout",
     "output_type": "stream",
     "text": [
      "Requirement already satisfied: numpy in c:\\users\\usama\\appdata\\local\\programs\\python\\python312\\lib\\site-packages (1.26.4)\n",
      "Requirement already satisfied: pandas in c:\\users\\usama\\appdata\\local\\programs\\python\\python312\\lib\\site-packages (2.2.1)\n",
      "Requirement already satisfied: numpy<2,>=1.26.0 in c:\\users\\usama\\appdata\\local\\programs\\python\\python312\\lib\\site-packages (from pandas) (1.26.4)\n",
      "Requirement already satisfied: python-dateutil>=2.8.2 in c:\\users\\usama\\appdata\\local\\programs\\python\\python312\\lib\\site-packages (from pandas) (2.9.0.post0)\n",
      "Requirement already satisfied: pytz>=2020.1 in c:\\users\\usama\\appdata\\local\\programs\\python\\python312\\lib\\site-packages (from pandas) (2024.1)\n",
      "Requirement already satisfied: tzdata>=2022.7 in c:\\users\\usama\\appdata\\local\\programs\\python\\python312\\lib\\site-packages (from pandas) (2024.1)\n",
      "Requirement already satisfied: six>=1.5 in c:\\users\\usama\\appdata\\local\\programs\\python\\python312\\lib\\site-packages (from python-dateutil>=2.8.2->pandas) (1.16.0)\n",
      "Requirement already satisfied: seaborn in c:\\users\\usama\\appdata\\local\\programs\\python\\python312\\lib\\site-packages (0.13.2)\n",
      "Requirement already satisfied: numpy!=1.24.0,>=1.20 in c:\\users\\usama\\appdata\\local\\programs\\python\\python312\\lib\\site-packages (from seaborn) (1.26.4)\n",
      "Requirement already satisfied: pandas>=1.2 in c:\\users\\usama\\appdata\\local\\programs\\python\\python312\\lib\\site-packages (from seaborn) (2.2.1)\n",
      "Requirement already satisfied: matplotlib!=3.6.1,>=3.4 in c:\\users\\usama\\appdata\\local\\programs\\python\\python312\\lib\\site-packages (from seaborn) (3.8.3)\n",
      "Requirement already satisfied: contourpy>=1.0.1 in c:\\users\\usama\\appdata\\local\\programs\\python\\python312\\lib\\site-packages (from matplotlib!=3.6.1,>=3.4->seaborn) (1.2.0)\n",
      "Requirement already satisfied: cycler>=0.10 in c:\\users\\usama\\appdata\\local\\programs\\python\\python312\\lib\\site-packages (from matplotlib!=3.6.1,>=3.4->seaborn) (0.12.1)\n",
      "Requirement already satisfied: fonttools>=4.22.0 in c:\\users\\usama\\appdata\\local\\programs\\python\\python312\\lib\\site-packages (from matplotlib!=3.6.1,>=3.4->seaborn) (4.49.0)\n",
      "Requirement already satisfied: kiwisolver>=1.3.1 in c:\\users\\usama\\appdata\\local\\programs\\python\\python312\\lib\\site-packages (from matplotlib!=3.6.1,>=3.4->seaborn) (1.4.5)\n",
      "Requirement already satisfied: packaging>=20.0 in c:\\users\\usama\\appdata\\local\\programs\\python\\python312\\lib\\site-packages (from matplotlib!=3.6.1,>=3.4->seaborn) (24.0)\n",
      "Requirement already satisfied: pillow>=8 in c:\\users\\usama\\appdata\\local\\programs\\python\\python312\\lib\\site-packages (from matplotlib!=3.6.1,>=3.4->seaborn) (10.2.0)\n",
      "Requirement already satisfied: pyparsing>=2.3.1 in c:\\users\\usama\\appdata\\local\\programs\\python\\python312\\lib\\site-packages (from matplotlib!=3.6.1,>=3.4->seaborn) (3.1.2)\n",
      "Requirement already satisfied: python-dateutil>=2.7 in c:\\users\\usama\\appdata\\local\\programs\\python\\python312\\lib\\site-packages (from matplotlib!=3.6.1,>=3.4->seaborn) (2.9.0.post0)\n",
      "Requirement already satisfied: pytz>=2020.1 in c:\\users\\usama\\appdata\\local\\programs\\python\\python312\\lib\\site-packages (from pandas>=1.2->seaborn) (2024.1)\n",
      "Requirement already satisfied: tzdata>=2022.7 in c:\\users\\usama\\appdata\\local\\programs\\python\\python312\\lib\\site-packages (from pandas>=1.2->seaborn) (2024.1)\n",
      "Requirement already satisfied: six>=1.5 in c:\\users\\usama\\appdata\\local\\programs\\python\\python312\\lib\\site-packages (from python-dateutil>=2.7->matplotlib!=3.6.1,>=3.4->seaborn) (1.16.0)\n",
      "Requirement already satisfied: matplotlib in c:\\users\\usama\\appdata\\local\\programs\\python\\python312\\lib\\site-packages (3.8.3)\n",
      "Requirement already satisfied: contourpy>=1.0.1 in c:\\users\\usama\\appdata\\local\\programs\\python\\python312\\lib\\site-packages (from matplotlib) (1.2.0)\n",
      "Requirement already satisfied: cycler>=0.10 in c:\\users\\usama\\appdata\\local\\programs\\python\\python312\\lib\\site-packages (from matplotlib) (0.12.1)\n",
      "Requirement already satisfied: fonttools>=4.22.0 in c:\\users\\usama\\appdata\\local\\programs\\python\\python312\\lib\\site-packages (from matplotlib) (4.49.0)\n",
      "Requirement already satisfied: kiwisolver>=1.3.1 in c:\\users\\usama\\appdata\\local\\programs\\python\\python312\\lib\\site-packages (from matplotlib) (1.4.5)\n",
      "Requirement already satisfied: numpy<2,>=1.21 in c:\\users\\usama\\appdata\\local\\programs\\python\\python312\\lib\\site-packages (from matplotlib) (1.26.4)\n",
      "Requirement already satisfied: packaging>=20.0 in c:\\users\\usama\\appdata\\local\\programs\\python\\python312\\lib\\site-packages (from matplotlib) (24.0)\n",
      "Requirement already satisfied: pillow>=8 in c:\\users\\usama\\appdata\\local\\programs\\python\\python312\\lib\\site-packages (from matplotlib) (10.2.0)\n",
      "Requirement already satisfied: pyparsing>=2.3.1 in c:\\users\\usama\\appdata\\local\\programs\\python\\python312\\lib\\site-packages (from matplotlib) (3.1.2)\n",
      "Requirement already satisfied: python-dateutil>=2.7 in c:\\users\\usama\\appdata\\local\\programs\\python\\python312\\lib\\site-packages (from matplotlib) (2.9.0.post0)\n",
      "Requirement already satisfied: six>=1.5 in c:\\users\\usama\\appdata\\local\\programs\\python\\python312\\lib\\site-packages (from python-dateutil>=2.7->matplotlib) (1.16.0)\n"
     ]
    }
   ],
   "source": [
    "!pip install numpy \n",
    "!pip install pandas\n",
    "!pip install seaborn\n",
    "!pip install matplotlib"
   ]
  },
  {
   "cell_type": "code",
   "execution_count": 483,
   "id": "d03493e7-dbf9-4c8c-90ca-9b292ab801f8",
   "metadata": {},
   "outputs": [],
   "source": [
    "import numpy as np\n",
    "import pandas as pd\n",
    "import seaborn as sns\n",
    "import matplotlib.pyplot as plt"
   ]
  },
  {
   "cell_type": "markdown",
   "id": "bfc0b039-6425-43bd-bb1f-d3674c62e952",
   "metadata": {},
   "source": [
    "## Reading the Datasets\n",
    "The two datasets are need to be read in and I will display the first 5 records."
   ]
  },
  {
   "cell_type": "code",
   "execution_count": 484,
   "id": "36309045-328a-4126-8bcd-bcb30db04c82",
   "metadata": {},
   "outputs": [
    {
     "data": {
      "text/html": [
       "<div>\n",
       "<style scoped>\n",
       "    .dataframe tbody tr th:only-of-type {\n",
       "        vertical-align: middle;\n",
       "    }\n",
       "\n",
       "    .dataframe tbody tr th {\n",
       "        vertical-align: top;\n",
       "    }\n",
       "\n",
       "    .dataframe thead th {\n",
       "        text-align: right;\n",
       "    }\n",
       "</style>\n",
       "<table border=\"1\" class=\"dataframe\">\n",
       "  <thead>\n",
       "    <tr style=\"text-align: right;\">\n",
       "      <th></th>\n",
       "      <th>App</th>\n",
       "      <th>Category</th>\n",
       "      <th>Rating</th>\n",
       "      <th>Reviews</th>\n",
       "      <th>Size</th>\n",
       "      <th>Installs</th>\n",
       "      <th>Type</th>\n",
       "      <th>Price</th>\n",
       "      <th>Content Rating</th>\n",
       "      <th>Genres</th>\n",
       "      <th>Last Updated</th>\n",
       "      <th>Current Ver</th>\n",
       "      <th>Android Ver</th>\n",
       "    </tr>\n",
       "  </thead>\n",
       "  <tbody>\n",
       "    <tr>\n",
       "      <th>0</th>\n",
       "      <td>Photo Editor &amp; Candy Camera &amp; Grid &amp; ScrapBook</td>\n",
       "      <td>ART_AND_DESIGN</td>\n",
       "      <td>4.1</td>\n",
       "      <td>159</td>\n",
       "      <td>19M</td>\n",
       "      <td>10,000+</td>\n",
       "      <td>Free</td>\n",
       "      <td>0</td>\n",
       "      <td>Everyone</td>\n",
       "      <td>Art &amp; Design</td>\n",
       "      <td>January 7, 2018</td>\n",
       "      <td>1.0.0</td>\n",
       "      <td>4.0.3 and up</td>\n",
       "    </tr>\n",
       "    <tr>\n",
       "      <th>1</th>\n",
       "      <td>Coloring book moana</td>\n",
       "      <td>ART_AND_DESIGN</td>\n",
       "      <td>3.9</td>\n",
       "      <td>967</td>\n",
       "      <td>14M</td>\n",
       "      <td>500,000+</td>\n",
       "      <td>Free</td>\n",
       "      <td>0</td>\n",
       "      <td>Everyone</td>\n",
       "      <td>Art &amp; Design;Pretend Play</td>\n",
       "      <td>January 15, 2018</td>\n",
       "      <td>2.0.0</td>\n",
       "      <td>4.0.3 and up</td>\n",
       "    </tr>\n",
       "    <tr>\n",
       "      <th>2</th>\n",
       "      <td>U Launcher Lite – FREE Live Cool Themes, Hide ...</td>\n",
       "      <td>ART_AND_DESIGN</td>\n",
       "      <td>4.7</td>\n",
       "      <td>87510</td>\n",
       "      <td>8.7M</td>\n",
       "      <td>5,000,000+</td>\n",
       "      <td>Free</td>\n",
       "      <td>0</td>\n",
       "      <td>Everyone</td>\n",
       "      <td>Art &amp; Design</td>\n",
       "      <td>August 1, 2018</td>\n",
       "      <td>1.2.4</td>\n",
       "      <td>4.0.3 and up</td>\n",
       "    </tr>\n",
       "    <tr>\n",
       "      <th>3</th>\n",
       "      <td>Sketch - Draw &amp; Paint</td>\n",
       "      <td>ART_AND_DESIGN</td>\n",
       "      <td>4.5</td>\n",
       "      <td>215644</td>\n",
       "      <td>25M</td>\n",
       "      <td>50,000,000+</td>\n",
       "      <td>Free</td>\n",
       "      <td>0</td>\n",
       "      <td>Teen</td>\n",
       "      <td>Art &amp; Design</td>\n",
       "      <td>June 8, 2018</td>\n",
       "      <td>Varies with device</td>\n",
       "      <td>4.2 and up</td>\n",
       "    </tr>\n",
       "    <tr>\n",
       "      <th>4</th>\n",
       "      <td>Pixel Draw - Number Art Coloring Book</td>\n",
       "      <td>ART_AND_DESIGN</td>\n",
       "      <td>4.3</td>\n",
       "      <td>967</td>\n",
       "      <td>2.8M</td>\n",
       "      <td>100,000+</td>\n",
       "      <td>Free</td>\n",
       "      <td>0</td>\n",
       "      <td>Everyone</td>\n",
       "      <td>Art &amp; Design;Creativity</td>\n",
       "      <td>June 20, 2018</td>\n",
       "      <td>1.1</td>\n",
       "      <td>4.4 and up</td>\n",
       "    </tr>\n",
       "  </tbody>\n",
       "</table>\n",
       "</div>"
      ],
      "text/plain": [
       "                                                 App        Category  Rating  \\\n",
       "0     Photo Editor & Candy Camera & Grid & ScrapBook  ART_AND_DESIGN     4.1   \n",
       "1                                Coloring book moana  ART_AND_DESIGN     3.9   \n",
       "2  U Launcher Lite – FREE Live Cool Themes, Hide ...  ART_AND_DESIGN     4.7   \n",
       "3                              Sketch - Draw & Paint  ART_AND_DESIGN     4.5   \n",
       "4              Pixel Draw - Number Art Coloring Book  ART_AND_DESIGN     4.3   \n",
       "\n",
       "  Reviews  Size     Installs  Type Price Content Rating  \\\n",
       "0     159   19M      10,000+  Free     0       Everyone   \n",
       "1     967   14M     500,000+  Free     0       Everyone   \n",
       "2   87510  8.7M   5,000,000+  Free     0       Everyone   \n",
       "3  215644   25M  50,000,000+  Free     0           Teen   \n",
       "4     967  2.8M     100,000+  Free     0       Everyone   \n",
       "\n",
       "                      Genres      Last Updated         Current Ver  \\\n",
       "0               Art & Design   January 7, 2018               1.0.0   \n",
       "1  Art & Design;Pretend Play  January 15, 2018               2.0.0   \n",
       "2               Art & Design    August 1, 2018               1.2.4   \n",
       "3               Art & Design      June 8, 2018  Varies with device   \n",
       "4    Art & Design;Creativity     June 20, 2018                 1.1   \n",
       "\n",
       "    Android Ver  \n",
       "0  4.0.3 and up  \n",
       "1  4.0.3 and up  \n",
       "2  4.0.3 and up  \n",
       "3    4.2 and up  \n",
       "4    4.4 and up  "
      ]
     },
     "execution_count": 484,
     "metadata": {},
     "output_type": "execute_result"
    }
   ],
   "source": [
    "# Use pandas read_csv() method to read the csv and display first 5 records\n",
    "google_store = pd.read_csv('googleplaystore.csv')\n",
    "google_store.head()"
   ]
  },
  {
   "cell_type": "code",
   "execution_count": 485,
   "id": "dc07bd2c-95f6-4cc2-b390-b200aeb95b58",
   "metadata": {},
   "outputs": [
    {
     "data": {
      "text/html": [
       "<div>\n",
       "<style scoped>\n",
       "    .dataframe tbody tr th:only-of-type {\n",
       "        vertical-align: middle;\n",
       "    }\n",
       "\n",
       "    .dataframe tbody tr th {\n",
       "        vertical-align: top;\n",
       "    }\n",
       "\n",
       "    .dataframe thead th {\n",
       "        text-align: right;\n",
       "    }\n",
       "</style>\n",
       "<table border=\"1\" class=\"dataframe\">\n",
       "  <thead>\n",
       "    <tr style=\"text-align: right;\">\n",
       "      <th></th>\n",
       "      <th>App</th>\n",
       "      <th>Translated_Review</th>\n",
       "      <th>Sentiment</th>\n",
       "      <th>Sentiment_Polarity</th>\n",
       "      <th>Sentiment_Subjectivity</th>\n",
       "    </tr>\n",
       "  </thead>\n",
       "  <tbody>\n",
       "    <tr>\n",
       "      <th>0</th>\n",
       "      <td>10 Best Foods for You</td>\n",
       "      <td>I like eat delicious food. That's I'm cooking ...</td>\n",
       "      <td>Positive</td>\n",
       "      <td>1.00</td>\n",
       "      <td>0.533333</td>\n",
       "    </tr>\n",
       "    <tr>\n",
       "      <th>1</th>\n",
       "      <td>10 Best Foods for You</td>\n",
       "      <td>This help eating healthy exercise regular basis</td>\n",
       "      <td>Positive</td>\n",
       "      <td>0.25</td>\n",
       "      <td>0.288462</td>\n",
       "    </tr>\n",
       "    <tr>\n",
       "      <th>2</th>\n",
       "      <td>10 Best Foods for You</td>\n",
       "      <td>NaN</td>\n",
       "      <td>NaN</td>\n",
       "      <td>NaN</td>\n",
       "      <td>NaN</td>\n",
       "    </tr>\n",
       "    <tr>\n",
       "      <th>3</th>\n",
       "      <td>10 Best Foods for You</td>\n",
       "      <td>Works great especially going grocery store</td>\n",
       "      <td>Positive</td>\n",
       "      <td>0.40</td>\n",
       "      <td>0.875000</td>\n",
       "    </tr>\n",
       "    <tr>\n",
       "      <th>4</th>\n",
       "      <td>10 Best Foods for You</td>\n",
       "      <td>Best idea us</td>\n",
       "      <td>Positive</td>\n",
       "      <td>1.00</td>\n",
       "      <td>0.300000</td>\n",
       "    </tr>\n",
       "  </tbody>\n",
       "</table>\n",
       "</div>"
      ],
      "text/plain": [
       "                     App                                  Translated_Review  \\\n",
       "0  10 Best Foods for You  I like eat delicious food. That's I'm cooking ...   \n",
       "1  10 Best Foods for You    This help eating healthy exercise regular basis   \n",
       "2  10 Best Foods for You                                                NaN   \n",
       "3  10 Best Foods for You         Works great especially going grocery store   \n",
       "4  10 Best Foods for You                                       Best idea us   \n",
       "\n",
       "  Sentiment  Sentiment_Polarity  Sentiment_Subjectivity  \n",
       "0  Positive                1.00                0.533333  \n",
       "1  Positive                0.25                0.288462  \n",
       "2       NaN                 NaN                     NaN  \n",
       "3  Positive                0.40                0.875000  \n",
       "4  Positive                1.00                0.300000  "
      ]
     },
     "execution_count": 485,
     "metadata": {},
     "output_type": "execute_result"
    }
   ],
   "source": [
    "# Use pandas read_csv() method to read the csv and display first 5 records\n",
    "google_store_reviews = pd.read_csv('googleplaystore_user_reviews.csv')\n",
    "google_store_reviews.head()"
   ]
  },
  {
   "cell_type": "markdown",
   "id": "b593675d-00e0-45b7-b168-8a05c4f1e4a4",
   "metadata": {
    "jp-MarkdownHeadingCollapsed": true
   },
   "source": [
    "## Data Cleaning \n",
    "\n",
    "Certain checks can be done on the dataset to see if there are any NaN, null or duplicated values that need to be dealt with before beginning to analyse the data and draw insights. "
   ]
  },
  {
   "cell_type": "markdown",
   "id": "b12adc53-b0dc-4c2c-8cbf-89527b522b26",
   "metadata": {
    "jp-MarkdownHeadingCollapsed": true
   },
   "source": [
    "### google_store - Data Cleaning"
   ]
  },
  {
   "cell_type": "code",
   "execution_count": 486,
   "id": "40e3324a-d5cc-4aea-ac37-97de4b5c9e80",
   "metadata": {},
   "outputs": [
    {
     "data": {
      "text/plain": [
       "483"
      ]
     },
     "execution_count": 486,
     "metadata": {},
     "output_type": "execute_result"
    }
   ],
   "source": [
    "# Check to see the total number of duplicates in the google_store dataset\n",
    "google_store.duplicated().sum()"
   ]
  },
  {
   "cell_type": "code",
   "execution_count": 487,
   "id": "560c51f4-8616-4edb-8628-653f2b80f48e",
   "metadata": {},
   "outputs": [],
   "source": [
    "# Drop the duplicates and assign the result to a new variable\n",
    "google_store_no_duplicates = google_store.drop_duplicates()"
   ]
  },
  {
   "cell_type": "code",
   "execution_count": 488,
   "id": "95766de9-45ea-4252-8036-075e10557ac9",
   "metadata": {},
   "outputs": [
    {
     "data": {
      "text/plain": [
       "App                  0\n",
       "Category             0\n",
       "Rating            1465\n",
       "Reviews              0\n",
       "Size                 0\n",
       "Installs             0\n",
       "Type                 1\n",
       "Price                0\n",
       "Content Rating       1\n",
       "Genres               0\n",
       "Last Updated         0\n",
       "Current Ver          8\n",
       "Android Ver          3\n",
       "dtype: int64"
      ]
     },
     "execution_count": 488,
     "metadata": {},
     "output_type": "execute_result"
    }
   ],
   "source": [
    "# Check to see the total number of null values in the google_store dataset\n",
    "google_store_no_duplicates.isnull().sum()"
   ]
  },
  {
   "cell_type": "code",
   "execution_count": 489,
   "id": "595a9574-f208-4d84-884e-fbd68e47aa5e",
   "metadata": {},
   "outputs": [
    {
     "data": {
      "text/plain": [
       "App                  0\n",
       "Category             0\n",
       "Rating            1465\n",
       "Reviews              0\n",
       "Size                 0\n",
       "Installs             0\n",
       "Type                 1\n",
       "Price                0\n",
       "Content Rating       1\n",
       "Genres               0\n",
       "Last Updated         0\n",
       "Current Ver          8\n",
       "Android Ver          3\n",
       "dtype: int64"
      ]
     },
     "execution_count": 489,
     "metadata": {},
     "output_type": "execute_result"
    }
   ],
   "source": [
    "# Check to see the total number of NaN values in the google_store dataset\n",
    "google_store_no_duplicates.isna().sum()"
   ]
  },
  {
   "cell_type": "code",
   "execution_count": 490,
   "id": "940b9991-1224-4e13-823d-1e104631981d",
   "metadata": {},
   "outputs": [],
   "source": [
    "# Drop the NaN values and assign the result to a new variable\n",
    "google_store_no_nan = google_store_no_duplicates.dropna()"
   ]
  },
  {
   "cell_type": "code",
   "execution_count": 491,
   "id": "3b67eac3-7480-4be2-b60c-a24b3962ff57",
   "metadata": {},
   "outputs": [],
   "source": [
    "# Remove the '+' symbol character from 'Installs' coulmn\n",
    "google_store_no_nan.loc[:,'Installs'] = google_store_no_nan['Installs'].str.replace('+', '')\n",
    "\n",
    "# Remove the ',' character from the 'Installs' column\n",
    "google_store_no_nan.loc[:,'Installs'] = google_store_no_nan['Installs'].str.replace(',', '')\n",
    "\n",
    "# Convert the 'Installs' column to an integer\n",
    "google_store_no_nan.loc[:,'Installs'] = google_store_no_nan['Installs'].astype(int)"
   ]
  },
  {
   "cell_type": "code",
   "execution_count": 492,
   "id": "e491e6a0-f89f-46a7-9b58-190ac21ad994",
   "metadata": {},
   "outputs": [],
   "source": [
    "# Assign the cleaned dataset to a new variable\n",
    "google_store_cleaned = google_store_no_nan"
   ]
  },
  {
   "cell_type": "code",
   "execution_count": 493,
   "id": "83dd85ae-fc7a-47d6-87e3-a7fc36c2340a",
   "metadata": {},
   "outputs": [
    {
     "data": {
      "text/html": [
       "<div>\n",
       "<style scoped>\n",
       "    .dataframe tbody tr th:only-of-type {\n",
       "        vertical-align: middle;\n",
       "    }\n",
       "\n",
       "    .dataframe tbody tr th {\n",
       "        vertical-align: top;\n",
       "    }\n",
       "\n",
       "    .dataframe thead th {\n",
       "        text-align: right;\n",
       "    }\n",
       "</style>\n",
       "<table border=\"1\" class=\"dataframe\">\n",
       "  <thead>\n",
       "    <tr style=\"text-align: right;\">\n",
       "      <th></th>\n",
       "      <th>App</th>\n",
       "      <th>Category</th>\n",
       "      <th>Rating</th>\n",
       "      <th>Reviews</th>\n",
       "      <th>Size</th>\n",
       "      <th>Installs</th>\n",
       "      <th>Type</th>\n",
       "      <th>Price</th>\n",
       "      <th>Content Rating</th>\n",
       "      <th>Genres</th>\n",
       "      <th>Last Updated</th>\n",
       "      <th>Current Ver</th>\n",
       "      <th>Android Ver</th>\n",
       "    </tr>\n",
       "  </thead>\n",
       "  <tbody>\n",
       "    <tr>\n",
       "      <th>0</th>\n",
       "      <td>Photo Editor &amp; Candy Camera &amp; Grid &amp; ScrapBook</td>\n",
       "      <td>ART_AND_DESIGN</td>\n",
       "      <td>4.1</td>\n",
       "      <td>159</td>\n",
       "      <td>19M</td>\n",
       "      <td>10000</td>\n",
       "      <td>Free</td>\n",
       "      <td>0</td>\n",
       "      <td>Everyone</td>\n",
       "      <td>Art &amp; Design</td>\n",
       "      <td>January 7, 2018</td>\n",
       "      <td>1.0.0</td>\n",
       "      <td>4.0.3 and up</td>\n",
       "    </tr>\n",
       "    <tr>\n",
       "      <th>1</th>\n",
       "      <td>Coloring book moana</td>\n",
       "      <td>ART_AND_DESIGN</td>\n",
       "      <td>3.9</td>\n",
       "      <td>967</td>\n",
       "      <td>14M</td>\n",
       "      <td>500000</td>\n",
       "      <td>Free</td>\n",
       "      <td>0</td>\n",
       "      <td>Everyone</td>\n",
       "      <td>Art &amp; Design;Pretend Play</td>\n",
       "      <td>January 15, 2018</td>\n",
       "      <td>2.0.0</td>\n",
       "      <td>4.0.3 and up</td>\n",
       "    </tr>\n",
       "    <tr>\n",
       "      <th>2</th>\n",
       "      <td>U Launcher Lite – FREE Live Cool Themes, Hide ...</td>\n",
       "      <td>ART_AND_DESIGN</td>\n",
       "      <td>4.7</td>\n",
       "      <td>87510</td>\n",
       "      <td>8.7M</td>\n",
       "      <td>5000000</td>\n",
       "      <td>Free</td>\n",
       "      <td>0</td>\n",
       "      <td>Everyone</td>\n",
       "      <td>Art &amp; Design</td>\n",
       "      <td>August 1, 2018</td>\n",
       "      <td>1.2.4</td>\n",
       "      <td>4.0.3 and up</td>\n",
       "    </tr>\n",
       "    <tr>\n",
       "      <th>3</th>\n",
       "      <td>Sketch - Draw &amp; Paint</td>\n",
       "      <td>ART_AND_DESIGN</td>\n",
       "      <td>4.5</td>\n",
       "      <td>215644</td>\n",
       "      <td>25M</td>\n",
       "      <td>50000000</td>\n",
       "      <td>Free</td>\n",
       "      <td>0</td>\n",
       "      <td>Teen</td>\n",
       "      <td>Art &amp; Design</td>\n",
       "      <td>June 8, 2018</td>\n",
       "      <td>Varies with device</td>\n",
       "      <td>4.2 and up</td>\n",
       "    </tr>\n",
       "    <tr>\n",
       "      <th>4</th>\n",
       "      <td>Pixel Draw - Number Art Coloring Book</td>\n",
       "      <td>ART_AND_DESIGN</td>\n",
       "      <td>4.3</td>\n",
       "      <td>967</td>\n",
       "      <td>2.8M</td>\n",
       "      <td>100000</td>\n",
       "      <td>Free</td>\n",
       "      <td>0</td>\n",
       "      <td>Everyone</td>\n",
       "      <td>Art &amp; Design;Creativity</td>\n",
       "      <td>June 20, 2018</td>\n",
       "      <td>1.1</td>\n",
       "      <td>4.4 and up</td>\n",
       "    </tr>\n",
       "  </tbody>\n",
       "</table>\n",
       "</div>"
      ],
      "text/plain": [
       "                                                 App        Category  Rating  \\\n",
       "0     Photo Editor & Candy Camera & Grid & ScrapBook  ART_AND_DESIGN     4.1   \n",
       "1                                Coloring book moana  ART_AND_DESIGN     3.9   \n",
       "2  U Launcher Lite – FREE Live Cool Themes, Hide ...  ART_AND_DESIGN     4.7   \n",
       "3                              Sketch - Draw & Paint  ART_AND_DESIGN     4.5   \n",
       "4              Pixel Draw - Number Art Coloring Book  ART_AND_DESIGN     4.3   \n",
       "\n",
       "  Reviews  Size  Installs  Type Price Content Rating  \\\n",
       "0     159   19M     10000  Free     0       Everyone   \n",
       "1     967   14M    500000  Free     0       Everyone   \n",
       "2   87510  8.7M   5000000  Free     0       Everyone   \n",
       "3  215644   25M  50000000  Free     0           Teen   \n",
       "4     967  2.8M    100000  Free     0       Everyone   \n",
       "\n",
       "                      Genres      Last Updated         Current Ver  \\\n",
       "0               Art & Design   January 7, 2018               1.0.0   \n",
       "1  Art & Design;Pretend Play  January 15, 2018               2.0.0   \n",
       "2               Art & Design    August 1, 2018               1.2.4   \n",
       "3               Art & Design      June 8, 2018  Varies with device   \n",
       "4    Art & Design;Creativity     June 20, 2018                 1.1   \n",
       "\n",
       "    Android Ver  \n",
       "0  4.0.3 and up  \n",
       "1  4.0.3 and up  \n",
       "2  4.0.3 and up  \n",
       "3    4.2 and up  \n",
       "4    4.4 and up  "
      ]
     },
     "execution_count": 493,
     "metadata": {},
     "output_type": "execute_result"
    }
   ],
   "source": [
    "google_store_cleaned.head()"
   ]
  },
  {
   "cell_type": "markdown",
   "id": "175d34c0-1000-4e3e-ad49-b501b9788711",
   "metadata": {},
   "source": [
    "The **google_store_cleaned** variable now contains the cleaned dataset that does not include duplicated records or null records. It was important to drop the null and NaN records in the rating because this would skew the insights when making plots. The string characters were also removed from the 'Installs' column which was neccessary as the integer value would be used for analysis only. "
   ]
  },
  {
   "cell_type": "markdown",
   "id": "0a952dc5-571d-4516-81be-3fc26cfccfe0",
   "metadata": {
    "jp-MarkdownHeadingCollapsed": true
   },
   "source": [
    "### google_store_reviews - Data Cleaning"
   ]
  },
  {
   "cell_type": "code",
   "execution_count": 494,
   "id": "28cf56fd-b927-4f99-a5f1-e5db3833d7cc",
   "metadata": {},
   "outputs": [
    {
     "data": {
      "text/plain": [
       "33616"
      ]
     },
     "execution_count": 494,
     "metadata": {},
     "output_type": "execute_result"
    }
   ],
   "source": [
    "# Check to see the total number of duplicates in the google_store_reviews dataset\n",
    "google_store_reviews.duplicated().sum()"
   ]
  },
  {
   "cell_type": "code",
   "execution_count": 495,
   "id": "fd0c0ef6-9d5e-480c-84ea-2c776a96404f",
   "metadata": {},
   "outputs": [],
   "source": [
    "# Drop the duplicates and assign the result to a new variable\n",
    "google_store_reviews_no_duplicates = google_store_reviews.drop_duplicates()"
   ]
  },
  {
   "cell_type": "code",
   "execution_count": 496,
   "id": "c83ada07-4f56-4afa-9942-1667ddf5910f",
   "metadata": {},
   "outputs": [
    {
     "data": {
      "text/plain": [
       "App                         0\n",
       "Translated_Review         987\n",
       "Sentiment                 982\n",
       "Sentiment_Polarity        982\n",
       "Sentiment_Subjectivity    982\n",
       "dtype: int64"
      ]
     },
     "execution_count": 496,
     "metadata": {},
     "output_type": "execute_result"
    }
   ],
   "source": [
    "# Check to see the total number of null values\n",
    "google_store_reviews_no_duplicates.isnull().sum()"
   ]
  },
  {
   "cell_type": "code",
   "execution_count": 497,
   "id": "d10ad88d-88bb-4aff-a143-3c57a5b02d27",
   "metadata": {},
   "outputs": [
    {
     "data": {
      "text/plain": [
       "App                         0\n",
       "Translated_Review         987\n",
       "Sentiment                 982\n",
       "Sentiment_Polarity        982\n",
       "Sentiment_Subjectivity    982\n",
       "dtype: int64"
      ]
     },
     "execution_count": 497,
     "metadata": {},
     "output_type": "execute_result"
    }
   ],
   "source": [
    "# Check to see the total number of NaN values\n",
    "google_store_reviews_no_duplicates.isna().sum()"
   ]
  },
  {
   "cell_type": "code",
   "execution_count": 498,
   "id": "4bed5f72-b747-4e5c-a602-5dfc5d15ec70",
   "metadata": {},
   "outputs": [],
   "source": [
    "# Drop the NaN values and assign the result to a new variable\n",
    "google_store_reviews_cleaned = google_store_reviews_no_duplicates.dropna()"
   ]
  },
  {
   "cell_type": "code",
   "execution_count": 499,
   "id": "ed82d1b3-b49f-4464-9e19-7c641e8ae1e7",
   "metadata": {},
   "outputs": [],
   "source": [
    "# Select entire Sentiment Polarity and Sentiment Subjectivity columns and round the values to 2.d.p\n",
    "google_store_reviews_cleaned.loc[:, 'Sentiment_Polarity'] = google_store_reviews_cleaned['Sentiment_Polarity'].round(2)\n",
    "google_store_reviews_cleaned.loc[:, 'Sentiment_Subjectivity'] = google_store_reviews_cleaned['Sentiment_Subjectivity'].round(2)"
   ]
  },
  {
   "cell_type": "code",
   "execution_count": 500,
   "id": "2172d05b-f462-48ff-af32-39d0ee17798d",
   "metadata": {},
   "outputs": [
    {
     "data": {
      "text/html": [
       "<div>\n",
       "<style scoped>\n",
       "    .dataframe tbody tr th:only-of-type {\n",
       "        vertical-align: middle;\n",
       "    }\n",
       "\n",
       "    .dataframe tbody tr th {\n",
       "        vertical-align: top;\n",
       "    }\n",
       "\n",
       "    .dataframe thead th {\n",
       "        text-align: right;\n",
       "    }\n",
       "</style>\n",
       "<table border=\"1\" class=\"dataframe\">\n",
       "  <thead>\n",
       "    <tr style=\"text-align: right;\">\n",
       "      <th></th>\n",
       "      <th>App</th>\n",
       "      <th>Translated_Review</th>\n",
       "      <th>Sentiment</th>\n",
       "      <th>Sentiment_Polarity</th>\n",
       "      <th>Sentiment_Subjectivity</th>\n",
       "    </tr>\n",
       "  </thead>\n",
       "  <tbody>\n",
       "    <tr>\n",
       "      <th>0</th>\n",
       "      <td>10 Best Foods for You</td>\n",
       "      <td>I like eat delicious food. That's I'm cooking ...</td>\n",
       "      <td>Positive</td>\n",
       "      <td>1.00</td>\n",
       "      <td>0.53</td>\n",
       "    </tr>\n",
       "    <tr>\n",
       "      <th>1</th>\n",
       "      <td>10 Best Foods for You</td>\n",
       "      <td>This help eating healthy exercise regular basis</td>\n",
       "      <td>Positive</td>\n",
       "      <td>0.25</td>\n",
       "      <td>0.29</td>\n",
       "    </tr>\n",
       "    <tr>\n",
       "      <th>3</th>\n",
       "      <td>10 Best Foods for You</td>\n",
       "      <td>Works great especially going grocery store</td>\n",
       "      <td>Positive</td>\n",
       "      <td>0.40</td>\n",
       "      <td>0.88</td>\n",
       "    </tr>\n",
       "    <tr>\n",
       "      <th>4</th>\n",
       "      <td>10 Best Foods for You</td>\n",
       "      <td>Best idea us</td>\n",
       "      <td>Positive</td>\n",
       "      <td>1.00</td>\n",
       "      <td>0.30</td>\n",
       "    </tr>\n",
       "    <tr>\n",
       "      <th>5</th>\n",
       "      <td>10 Best Foods for You</td>\n",
       "      <td>Best way</td>\n",
       "      <td>Positive</td>\n",
       "      <td>1.00</td>\n",
       "      <td>0.30</td>\n",
       "    </tr>\n",
       "  </tbody>\n",
       "</table>\n",
       "</div>"
      ],
      "text/plain": [
       "                     App                                  Translated_Review  \\\n",
       "0  10 Best Foods for You  I like eat delicious food. That's I'm cooking ...   \n",
       "1  10 Best Foods for You    This help eating healthy exercise regular basis   \n",
       "3  10 Best Foods for You         Works great especially going grocery store   \n",
       "4  10 Best Foods for You                                       Best idea us   \n",
       "5  10 Best Foods for You                                           Best way   \n",
       "\n",
       "  Sentiment  Sentiment_Polarity  Sentiment_Subjectivity  \n",
       "0  Positive                1.00                    0.53  \n",
       "1  Positive                0.25                    0.29  \n",
       "3  Positive                0.40                    0.88  \n",
       "4  Positive                1.00                    0.30  \n",
       "5  Positive                1.00                    0.30  "
      ]
     },
     "execution_count": 500,
     "metadata": {},
     "output_type": "execute_result"
    }
   ],
   "source": [
    "google_store_reviews_cleaned.head()"
   ]
  },
  {
   "cell_type": "markdown",
   "id": "9fd82e63-c597-444b-b4ab-f042ed8869f9",
   "metadata": {},
   "source": [
    "The **google_store_reviews_cleaned** variable now contains the cleaned dataset. The dataset for the google reviews showed the 'Most Relevant' 100 reviews for each app. There are records with complete NaN entries in them - one reason could be that certain apps do not have 100 reviews in total, in any case, there are records that are entered that are of complete NaN values that have to be removed. To keep uniformity and consistency, the float number for the 'Sentiment Polarity' and 'Sentiment Subjectivity' is standardised to 2.d.p."
   ]
  },
  {
   "cell_type": "markdown",
   "id": "2f1651b2-88cb-4048-b1dd-ee502af7b745",
   "metadata": {},
   "source": [
    "Further cleaning can be performed so that every column can be fit for analysis, however, I have only cleaned the data that shall appear in the following visualisations."
   ]
  },
  {
   "cell_type": "markdown",
   "id": "bc128791-eb97-4fa6-bb3f-81f9d8e25414",
   "metadata": {},
   "source": [
    "## Visualisations"
   ]
  },
  {
   "cell_type": "markdown",
   "id": "d1e7c18e-c743-4018-be24-fe79a6fbf4ed",
   "metadata": {
    "jp-MarkdownHeadingCollapsed": true
   },
   "source": [
    "### Average Number of Installs vs Type of App\n",
    "\n",
    "I will compare the average number of installs with the type of app it is to see what the data suggests, whether applications that are free or paid result in a greater number of installs. "
   ]
  },
  {
   "cell_type": "markdown",
   "id": "dce2a1cc-a58d-402c-93a8-f4cb9cae6f57",
   "metadata": {
    "jp-MarkdownHeadingCollapsed": true
   },
   "source": [
    "#### Analysis"
   ]
  },
  {
   "cell_type": "code",
   "execution_count": 501,
   "id": "4e8dc266-dacc-4601-a519-03836f52985d",
   "metadata": {},
   "outputs": [],
   "source": [
    "# Calculate the average number of installs for both types of app and assign these to variables\n",
    "avg_installs_free = google_store_cleaned[google_store_cleaned['Type'] == 'Free']['Installs'].mean()\n",
    "avg_installs_paid = google_store_cleaned[google_store_cleaned['Type'] == 'Paid']['Installs'].mean()"
   ]
  },
  {
   "cell_type": "code",
   "execution_count": 502,
   "id": "0f57f19f-23a2-4d92-b9b3-4d46ca310f71",
   "metadata": {},
   "outputs": [],
   "source": [
    "# Create a new dataframe with the type of app and the average number of installs\n",
    "avg_installs_df = pd.DataFrame({'Type': ['Free', 'Paid'], 'Average_Installs': [avg_installs_free, avg_installs_paid]})"
   ]
  },
  {
   "cell_type": "code",
   "execution_count": 503,
   "id": "fb2f30a6-3f43-4795-8561-f728fde45e4f",
   "metadata": {},
   "outputs": [
    {
     "data": {
      "text/plain": [
       "[Text(0.5, 1.0, 'Average Number of Installs vs Type of App'),\n",
       " Text(0.5, 0, 'Type of App'),\n",
       " Text(0, 0.5, 'Average Number of Installs (*e7)')]"
      ]
     },
     "execution_count": 503,
     "metadata": {},
     "output_type": "execute_result"
    },
    {
     "data": {
      "image/png": "[encoded data removed]",
      "text/plain": [
       "<Figure size 700x600 with 1 Axes>"
      ]
     },
     "metadata": {},
     "output_type": "display_data"
    }
   ],
   "source": [
    "# Plot a barplot using seaborn, catergorise by type, change the colour palette and set the title and labels\n",
    "# Use matplotlob to set the size \n",
    "plt.figure(figsize=(7, 6))\n",
    "sns.barplot(x='Type', y='Average_Installs', data=avg_installs_df, hue='Type', palette=('lightblue', 'darkblue')).set(\n",
    "    title='Average Number of Installs vs Type of App', \n",
    "    xlabel='Type of App', \n",
    "    ylabel='Average Number of Installs (*e7)')"
   ]
  },
  {
   "cell_type": "markdown",
   "id": "06b0e4f2-1bcd-4bd8-b8f9-30e543338e5b",
   "metadata": {
    "jp-MarkdownHeadingCollapsed": true
   },
   "source": [
    "#### Conclusion"
   ]
  },
  {
   "cell_type": "markdown",
   "id": "4725fdce-966c-4642-bab4-c7bb9e289052",
   "metadata": {
    "jp-MarkdownHeadingCollapsed": true
   },
   "source": [
    "The data shows an overwhelmingly dominant result for free apps. The data clearly demonstrates that apps which are free result in a greater number of installations when compared against paid apps. There is no data here to suggest that the free apps will be more profitable or to a higher degree of user satisfaction, but conclusions can be made due to the tremendous gap that shows that businesses should look to increase user engagement by focusing on developing apps that are free, which would lead to more installations and then strategizing monetisation from there. This includes in-app purchases or targeted ads as an example."
   ]
  },
  {
   "cell_type": "markdown",
   "id": "a816ca72-56ca-4b8c-9ea5-542627da5e54",
   "metadata": {
    "jp-MarkdownHeadingCollapsed": true
   },
   "source": [
    "### Average Ratings across all Categories \n",
    "\n",
    "I will compare the distribution of ratings across all the categories to compare what category of application tends to do well by receiving higher ratings and what category does not perform well by receiving lower ratings on the Google Play Store."
   ]
  },
  {
   "cell_type": "markdown",
   "id": "e7340120-46f7-4d97-90e4-ccc28f8dc36e",
   "metadata": {
    "jp-MarkdownHeadingCollapsed": true
   },
   "source": [
    "#### Analysis"
   ]
  },
  {
   "cell_type": "code",
   "execution_count": 504,
   "id": "d45ea9e2-9521-404f-8bf8-0780fc6a887d",
   "metadata": {},
   "outputs": [
    {
     "data": {
      "text/html": [
       "<div>\n",
       "<style scoped>\n",
       "    .dataframe tbody tr th:only-of-type {\n",
       "        vertical-align: middle;\n",
       "    }\n",
       "\n",
       "    .dataframe tbody tr th {\n",
       "        vertical-align: top;\n",
       "    }\n",
       "\n",
       "    .dataframe thead th {\n",
       "        text-align: right;\n",
       "    }\n",
       "</style>\n",
       "<table border=\"1\" class=\"dataframe\">\n",
       "  <thead>\n",
       "    <tr style=\"text-align: right;\">\n",
       "      <th></th>\n",
       "      <th>Category</th>\n",
       "      <th>Rating</th>\n",
       "    </tr>\n",
       "  </thead>\n",
       "  <tbody>\n",
       "    <tr>\n",
       "      <th>0</th>\n",
       "      <td>ART_AND_DESIGN</td>\n",
       "      <td>4.377049</td>\n",
       "    </tr>\n",
       "    <tr>\n",
       "      <th>1</th>\n",
       "      <td>AUTO_AND_VEHICLES</td>\n",
       "      <td>4.190411</td>\n",
       "    </tr>\n",
       "    <tr>\n",
       "      <th>2</th>\n",
       "      <td>BEAUTY</td>\n",
       "      <td>4.278571</td>\n",
       "    </tr>\n",
       "    <tr>\n",
       "      <th>3</th>\n",
       "      <td>BOOKS_AND_REFERENCE</td>\n",
       "      <td>4.347458</td>\n",
       "    </tr>\n",
       "    <tr>\n",
       "      <th>4</th>\n",
       "      <td>BUSINESS</td>\n",
       "      <td>4.102593</td>\n",
       "    </tr>\n",
       "  </tbody>\n",
       "</table>\n",
       "</div>"
      ],
      "text/plain": [
       "              Category    Rating\n",
       "0       ART_AND_DESIGN  4.377049\n",
       "1    AUTO_AND_VEHICLES  4.190411\n",
       "2               BEAUTY  4.278571\n",
       "3  BOOKS_AND_REFERENCE  4.347458\n",
       "4             BUSINESS  4.102593"
      ]
     },
     "execution_count": 504,
     "metadata": {},
     "output_type": "execute_result"
    }
   ],
   "source": [
    "# Calculate the average rating grouped by category and create a new dataframe to hold this data\n",
    "avg_rating_by_category = google_store_cleaned.groupby('Category')['Rating'].mean().reset_index()\n",
    "avg_rating_by_category.head()"
   ]
  },
  {
   "cell_type": "code",
   "execution_count": 505,
   "id": "5d603ea9-8dd0-4a83-bd4b-3c4b81bef6ac",
   "metadata": {},
   "outputs": [
    {
     "data": {
      "text/plain": [
       "([<matplotlib.axis.XTick at 0x1d05ea44590>,\n",
       "  <matplotlib.axis.XTick at 0x1d05ea47e60>,\n",
       "  <matplotlib.axis.XTick at 0x1d05a8d6a20>],\n",
       " [Text(3.5, 0, '3.5'), Text(4.0, 0, '4.0'), Text(4.5, 0, '4.5')])"
      ]
     },
     "execution_count": 505,
     "metadata": {},
     "output_type": "execute_result"
    },
    {
     "data": {
      "image/png": "[encoded data removed]",
      "text/plain": [
       "<Figure size 700x600 with 1 Axes>"
      ]
     },
     "metadata": {},
     "output_type": "display_data"
    }
   ],
   "source": [
    "# Plot a barplot using seaborn, change the colour palette and set the title and labels\n",
    "# Use matplotlob to set the size, change the range of the x values and set the new ticks\n",
    "plt.figure(figsize=(7, 6))\n",
    "sns.barplot(x='Rating', y='Category', data=avg_rating_by_category, hue=\"Category\", palette=('darkblue', 'lightblue')).set(\n",
    "    title='Average Ratings by Category',\n",
    "    xlabel='Average Rating',\n",
    "    ylabel='Category'\n",
    ")\n",
    "plt.xlim(3.5, 4.5)\n",
    "plt.xticks([3.5, 4, 4.5])"
   ]
  },
  {
   "cell_type": "markdown",
   "id": "ced78fc6-9d34-4750-bc30-f172471bc6e5",
   "metadata": {
    "jp-MarkdownHeadingCollapsed": true
   },
   "source": [
    "#### Conclusion"
   ]
  },
  {
   "cell_type": "markdown",
   "id": "e76587c2-a12e-4619-b3a2-e35108e841b5",
   "metadata": {},
   "source": [
    "The data shows that the best rated apps by users are from the 'Events' category. Other apps that rated highly came from categories that include 'Education' and 'Art and Design'. The lowest rated apps came from the 'Dating' category and other lower rated apps came from categories that include 'Maps and Navigation', 'Tools' and 'Video Players'. Using this data, businesses can make informed decisions on the higher user rated apps they can develop, invest in or place targerted advertisements inside. Business can also see the lower rated apps and use the user feedback to develop apps that would do well in those those categories or producde updates to satisfy user concerns. "
   ]
  },
  {
   "cell_type": "markdown",
   "id": "fbeb41ff-3a02-4511-9876-2707958eb15d",
   "metadata": {},
   "source": [
    "### Distribution of Sentiment by Users"
   ]
  },
  {
   "cell_type": "code",
   "execution_count": 506,
   "id": "6098605a-8657-4746-9fa3-210f1686cbf9",
   "metadata": {},
   "outputs": [
    {
     "data": {
      "text/plain": [
       "Sentiment\n",
       "Positive    19015\n",
       "Negative     6321\n",
       "Neutral      4356\n",
       "Name: count, dtype: int64"
      ]
     },
     "execution_count": 506,
     "metadata": {},
     "output_type": "execute_result"
    }
   ],
   "source": [
    "sentiment_counts = google_store_reviews_cleaned['Sentiment'].value_counts()\n",
    "sentiment_counts"
   ]
  },
  {
   "cell_type": "code",
   "execution_count": 507,
   "id": "68f364e9-33db-411a-baa1-7a518711e707",
   "metadata": {},
   "outputs": [
    {
     "data": {
      "text/plain": [
       "(-1.0999981296009962,\n",
       " 1.0999982442575758,\n",
       " -1.0999979082469276,\n",
       " 1.0999998327910452)"
      ]
     },
     "execution_count": 507,
     "metadata": {},
     "output_type": "execute_result"
    },
    {
     "data": {
      "image/png": "[encoded data removed]",
      "text/plain": [
       "<Figure size 800x600 with 1 Axes>"
      ]
     },
     "metadata": {},
     "output_type": "display_data"
    }
   ],
   "source": [
    "plt.figure(figsize=(8, 6))\n",
    "plt.pie(sentiment_counts, labels=sentiment_counts.index, autopct='%1.1f%%', startangle=140, colors=['skyblue', 'lightcoral', 'lightgreen'])\n",
    "plt.title('Distribution of Sentiment in User Reviews')\n",
    "plt.axis('equal')  # Equal aspect ratio ensures that pie is drawn as a circle"
   ]
  },
  {
   "cell_type": "code",
   "execution_count": 508,
   "id": "0ccd654a-8f3c-4b75-bc76-fe7a54a5be67",
   "metadata": {},
   "outputs": [],
   "source": [
    "merged_data = pd.merge(google_store_reviews_cleaned, google_store_cleaned[['App', 'Category']], on='App', how='inner')\n",
    "category_sentiment_counts = merged_data.groupby(['Category', 'Sentiment']).size().unstack(fill_value=0)"
   ]
  },
  {
   "cell_type": "code",
   "execution_count": null,
   "id": "c6c59fcc-b350-446a-b547-8ca941ef1d29",
   "metadata": {},
   "outputs": [],
   "source": [
    "polarity_count_by_category = pd.crosstab(merged_data['Category'], pd.cut(merged_data['Sentiment_Polarity'], bins=10))\n",
    "\n",
    "# Plotting with Seaborn\n",
    "plt.figure(figsize=(12, 8))\n",
    "\n",
    "# Create a heatmap of the crosstab table\n",
    "sns.heatmap(polarity_count_by_category, cmap='YlGnBu', annot=True, fmt='d')\n",
    "\n",
    "# Set labels and title\n",
    "plt.title('Sentiment Polarity Count by Category')\n",
    "plt.xlabel('Sentiment Polarity Range')\n",
    "plt.ylabel('Category')\n",
    "plt.xticks(rotation=45, ha='right')\n",
    "plt.tight_layout()\n",
    "plt.show()"
   ]
  },
  {
   "cell_type": "code",
   "execution_count": null,
   "id": "78c0a987-580c-4a83-91d0-a3ee33924130",
   "metadata": {},
   "outputs": [],
   "source": []
  }
 ],
 "metadata": {
  "kernelspec": {
   "display_name": "Python 3 (ipykernel)",
   "language": "python",
   "name": "python3"
  },
  "language_info": {
   "codemirror_mode": {
    "name": "ipython",
    "version": 3
   },
   "file_extension": ".py",
   "mimetype": "text/x-python",
   "name": "python",
   "nbconvert_exporter": "python",
   "pygments_lexer": "ipython3",
   "version": "3.12.2"
  }
 },
 "nbformat": 4,
 "nbformat_minor": 5
}
